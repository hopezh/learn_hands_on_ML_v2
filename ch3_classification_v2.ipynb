{
 "cells": [
  {
   "cell_type": "code",
   "execution_count": 1,
   "metadata": {},
   "outputs": [],
   "source": [
    "# check if python >= 3.5\n",
    "import sys\n",
    "assert sys.version_info >= (3, 5)\n",
    "\n",
    "# check if scikit-learn >= 0.20\n",
    "import sklearn\n",
    "assert sklearn.__version__ >= '0.20'\n",
    "\n",
    "# common import\n",
    "import numpy as np\n",
    "import os\n",
    "\n",
    "# set random seed\n",
    "np.random.seed(42)\n",
    "\n",
    "# plot pretty figure\n",
    "%matplotlib inline\n",
    "import matplotlib as mpl\n",
    "import matplotlib.pyplot as plt\n",
    "mpl.rc('axes', labelsize=14)\n",
    "mpl.rc('xtick', labelsize=12)\n",
    "mpl.rc('ytick', labelsize=12)\n",
    "\n",
    "# where to save figure\n",
    "project_root_dir = '.'\n",
    "chapter_name = 'classification'\n",
    "images_path = os.path.join(project_root_dir, 'images', chapter_name)\n",
    "os.makedirs(images_path, exist_ok=True)\n",
    "\n",
    "def save_fig(fig_id, \n",
    "             tight_layout=True, \n",
    "             fig_extension='png',\n",
    "             fig_resolution=300\n",
    "             ):\n",
    "    \n",
    "    fig_path = os.path.join(images_path, fig_id + '.' + fig_extension)\n",
    "    \n",
    "    print('saving figure', '\\t:', fig_id)\n",
    "    \n",
    "    if tight_layout:\n",
    "        plt.tight_layout()\n",
    "        \n",
    "    plt.savefig(fig_path, format=fig_extension, dpi=fig_resolution)"
   ]
  },
  {
   "cell_type": "markdown",
   "metadata": {
    "collapsed": true,
    "pycharm": {
     "name": "#%% md\n"
    }
   },
   "outputs": [],
   "source": [
    "# MNIST\n",
    "\n",
    "The MNIST dataset is a set of 70,000 handwritten digits. \n"
   ]
  },
  {
   "cell_type": "code",
   "execution_count": 1,
   "metadata": {
    "collapsed": false,
    "pycharm": {
     "is_executing": false,
     "name": "#%%\n"
    }
   },
   "outputs": [],
   "source": [
    "from sklearn.datasets import fetch_openml\n",
    "\n",
    "mnist = fetch_openml('mnist_784', version=1)\n",
    "mnist.keys()"
   ]
  },
  {
   "cell_type": "code",
   "execution_count": 15,
   "metadata": {
    "collapsed": false,
    "pycharm": {
     "is_executing": false,
     "name": "#%%\n"
    }
   },
   "outputs": [],
   "source": [
    "mnist_feature_names = mnist['feature_names']\n",
    "\n",
    "cnt = 1\n",
    "for feature in mnist_feature_names:\n",
    "    print('feature', str(cnt),'\\t:', feature)\n",
    "    cnt += 1\n",
    "    "
   ]
  },
  {
   "cell_type": "code",
   "execution_count": 3,
   "metadata": {
    "collapsed": false,
    "pycharm": {
     "is_executing": false,
     "name": "#%%\n"
    }
   },
   "outputs": [],
   "source": [
    "mnist_descr = mnist['DESCR']\n",
    "print(mnist_descr)"
   ]
  },
  {
   "cell_type": "code",
   "execution_count": 10,
   "metadata": {
    "collapsed": false,
    "pycharm": {
     "is_executing": false,
     "name": "#%%\n"
    }
   },
   "outputs": [],
   "source": [
    "mnist_details = mnist['details']\n",
    "#print(mnist_details)\n",
    "\n",
    "for key, value in mnist_details.items():\n",
    "    print(key, ':\\n', value, '\\n')\n",
    "    "
   ]
  },
  {
   "cell_type": "code",
   "execution_count": 12,
   "metadata": {
    "collapsed": false,
    "pycharm": {
     "is_executing": false,
     "name": "#%%\n"
    }
   },
   "outputs": [],
   "source": [
    "mnist_categories = mnist['categories']\n",
    "print(mnist_categories)\n"
   ]
  },
  {
   "cell_type": "code",
   "execution_count": 13,
   "metadata": {
    "collapsed": false,
    "pycharm": {
     "is_executing": false,
     "name": "#%%\n"
    }
   },
   "outputs": [],
   "source": [
    "mnist_url = mnist['url']\n",
    "print(mnist_url)\n"
   ]
  },
  {
   "cell_type": "code",
   "execution_count": 16,
   "metadata": {
    "collapsed": false,
    "pycharm": {
     "is_executing": false,
     "name": "#%%\n"
    }
   },
   "outputs": [],
   "source": [
    "# read in the data & target\n",
    "X, y = mnist['data'], mnist['target']\n",
    "\n",
    "print('X shape', '\\t:', X.shape)\n",
    "print('y shape', '\\t:', y.shape)"
   ]
  },
  {
   "cell_type": "code",
   "execution_count": 20,
   "metadata": {
    "collapsed": false,
    "pycharm": {
     "is_executing": false,
     "name": "#%%\n"
    }
   },
   "outputs": [],
   "source": [
    "# plot one digit\n",
    "import matplotlib as mpl\n",
    "import matplotlib.pyplot as plt\n",
    "\n",
    "# get the first row in 'data'\n",
    "some_digit = X[0]\n",
    "# reshape the row into a 2D array of 28 rows and 28 columns\n",
    "some_digit_image = some_digit.reshape(28, 28)\n",
    "print(some_digit_image)"
   ]
  },
  {
   "cell_type": "code",
   "execution_count": 21,
   "metadata": {
    "collapsed": false,
    "pycharm": {
     "is_executing": false,
     "name": "#%%\n"
    }
   },
   "outputs": [],
   "source": [
    "plt.imshow(some_digit_image,\n",
    "           cmap='binary')\n",
    "plt.axis('off')\n",
    "plt.show()"
   ]
  },
  {
   "cell_type": "code",
   "execution_count": 24,
   "metadata": {
    "collapsed": false,
    "pycharm": {
     "is_executing": false,
     "name": "#%%\n"
    }
   },
   "outputs": [],
   "source": [
    "# print the target value corresponding to X[0]\n",
    "print('y[0] is:')\n",
    "print(y[0])\n",
    "print('which is ', type(y[0]))\n"
   ]
  },
  {
   "cell_type": "code",
   "execution_count": 26,
   "metadata": {
    "collapsed": false,
    "pycharm": {
     "is_executing": false,
     "name": "#%%\n"
    }
   },
   "outputs": [],
   "source": [
    "# convert y into integer\n",
    "y = y.astype(np.uint8)\n",
    "print('after converting, y[0] is:')\n",
    "print(y[0])\n",
    "print('which is ', type(y[0]))\n"
   ]
  },
  {
   "cell_type": "code",
   "execution_count": 30,
   "metadata": {
    "collapsed": false,
    "pycharm": {
     "is_executing": false,
     "name": "#%%\n"
    }
   },
   "outputs": [],
   "source": [
    "# function to plot digits\n",
    "\n",
    "def plot_digits(instances, images_per_row=10, **options):\n",
    "    image_size = 28\n",
    "    images_per_row = min(len(instances), images_per_row)\n",
    "    images = [instance.reshape(image_size, image_size) for instance in instances]\n",
    "    n_rows = (len(instances) - 1) // images_per_row + 1\n",
    "    row_images = []\n",
    "    n_empty = n_rows * images_per_row - len(instances)\n",
    "    images.append(np.zeros((image_size, image_size * n_empty)))\n",
    "    \n",
    "    for row in range(n_rows):\n",
    "        r_images = images[row * images_per_row : (row + 1) * images_per_row]\n",
    "        row_images.append(np.concatenate(r_images, axis=1))\n",
    "    image = np.concatenate(row_images, axis=0)\n",
    "    plt.imshow(image, cmap=mpl.cm.binary, **options)\n",
    "    plt.axis('off')\n",
    "\n",
    "# plot digits \n",
    "\n",
    "plt.figure(figsize=(9,9))\n",
    "\n",
    "# get the first 200 rows (digits) from X\n",
    "example_images = X[:200]\n",
    "\n",
    "plot_digits(example_images, images_per_row=10)\n",
    "save_fig('the_first_200_digits')\n",
    "plt.show()"
   ]
  },
  {
   "cell_type": "code",
   "execution_count": 36,
   "metadata": {
    "collapsed": false,
    "pycharm": {
     "is_executing": false,
     "name": "#%%\n"
    }
   },
   "outputs": [],
   "source": [
    "# get the training and test data set\n",
    "X_train, X_test, y_train, y_test = X[:60000], X[60000:], y[:60000], y[60000:]\n"
   ]
  },
  {
   "cell_type": "code",
   "execution_count": 37,
   "metadata": {
    "collapsed": false,
    "pycharm": {
     "is_executing": false,
     "name": "#%%\n"
    }
   },
   "outputs": [],
   "source": [
    "# print the last digit in X_train\n",
    "the_last_digit_in_X_train = X_train[-1]\n",
    "the_last_digit_in_X_train_image = the_last_digit_in_X_train.reshape(28, 28)\n",
    "print('the last digit in X_train is:')\n",
    "print(the_last_digit_in_X_train_image)\n",
    "plt.imshow(the_last_digit_in_X_train_image, cmap='binary')\n",
    "plt.axis('off')\n",
    "plt.show()"
   ]
  },
  {
   "cell_type": "code",
   "execution_count": 39,
   "metadata": {
    "collapsed": false,
    "pycharm": {
     "is_executing": false,
     "name": "#%%\n"
    }
   },
   "outputs": [],
   "source": [
    "# print the last value in y_train\n",
    "the_last_value_in_y_train = y_train[-1]\n",
    "print('the last digit in y_train is', '\\t:', the_last_value_in_y_train)\n"
   ]
  },
  {
   "cell_type": "markdown",
   "metadata": {
    "collapsed": false
   },
   "outputs": [],
   "source": [
    "# training a binary classifier"
   ]
  },
  {
   "cell_type": "code",
   "execution_count": null,
   "metadata": {
    "collapsed": false,
    "pycharm": {
     "name": "#%%\n"
    }
   },
   "outputs": [],
   "source": []
  }
 ],
 "metadata": {
  "kernelspec": {
   "display_name": "Python 3",
   "language": "python",
   "name": "python3"
  },
  "language_info": {
   "codemirror_mode": {
    "name": "ipython",
    "version": 2
   },
   "file_extension": ".py",
   "mimetype": "text/x-python",
   "name": "python",
   "nbconvert_exporter": "python",
   "pygments_lexer": "ipython2",
   "version": "2.7.6"
  },
  "pycharm": {
   "stem_cell": {
    "cell_type": "raw",
    "source": [],
    "metadata": {
     "collapsed": false
    }
   }
  }
 },
 "nbformat": 4,
 "nbformat_minor": 0
}