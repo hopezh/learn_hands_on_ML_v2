{
 "cells": [
  {
   "cell_type": "markdown",
   "metadata": {
    "collapsed": true,
    "pycharm": {
     "name": "#%% md\n"
    }
   },
   "source": [
    "# MNIST"
   ]
  },
  {
   "cell_type": "code",
   "execution_count": 1,
   "outputs": [
    {
     "data": {
      "text/plain": "dict_keys(['data', 'target', 'feature_names', 'DESCR', 'details', 'categories', 'url'])"
     },
     "metadata": {},
     "output_type": "execute_result",
     "execution_count": 1
    }
   ],
   "source": [
    "from sklearn.datasets import fetch_openml\n",
    "\n",
    "mnist = fetch_openml('mnist_784', version=1)\n",
    "mnist.keys()"
   ],
   "metadata": {
    "collapsed": false,
    "pycharm": {
     "name": "#%%\n",
     "is_executing": false
    }
   }
  },
  {
   "cell_type": "code",
   "execution_count": 15,
   "outputs": [
    {
     "name": "stdout",
     "text": [
      "feature 1 \t: pixel1\nfeature 2 \t: pixel2\nfeature 3 \t: pixel3\nfeature 4 \t: pixel4\nfeature 5 \t: pixel5\nfeature 6 \t: pixel6\nfeature 7 \t: pixel7\nfeature 8 \t: pixel8\nfeature 9 \t: pixel9\nfeature 10 \t: pixel10\nfeature 11 \t: pixel11\nfeature 12 \t: pixel12\nfeature 13 \t: pixel13\nfeature 14 \t: pixel14\nfeature 15 \t: pixel15\nfeature 16 \t: pixel16\nfeature 17 \t: pixel17\nfeature 18 \t: pixel18\nfeature 19 \t: pixel19\nfeature 20 \t: pixel20\nfeature 21 \t: pixel21\nfeature 22 \t: pixel22\nfeature 23 \t: pixel23\nfeature 24 \t: pixel24\nfeature 25 \t: pixel25\nfeature 26 \t: pixel26\nfeature 27 \t: pixel27\nfeature 28 \t: pixel28\nfeature 29 \t: pixel29\nfeature 30 \t: pixel30\nfeature 31 \t: pixel31\nfeature 32 \t: pixel32\nfeature 33 \t: pixel33\nfeature 34 \t: pixel34\nfeature 35 \t: pixel35\nfeature 36 \t: pixel36\nfeature 37 \t: pixel37\nfeature 38 \t: pixel38\nfeature 39 \t: pixel39\nfeature 40 \t: pixel40\nfeature 41 \t: pixel41\nfeature 42 \t: pixel42\nfeature 43 \t: pixel43\nfeature 44 \t: pixel44\nfeature 45 \t: pixel45\nfeature 46 \t: pixel46\nfeature 47 \t: pixel47\nfeature 48 \t: pixel48\nfeature 49 \t: pixel49\nfeature 50 \t: pixel50\nfeature 51 \t: pixel51\nfeature 52 \t: pixel52\nfeature 53 \t: pixel53\nfeature 54 \t: pixel54\nfeature 55 \t: pixel55\nfeature 56 \t: pixel56\nfeature 57 \t: pixel57\nfeature 58 \t: pixel58\nfeature 59 \t: pixel59\nfeature 60 \t: pixel60\nfeature 61 \t: pixel61\nfeature 62 \t: pixel62\nfeature 63 \t: pixel63\nfeature 64 \t: pixel64\nfeature 65 \t: pixel65\nfeature 66 \t: pixel66\nfeature 67 \t: pixel67\nfeature 68 \t: pixel68\nfeature 69 \t: pixel69\nfeature 70 \t: pixel70\nfeature 71 \t: pixel71\nfeature 72 \t: pixel72\nfeature 73 \t: pixel73\nfeature 74 \t: pixel74\nfeature 75 \t: pixel75\nfeature 76 \t: pixel76\nfeature 77 \t: pixel77\nfeature 78 \t: pixel78\nfeature 79 \t: pixel79\nfeature 80 \t: pixel80\nfeature 81 \t: pixel81\nfeature 82 \t: pixel82\nfeature 83 \t: pixel83\nfeature 84 \t: pixel84\nfeature 85 \t: pixel85\nfeature 86 \t: pixel86\nfeature 87 \t: pixel87\nfeature 88 \t: pixel88\nfeature 89 \t: pixel89\nfeature 90 \t: pixel90\nfeature 91 \t: pixel91\nfeature 92 \t: pixel92\nfeature 93 \t: pixel93\nfeature 94 \t: pixel94\nfeature 95 \t: pixel95\nfeature 96 \t: pixel96\nfeature 97 \t: pixel97\nfeature 98 \t: pixel98\nfeature 99 \t: pixel99\nfeature 100 \t: pixel100\nfeature 101 \t: pixel101\nfeature 102 \t: pixel102\nfeature 103 \t: pixel103\nfeature 104 \t: pixel104\nfeature 105 \t: pixel105\nfeature 106 \t: pixel106\nfeature 107 \t: pixel107\nfeature 108 \t: pixel108\nfeature 109 \t: pixel109\nfeature 110 \t: pixel110\nfeature 111 \t: pixel111\nfeature 112 \t: pixel112\nfeature 113 \t: pixel113\nfeature 114 \t: pixel114\nfeature 115 \t: pixel115\nfeature 116 \t: pixel116\nfeature 117 \t: pixel117\nfeature 118 \t: pixel118\nfeature 119 \t: pixel119\nfeature 120 \t: pixel120\nfeature 121 \t: pixel121\nfeature 122 \t: pixel122\nfeature 123 \t: pixel123\nfeature 124 \t: pixel124\nfeature 125 \t: pixel125\nfeature 126 \t: pixel126\nfeature 127 \t: pixel127\nfeature 128 \t: pixel128\nfeature 129 \t: pixel129\nfeature 130 \t: pixel130\nfeature 131 \t: pixel131\nfeature 132 \t: pixel132\nfeature 133 \t: pixel133\nfeature 134 \t: pixel134\nfeature 135 \t: pixel135\nfeature 136 \t: pixel136\nfeature 137 \t: pixel137\nfeature 138 \t: pixel138\nfeature 139 \t: pixel139\nfeature 140 \t: pixel140\nfeature 141 \t: pixel141\nfeature 142 \t: pixel142\nfeature 143 \t: pixel143\nfeature 144 \t: pixel144\nfeature 145 \t: pixel145\nfeature 146 \t: pixel146\nfeature 147 \t: pixel147\nfeature 148 \t: pixel148\nfeature 149 \t: pixel149\nfeature 150 \t: pixel150\nfeature 151 \t: pixel151\nfeature 152 \t: pixel152\nfeature 153 \t: pixel153\nfeature 154 \t: pixel154\nfeature 155 \t: pixel155\nfeature 156 \t: pixel156\nfeature 157 \t: pixel157\nfeature 158 \t: pixel158\nfeature 159 \t: pixel159\nfeature 160 \t: pixel160\nfeature 161 \t: pixel161\nfeature 162 \t: pixel162\nfeature 163 \t: pixel163\nfeature 164 \t: pixel164\nfeature 165 \t: pixel165\nfeature 166 \t: pixel166\nfeature 167 \t: pixel167\nfeature 168 \t: pixel168\nfeature 169 \t: pixel169\nfeature 170 \t: pixel170\nfeature 171 \t: pixel171\nfeature 172 \t: pixel172\nfeature 173 \t: pixel173\nfeature 174 \t: pixel174\nfeature 175 \t: pixel175\nfeature 176 \t: pixel176\nfeature 177 \t: pixel177\nfeature 178 \t: pixel178\nfeature 179 \t: pixel179\nfeature 180 \t: pixel180\nfeature 181 \t: pixel181\nfeature 182 \t: pixel182\nfeature 183 \t: pixel183\nfeature 184 \t: pixel184\nfeature 185 \t: pixel185\nfeature 186 \t: pixel186\nfeature 187 \t: pixel187\nfeature 188 \t: pixel188\nfeature 189 \t: pixel189\nfeature 190 \t: pixel190\nfeature 191 \t: pixel191\nfeature 192 \t: pixel192\nfeature 193 \t: pixel193\nfeature 194 \t: pixel194\nfeature 195 \t: pixel195\nfeature 196 \t: pixel196\nfeature 197 \t: pixel197\nfeature 198 \t: pixel198\nfeature 199 \t: pixel199\nfeature 200 \t: pixel200\nfeature 201 \t: pixel201\nfeature 202 \t: pixel202\nfeature 203 \t: pixel203\nfeature 204 \t: pixel204\nfeature 205 \t: pixel205\nfeature 206 \t: pixel206\nfeature 207 \t: pixel207\nfeature 208 \t: pixel208\nfeature 209 \t: pixel209\nfeature 210 \t: pixel210\nfeature 211 \t: pixel211\nfeature 212 \t: pixel212\nfeature 213 \t: pixel213\nfeature 214 \t: pixel214\nfeature 215 \t: pixel215\nfeature 216 \t: pixel216\nfeature 217 \t: pixel217\nfeature 218 \t: pixel218\nfeature 219 \t: pixel219\nfeature 220 \t: pixel220\nfeature 221 \t: pixel221\nfeature 222 \t: pixel222\nfeature 223 \t: pixel223\nfeature 224 \t: pixel224\nfeature 225 \t: pixel225\nfeature 226 \t: pixel226\nfeature 227 \t: pixel227\nfeature 228 \t: pixel228\nfeature 229 \t: pixel229\nfeature 230 \t: pixel230\nfeature 231 \t: pixel231\nfeature 232 \t: pixel232\nfeature 233 \t: pixel233\nfeature 234 \t: pixel234\nfeature 235 \t: pixel235\nfeature 236 \t: pixel236\nfeature 237 \t: pixel237\nfeature 238 \t: pixel238\nfeature 239 \t: pixel239\nfeature 240 \t: pixel240\nfeature 241 \t: pixel241\nfeature 242 \t: pixel242\nfeature 243 \t: pixel243\nfeature 244 \t: pixel244\nfeature 245 \t: pixel245\nfeature 246 \t: pixel246\nfeature 247 \t: pixel247\nfeature 248 \t: pixel248\nfeature 249 \t: pixel249\nfeature 250 \t: pixel250\nfeature 251 \t: pixel251\nfeature 252 \t: pixel252\nfeature 253 \t: pixel253\nfeature 254 \t: pixel254\nfeature 255 \t: pixel255\nfeature 256 \t: pixel256\nfeature 257 \t: pixel257\nfeature 258 \t: pixel258\nfeature 259 \t: pixel259\nfeature 260 \t: pixel260\nfeature 261 \t: pixel261\nfeature 262 \t: pixel262\nfeature 263 \t: pixel263\nfeature 264 \t: pixel264\nfeature 265 \t: pixel265\nfeature 266 \t: pixel266\nfeature 267 \t: pixel267\nfeature 268 \t: pixel268\nfeature 269 \t: pixel269\nfeature 270 \t: pixel270\nfeature 271 \t: pixel271\nfeature 272 \t: pixel272\nfeature 273 \t: pixel273\nfeature 274 \t: pixel274\nfeature 275 \t: pixel275\nfeature 276 \t: pixel276\nfeature 277 \t: pixel277\nfeature 278 \t: pixel278\nfeature 279 \t: pixel279\nfeature 280 \t: pixel280\nfeature 281 \t: pixel281\nfeature 282 \t: pixel282\nfeature 283 \t: pixel283\nfeature 284 \t: pixel284\nfeature 285 \t: pixel285\nfeature 286 \t: pixel286\nfeature 287 \t: pixel287\nfeature 288 \t: pixel288\nfeature 289 \t: pixel289\nfeature 290 \t: pixel290\nfeature 291 \t: pixel291\nfeature 292 \t: pixel292\nfeature 293 \t: pixel293\nfeature 294 \t: pixel294\nfeature 295 \t: pixel295\nfeature 296 \t: pixel296\nfeature 297 \t: pixel297\nfeature 298 \t: pixel298\nfeature 299 \t: pixel299\nfeature 300 \t: pixel300\nfeature 301 \t: pixel301\nfeature 302 \t: pixel302\nfeature 303 \t: pixel303\nfeature 304 \t: pixel304\nfeature 305 \t: pixel305\nfeature 306 \t: pixel306\nfeature 307 \t: pixel307\nfeature 308 \t: pixel308\nfeature 309 \t: pixel309\nfeature 310 \t: pixel310\nfeature 311 \t: pixel311\nfeature 312 \t: pixel312\nfeature 313 \t: pixel313\nfeature 314 \t: pixel314\nfeature 315 \t: pixel315\nfeature 316 \t: pixel316\nfeature 317 \t: pixel317\nfeature 318 \t: pixel318\nfeature 319 \t: pixel319\nfeature 320 \t: pixel320\nfeature 321 \t: pixel321\nfeature 322 \t: pixel322\nfeature 323 \t: pixel323\nfeature 324 \t: pixel324\nfeature 325 \t: pixel325\nfeature 326 \t: pixel326\nfeature 327 \t: pixel327\nfeature 328 \t: pixel328\nfeature 329 \t: pixel329\nfeature 330 \t: pixel330\nfeature 331 \t: pixel331\nfeature 332 \t: pixel332\nfeature 333 \t: pixel333\nfeature 334 \t: pixel334\nfeature 335 \t: pixel335\nfeature 336 \t: pixel336\nfeature 337 \t: pixel337\nfeature 338 \t: pixel338\nfeature 339 \t: pixel339\nfeature 340 \t: pixel340\nfeature 341 \t: pixel341\nfeature 342 \t: pixel342\nfeature 343 \t: pixel343\nfeature 344 \t: pixel344\nfeature 345 \t: pixel345\nfeature 346 \t: pixel346\nfeature 347 \t: pixel347\nfeature 348 \t: pixel348\nfeature 349 \t: pixel349\nfeature 350 \t: pixel350\nfeature 351 \t: pixel351\nfeature 352 \t: pixel352\nfeature 353 \t: pixel353\nfeature 354 \t: pixel354\nfeature 355 \t: pixel355\nfeature 356 \t: pixel356\nfeature 357 \t: pixel357\nfeature 358 \t: pixel358\nfeature 359 \t: pixel359\nfeature 360 \t: pixel360\nfeature 361 \t: pixel361\nfeature 362 \t: pixel362\nfeature 363 \t: pixel363\nfeature 364 \t: pixel364\nfeature 365 \t: pixel365\nfeature 366 \t: pixel366\nfeature 367 \t: pixel367\nfeature 368 \t: pixel368\nfeature 369 \t: pixel369\nfeature 370 \t: pixel370\nfeature 371 \t: pixel371\nfeature 372 \t: pixel372\nfeature 373 \t: ",
      "pixel373\nfeature 374 \t: pixel374\nfeature 375 \t: pixel375\nfeature 376 \t: pixel376\nfeature 377 \t: pixel377\nfeature 378 \t: pixel378\nfeature 379 \t: pixel379\nfeature 380 \t: pixel380\nfeature 381 \t: pixel381\nfeature 382 \t: pixel382\nfeature 383 \t: pixel383\nfeature 384 \t: pixel384\nfeature 385 \t: pixel385\nfeature 386 \t: pixel386\nfeature 387 \t: pixel387\nfeature 388 \t: pixel388\nfeature 389 \t: pixel389\nfeature 390 \t: pixel390\nfeature 391 \t: pixel391\nfeature 392 \t: pixel392\nfeature 393 \t: pixel393\nfeature 394 \t: pixel394\nfeature 395 \t: pixel395\nfeature 396 \t: pixel396\nfeature 397 \t: pixel397\nfeature 398 \t: pixel398\nfeature 399 \t: pixel399\nfeature 400 \t: pixel400\nfeature 401 \t: pixel401\nfeature 402 \t: pixel402\nfeature 403 \t: pixel403\nfeature 404 \t: pixel404\nfeature 405 \t: pixel405\nfeature 406 \t: pixel406\nfeature 407 \t: pixel407\nfeature 408 \t: pixel408\nfeature 409 \t: pixel409\nfeature 410 \t: pixel410\nfeature 411 \t: pixel411\nfeature 412 \t: pixel412\nfeature 413 \t: pixel413\nfeature 414 \t: pixel414\nfeature 415 \t: pixel415\nfeature 416 \t: pixel416\nfeature 417 \t: pixel417\nfeature 418 \t: pixel418\nfeature 419 \t: pixel419\nfeature 420 \t: pixel420\nfeature 421 \t: pixel421\nfeature 422 \t: pixel422\nfeature 423 \t: pixel423\nfeature 424 \t: pixel424\nfeature 425 \t: pixel425\nfeature 426 \t: pixel426\nfeature 427 \t: pixel427\nfeature 428 \t: pixel428\nfeature 429 \t: pixel429\nfeature 430 \t: pixel430\nfeature 431 \t: pixel431\nfeature 432 \t: pixel432\nfeature 433 \t: pixel433\nfeature 434 \t: pixel434\nfeature 435 \t: pixel435\nfeature 436 \t: pixel436\nfeature 437 \t: pixel437\nfeature 438 \t: pixel438\nfeature 439 \t: pixel439\nfeature 440 \t: pixel440\nfeature 441 \t: pixel441\nfeature 442 \t: pixel442\nfeature 443 \t: pixel443\nfeature 444 \t: pixel444\nfeature 445 \t: pixel445\nfeature 446 \t: pixel446\nfeature 447 \t: pixel447\nfeature 448 \t: pixel448\nfeature 449 \t: pixel449\nfeature 450 \t: pixel450\nfeature 451 \t: pixel451\nfeature 452 \t: pixel452\nfeature 453 \t: pixel453\nfeature 454 \t: pixel454\nfeature 455 \t: pixel455\nfeature 456 \t: pixel456\nfeature 457 \t: pixel457\nfeature 458 \t: pixel458\nfeature 459 \t: pixel459\nfeature 460 \t: pixel460\nfeature 461 \t: pixel461\nfeature 462 \t: pixel462\nfeature 463 \t: pixel463\nfeature 464 \t: pixel464\nfeature 465 \t: pixel465\nfeature 466 \t: pixel466\nfeature 467 \t: pixel467\nfeature 468 \t: pixel468\nfeature 469 \t: pixel469\nfeature 470 \t: pixel470\nfeature 471 \t: pixel471\nfeature 472 \t: pixel472\nfeature 473 \t: pixel473\nfeature 474 \t: pixel474\nfeature 475 \t: pixel475\nfeature 476 \t: pixel476\nfeature 477 \t: pixel477\nfeature 478 \t: pixel478\nfeature 479 \t: pixel479\nfeature 480 \t: pixel480\nfeature 481 \t: pixel481\nfeature 482 \t: pixel482\nfeature 483 \t: pixel483\nfeature 484 \t: pixel484\nfeature 485 \t: pixel485\nfeature 486 \t: pixel486\nfeature 487 \t: pixel487\nfeature 488 \t: pixel488\nfeature 489 \t: pixel489\nfeature 490 \t: pixel490\nfeature 491 \t: pixel491\nfeature 492 \t: pixel492\nfeature 493 \t: pixel493\nfeature 494 \t: pixel494\nfeature 495 \t: pixel495\nfeature 496 \t: pixel496\nfeature 497 \t: pixel497\nfeature 498 \t: pixel498\nfeature 499 \t: pixel499\nfeature 500 \t: pixel500\nfeature 501 \t: pixel501\nfeature 502 \t: pixel502\nfeature 503 \t: pixel503\nfeature 504 \t: pixel504\nfeature 505 \t: pixel505\nfeature 506 \t: pixel506\nfeature 507 \t: pixel507\nfeature 508 \t: pixel508\nfeature 509 \t: pixel509\nfeature 510 \t: pixel510\nfeature 511 \t: pixel511\nfeature 512 \t: pixel512\nfeature 513 \t: pixel513\nfeature 514 \t: pixel514\nfeature 515 \t: pixel515\nfeature 516 \t: pixel516\nfeature 517 \t: pixel517\nfeature 518 \t: pixel518\nfeature 519 \t: pixel519\nfeature 520 \t: pixel520\nfeature 521 \t: pixel521\nfeature 522 \t: pixel522\nfeature 523 \t: pixel523\nfeature 524 \t: pixel524\nfeature 525 \t: pixel525\nfeature 526 \t: pixel526\nfeature 527 \t: pixel527\nfeature 528 \t: pixel528\nfeature 529 \t: pixel529\nfeature 530 \t: pixel530\nfeature 531 \t: pixel531\nfeature 532 \t: pixel532\nfeature 533 \t: pixel533\nfeature 534 \t: pixel534\nfeature 535 \t: pixel535\nfeature 536 \t: pixel536\nfeature 537 \t: pixel537\nfeature 538 \t: pixel538\nfeature 539 \t: pixel539\nfeature 540 \t: pixel540\nfeature 541 \t: pixel541\nfeature 542 \t: pixel542\nfeature 543 \t: pixel543\nfeature 544 \t: pixel544\nfeature 545 \t: pixel545\nfeature 546 \t: pixel546\nfeature 547 \t: pixel547\nfeature 548 \t: pixel548\nfeature 549 \t: pixel549\nfeature 550 \t: pixel550\nfeature 551 \t: pixel551\nfeature 552 \t: pixel552\nfeature 553 \t: pixel553\nfeature 554 \t: pixel554\nfeature 555 \t: pixel555\nfeature 556 \t: pixel556\nfeature 557 \t: pixel557\nfeature 558 \t: pixel558\nfeature 559 \t: pixel559\nfeature 560 \t: pixel560\nfeature 561 \t: pixel561\nfeature 562 \t: pixel562\nfeature 563 \t: pixel563\nfeature 564 \t: pixel564\nfeature 565 \t: pixel565\nfeature 566 \t: pixel566\nfeature 567 \t: pixel567\nfeature 568 \t: pixel568\nfeature 569 \t: pixel569\nfeature 570 \t: pixel570\nfeature 571 \t: pixel571\nfeature 572 \t: pixel572\nfeature 573 \t: pixel573\nfeature 574 \t: pixel574\nfeature 575 \t: pixel575\nfeature 576 \t: pixel576\nfeature 577 \t: pixel577\nfeature 578 \t: pixel578\nfeature 579 \t: pixel579\nfeature 580 \t: pixel580\nfeature 581 \t: pixel581\nfeature 582 \t: pixel582\nfeature 583 \t: pixel583\nfeature 584 \t: pixel584\nfeature 585 \t: pixel585\nfeature 586 \t: pixel586\nfeature 587 \t: pixel587\nfeature 588 \t: pixel588\nfeature 589 \t: pixel589\nfeature 590 \t: pixel590\nfeature 591 \t: pixel591\nfeature 592 \t: pixel592\nfeature 593 \t: pixel593\nfeature 594 \t: pixel594\nfeature 595 \t: pixel595\nfeature 596 \t: pixel596\nfeature 597 \t: pixel597\nfeature 598 \t: pixel598\nfeature 599 \t: pixel599\nfeature 600 \t: pixel600\nfeature 601 \t: pixel601\nfeature 602 \t: pixel602\nfeature 603 \t: pixel603\nfeature 604 \t: pixel604\nfeature 605 \t: pixel605\nfeature 606 \t: pixel606\nfeature 607 \t: pixel607\nfeature 608 \t: pixel608\nfeature 609 \t: pixel609\nfeature 610 \t: pixel610\nfeature 611 \t: pixel611\nfeature 612 \t: pixel612\nfeature 613 \t: pixel613\nfeature 614 \t: pixel614\nfeature 615 \t: pixel615\nfeature 616 \t: pixel616\nfeature 617 \t: pixel617\nfeature 618 \t: pixel618\nfeature 619 \t: pixel619\nfeature 620 \t: pixel620\nfeature 621 \t: pixel621\nfeature 622 \t: pixel622\nfeature 623 \t:",
      " pixel623\nfeature 624 \t: pixel624\nfeature 625 \t: pixel625\nfeature 626 \t: pixel626\nfeature 627 \t: pixel627\nfeature 628 \t: pixel628\nfeature 629 \t: pixel629\nfeature 630 \t: pixel630\nfeature 631 \t: pixel631\nfeature 632 \t: pixel632\nfeature 633 \t: pixel633\nfeature 634 \t: pixel634\nfeature 635 \t: pixel635\nfeature 636 \t: pixel636\nfeature 637 \t: pixel637\nfeature 638 \t: pixel638\nfeature 639 \t: pixel639\nfeature 640 \t: pixel640\nfeature 641 \t: pixel641\nfeature 642 \t: pixel642\nfeature 643 \t: pixel643\nfeature 644 \t: pixel644\nfeature 645 \t: pixel645\nfeature 646 \t: pixel646\nfeature 647 \t: pixel647\nfeature 648 \t: pixel648\nfeature 649 \t: pixel649\nfeature 650 \t: pixel650\nfeature 651 \t: pixel651\nfeature 652 \t: pixel652\nfeature 653 \t: pixel653\nfeature 654 \t: pixel654\nfeature 655 \t: pixel655\nfeature 656 \t: pixel656\nfeature 657 \t: pixel657\nfeature 658 \t: pixel658\nfeature 659 \t: pixel659\nfeature 660 \t: pixel660\nfeature 661 \t: pixel661\nfeature 662 \t: pixel662\nfeature 663 \t: pixel663\nfeature 664 \t: pixel664\nfeature 665 \t: pixel665\nfeature 666 \t: pixel666\nfeature 667 \t: pixel667\nfeature 668 \t: pixel668\nfeature 669 \t: pixel669\nfeature 670 \t: pixel670\nfeature 671 \t: pixel671\nfeature 672 \t: pixel672\nfeature 673 \t: pixel673\nfeature 674 \t: pixel674\nfeature 675 \t: pixel675\nfeature 676 \t: pixel676\nfeature 677 \t: pixel677\nfeature 678 \t: pixel678\nfeature 679 \t: pixel679\nfeature 680 \t: pixel680\nfeature 681 \t: pixel681\nfeature 682 \t: pixel682\nfeature 683 \t: pixel683\nfeature 684 \t: pixel684\nfeature 685 \t: pixel685\nfeature 686 \t: pixel686\nfeature 687 \t: pixel687\nfeature 688 \t: pixel688\nfeature 689 \t: pixel689\nfeature 690 \t: pixel690\nfeature 691 \t: pixel691\nfeature 692 \t: pixel692\nfeature 693 \t: pixel693\nfeature 694 \t: pixel694\nfeature 695 \t: pixel695\nfeature 696 \t: pixel696\nfeature 697 \t: pixel697\nfeature 698 \t: pixel698\nfeature 699 \t: pixel699\nfeature 700 \t: pixel700\nfeature 701 \t: pixel701\nfeature 702 \t: pixel702\nfeature 703 \t: pixel703\nfeature 704 \t: pixel704\nfeature 705 \t: pixel705\nfeature 706 \t: pixel706\nfeature 707 \t: pixel707\nfeature 708 \t: pixel708\nfeature 709 \t: pixel709\nfeature 710 \t: pixel710\nfeature 711 \t: pixel711\nfeature 712 \t: pixel712\nfeature 713 \t: pixel713\nfeature 714 \t: pixel714\nfeature 715 \t: pixel715\nfeature 716 \t: pixel716\nfeature 717 \t: pixel717\nfeature 718 \t: pixel718\nfeature 719 \t: pixel719\nfeature 720 \t: pixel720\nfeature 721 \t: pixel721\nfeature 722 \t: pixel722\nfeature 723 \t: pixel723\nfeature 724 \t: pixel724\nfeature 725 \t: pixel725\nfeature 726 \t: pixel726\nfeature 727 \t: pixel727\nfeature 728 \t: pixel728\nfeature 729 \t: pixel729\nfeature 730 \t: pixel730\nfeature 731 \t: pixel731\nfeature 732 \t: pixel732\nfeature 733 \t: pixel733\nfeature 734 \t: pixel734\nfeature 735 \t: pixel735\nfeature 736 \t: pixel736\nfeature 737 \t: pixel737\nfeature 738 \t: pixel738\nfeature 739 \t: pixel739\nfeature 740 \t: pixel740\nfeature 741 \t: pixel741\nfeature 742 \t: pixel742\nfeature 743 \t: pixel743\nfeature 744 \t: pixel744\nfeature 745 \t: pixel745\nfeature 746 \t: pixel746\nfeature 747 \t: pixel747\nfeature 748 \t: pixel748\nfeature 749 \t: pixel749\nfeature 750 \t: pixel750\nfeature 751 \t: pixel751\nfeature 752 \t: pixel752\nfeature 753 \t: pixel753\nfeature 754 \t: pixel754\nfeature 755 \t: pixel755\nfeature 756 \t: pixel756\nfeature 757 \t: pixel757\nfeature 758 \t: pixel758\nfeature 759 \t: pixel759\nfeature 760 \t: pixel760\nfeature 761 \t: pixel761\nfeature 762 \t: pixel762\nfeature 763 \t: pixel763\nfeature 764 \t: pixel764\nfeature 765 \t: pixel765\nfeature 766 \t: pixel766\nfeature 767 \t: pixel767\nfeature 768 \t: pixel768\nfeature 769 \t: pixel769\nfeature 770 \t: pixel770\nfeature 771 \t: pixel771\nfeature 772 \t: pixel772\nfeature 773 \t: pixel773\nfeature 774 \t: pixel774\nfeature 775 \t: pixel775\nfeature 776 \t: pixel776\nfeature 777 \t: pixel777\nfeature 778 \t: pixel778\nfeature 779 \t: pixel779\nfeature 780 \t: pixel780\nfeature 781 \t: pixel781\nfeature 782 \t: pixel782\nfeature 783 \t: pixel783\nfeature 784 \t: pixel784\n"
     ],
     "output_type": "stream"
    }
   ],
   "source": [
    "mnist_feature_names = mnist['feature_names']\n",
    "\n",
    "cnt = 1\n",
    "for feature in mnist_feature_names:\n",
    "    print('feature', str(cnt),'\\t:', feature)\n",
    "    cnt += 1\n",
    "    "
   ],
   "metadata": {
    "collapsed": false,
    "pycharm": {
     "name": "#%%\n",
     "is_executing": false
    }
   }
  },
  {
   "cell_type": "code",
   "execution_count": 3,
   "outputs": [
    {
     "name": "stdout",
     "text": [
      "**Author**: Yann LeCun, Corinna Cortes, Christopher J.C. Burges  \n**Source**: [MNIST Website](http://yann.lecun.com/exdb/mnist/) - Date unknown  \n**Please cite**:  \n\nThe MNIST database of handwritten digits with 784 features, raw data available at: http://yann.lecun.com/exdb/mnist/. It can be split in a training set of the first 60,000 examples, and a test set of 10,000 examples  \n\nIt is a subset of a larger set available from NIST. The digits have been size-normalized and centered in a fixed-size image. It is a good database for people who want to try learning techniques and pattern recognition methods on real-world data while spending minimal efforts on preprocessing and formatting. The original black and white (bilevel) images from NIST were size normalized to fit in a 20x20 pixel box while preserving their aspect ratio. The resulting images contain grey levels as a result of the anti-aliasing technique used by the normalization algorithm. the images were centered in a 28x28 image by computing the center of mass of the pixels, and translating the image so as to position this point at the center of the 28x28 field.  \n\nWith some classification methods (particularly template-based methods, such as SVM and K-nearest neighbors), the error rate improves when the digits are centered by bounding box rather than center of mass. If you do this kind of pre-processing, you should report it in your publications. The MNIST database was constructed from NIST's NIST originally designated SD-3 as their training set and SD-1 as their test set. However, SD-3 is much cleaner and easier to recognize than SD-1. The reason for this can be found on the fact that SD-3 was collected among Census Bureau employees, while SD-1 was collected among high-school students. Drawing sensible conclusions from learning experiments requires that the result be independent of the choice of training set and test among the complete set of samples. Therefore it was necessary to build a new database by mixing NIST's datasets.  \n\nThe MNIST training set is composed of 30,000 patterns from SD-3 and 30,000 patterns from SD-1. Our test set was composed of 5,000 patterns from SD-3 and 5,000 patterns from SD-1. The 60,000 pattern training set contained examples from approximately 250 writers. We made sure that the sets of writers of the training set and test set were disjoint. SD-1 contains 58,527 digit images written by 500 different writers. In contrast to SD-3, where blocks of data from each writer appeared in sequence, the data in SD-1 is scrambled. Writer identities for SD-1 is available and we used this information to unscramble the writers. We then split SD-1 in two: characters written by the first 250 writers went into our new training set. The remaining 250 writers were placed in our test set. Thus we had two sets with nearly 30,000 examples each. The new training set was completed with enough examples from SD-3, starting at pattern # 0, to make a full set of 60,000 training patterns. Similarly, the new test set was completed with SD-3 examples starting at pattern # 35,000 to make a full set with 60,000 test patterns. Only a subset of 10,000 test images (5,000 from SD-1 and 5,000 from SD-3) is available on this site. The full 60,000 sample training set is available.\n\nDownloaded from openml.org.\n"
     ],
     "output_type": "stream"
    }
   ],
   "source": [
    "mnist_descr = mnist['DESCR']\n",
    "print(mnist_descr)"
   ],
   "metadata": {
    "collapsed": false,
    "pycharm": {
     "name": "#%%\n",
     "is_executing": false
    }
   }
  },
  {
   "cell_type": "code",
   "execution_count": 10,
   "outputs": [
    {
     "name": "stdout",
     "text": [
      "id :\n 554 \n\nname :\n mnist_784 \n\nversion :\n 1 \n\nformat :\n ARFF \n\nupload_date :\n 2014-09-29T03:28:38 \n\nlicence :\n Public \n\nurl :\n https://www.openml.org/data/v1/download/52667/mnist_784.arff \n\nfile_id :\n 52667 \n\ndefault_target_attribute :\n class \n\ntag :\n ['AzurePilot', 'OpenML-CC18', 'OpenML100', 'study_1', 'study_123', 'study_41', 'study_99', 'vision'] \n\nvisibility :\n public \n\nstatus :\n active \n\nprocessing_date :\n 2018-10-03 21:23:30 \n\nmd5_checksum :\n 0298d579eb1b86163de7723944c7e495 \n\n"
     ],
     "output_type": "stream"
    }
   ],
   "source": [
    "mnist_details = mnist['details']\n",
    "#print(mnist_details)\n",
    "\n",
    "for key, value in mnist_details.items():\n",
    "    print(key, ':\\n', value, '\\n')\n",
    "    "
   ],
   "metadata": {
    "collapsed": false,
    "pycharm": {
     "name": "#%%\n",
     "is_executing": false
    }
   }
  },
  {
   "cell_type": "code",
   "execution_count": 12,
   "outputs": [
    {
     "name": "stdout",
     "text": [
      "{}\n"
     ],
     "output_type": "stream"
    }
   ],
   "source": [
    "mnist_categories = mnist['categories']\n",
    "print(mnist_categories)\n"
   ],
   "metadata": {
    "collapsed": false,
    "pycharm": {
     "name": "#%%\n",
     "is_executing": false
    }
   }
  },
  {
   "cell_type": "code",
   "execution_count": 13,
   "outputs": [
    {
     "name": "stdout",
     "text": [
      "https://www.openml.org/d/554\n"
     ],
     "output_type": "stream"
    }
   ],
   "source": [
    "mnist_url = mnist['url']\n",
    "print(mnist_url)\n"
   ],
   "metadata": {
    "collapsed": false,
    "pycharm": {
     "name": "#%%\n",
     "is_executing": false
    }
   }
  },
  {
   "cell_type": "code",
   "execution_count": 16,
   "outputs": [
    {
     "name": "stdout",
     "text": [
      "X shape \t: (70000, 784)\ny shape \t: (70000,)\n"
     ],
     "output_type": "stream"
    }
   ],
   "source": [
    "# read in the data & target\n",
    "X, y = mnist['data'], mnist['target']\n",
    "\n",
    "print('X shape', '\\t:', X.shape)\n",
    "print('y shape', '\\t:', y.shape)\n"
   ],
   "metadata": {
    "collapsed": false,
    "pycharm": {
     "name": "#%%\n",
     "is_executing": false
    }
   }
  }
 ],
 "metadata": {
  "kernelspec": {
   "display_name": "Python 3",
   "language": "python",
   "name": "python3"
  },
  "language_info": {
   "codemirror_mode": {
    "name": "ipython",
    "version": 2
   },
   "file_extension": ".py",
   "mimetype": "text/x-python",
   "name": "python",
   "nbconvert_exporter": "python",
   "pygments_lexer": "ipython2",
   "version": "2.7.6"
  },
  "pycharm": {
   "stem_cell": {
    "cell_type": "raw",
    "source": [],
    "metadata": {
     "collapsed": false
    }
   }
  }
 },
 "nbformat": 4,
 "nbformat_minor": 0
}