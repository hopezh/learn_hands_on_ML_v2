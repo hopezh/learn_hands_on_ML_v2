{
 "cells": [
  {
   "cell_type": "markdown",
   "metadata": {},
   "source": [
    "# Ch4 Training Models"
   ]
  },
  {
   "cell_type": "markdown",
   "metadata": {},
   "source": [
    "To have better understanding on:\n",
    "\n",
    "- appropriate **model** to use\n",
    "\n",
    "- right **training algorithm** to use\n",
    "\n",
    "- good set of _hyperparameters_\n",
    "\n",
    "linear regression model\n",
    "- analytically, i.e. direct \"closed-form\" equation, or normal equation, to compute model parameters that best fit the model to the training set\n",
    "- iteratively, i.e. use Gradient Descent (GD) to gradually tweaks model parameters to minimize cost function over training set\n",
    "\n",
    "polynomial regression\n",
    "- how to detect overfitting\n",
    "- regularization techniques to reduce overfitting\n",
    "\n",
    "logistic regression \n",
    "\n",
    "softmax regression\n",
    "\n",
    "need to know _vectors_ and _matrices_"
   ]
  },
  {
   "cell_type": "markdown",
   "metadata": {},
   "source": [
    "## setup"
   ]
  },
  {
   "cell_type": "code",
   "execution_count": 1,
   "metadata": {},
   "outputs": [],
   "source": [
    "# Python ≥3.5 is required\n",
    "import sys\n",
    "assert sys.version_info >= (3, 5)\n",
    "\n",
    "# Scikit-Learn ≥0.20 is required\n",
    "import sklearn\n",
    "assert sklearn.__version__ >= \"0.20\"\n",
    "\n",
    "# Common imports\n",
    "import numpy as np\n",
    "import os\n",
    "\n",
    "# to make this notebook's output stable across runs\n",
    "np.random.seed(42)\n",
    "\n",
    "# To plot pretty figures\n",
    "%matplotlib inline\n",
    "import matplotlib as mpl\n",
    "import matplotlib.pyplot as plt\n",
    "mpl.rc('axes', labelsize=14)\n",
    "mpl.rc('xtick', labelsize=12)\n",
    "mpl.rc('ytick', labelsize=12)\n",
    "\n",
    "# Where to save the figures\n",
    "PROJECT_ROOT_DIR = \".\"\n",
    "CHAPTER_ID = \"training_linear_models\"\n",
    "IMAGES_PATH = os.path.join(PROJECT_ROOT_DIR, \"images\", CHAPTER_ID)\n",
    "os.makedirs(IMAGES_PATH, exist_ok=True)\n",
    "\n",
    "def save_fig(fig_id, tight_layout=True, fig_extension=\"png\", resolution=300):\n",
    "    path = os.path.join(IMAGES_PATH, fig_id + \".\" + fig_extension)\n",
    "    print(\"Saving figure\", fig_id)\n",
    "    if tight_layout:\n",
    "        plt.tight_layout()\n",
    "    plt.savefig(path, format=fig_extension, dpi=resolution)\n",
    "\n",
    "# Ignore useless warnings (see SciPy issue #5998)\n",
    "import warnings\n",
    "warnings.filterwarnings(action=\"ignore\", message=\"^internal gelsd\")"
   ]
  },
  {
   "cell_type": "markdown",
   "metadata": {},
   "source": [
    "## Linear Regression"
   ]
  },
  {
   "cell_type": "markdown",
   "metadata": {},
   "source": [
    "A **linear model** makes a prediction by simply computing a **_weighted sum_** of the **_input featurs_**, plus a **_constant_** called the **_bias term (intercept)_**.\n",
    "\n",
    "$\\hat{y} = \\theta_0 + \\theta_1x_1 + ... + \\theta_nx_n$\n",
    "\n",
    "...in which \n",
    "- $\\hat{y}$ : predicted value\n",
    "- $n$ : number of features\n",
    "- $x_i$ : the $i^{th}$ feature value\n",
    "- $\\theta_j$ : the $j^{th}$ model parameter, including the bias term $\\theta_0$ and the feature weights $\\theta_1, \\theta_2, ..., \\theta_n$\n",
    "\n",
    "... which can be vectorized as:\n",
    "\n",
    "$\\hat{y} = h_\\theta(x) = \\theta.x$\n",
    "\n",
    "...in which\n",
    "\n",
    "- **$\\theta$** is the model's **_parameter vector_**, including the bias term $\\theta_0$ and the feature weightes $\\theta_1$ to $\\theta_n$\n",
    "\n",
    "- **x** is the instance's **_feature vector_**, including $x_0$ to $x_n$ with $x_0$=1 \n",
    "\n",
    "- **$\\theta$.x** is the **_dot product_** of the two vectors (NOT the multiplication of the two vectors!), i.e., $\\theta.x = \\theta_0x_0 + \\theta_1x_1 + \\theta_2x_2 + ... + \\theta_nx_n$, which is the same as $\\theta^Tx$, i.e. matrix multiplication of the transpose of $\\theta$ and $x$\n",
    "\n",
    "- **$h_\\theta$** is the **_hypothesis function_**, using the model parameters **$\\theta$**"
   ]
  },
  {
   "cell_type": "markdown",
   "metadata": {},
   "source": [
    "To train a linear regression model is to find the value of $\\theta$ (parameter vector) that minimize the **_Root Mean Squared Error (RMSE)_**.\n",
    "\n",
    "Mean Squared Error (MSE) cost function : MSE(X, **__$h_\\theta$__**), or, MSE($\\Theta$)* **_$\\Theta$_** is the model's **_parameter vector_**, including the bias term $\\theta_0$ and the feature weightes $\\theta_1$ to $\\theta_n$\n",
    "    * **_X_** is the instance's **_feature vector_**, including $x_0$ to $x_n$ with $x_0$=1 \n",
    "    * **_$\\Theta$.x_** is the **_dot product_** of the two vectors (NOT the multiplication of the two vectors!), i.e., $\\theta_0x_0 + \\theta_1x_1 + \\theta_2x_2 + \\theta_nx_n$\n",
    "    * **__$h_\\theta$__** is the **_hypothesis function_**, using the model parameters **_$\\Theta$_**\n",
    "\n",
    "To train a linear regression model is to find the value of $\\Theta$ (parameter vector) that minimize the **_Root Mean Squared Error (RMSE)_**.\n",
    "\n",
    "Mean Squared Error (MSE) cost function : MSE(X, **__$h_\\theta$__**), or, MSE($\\Theta$)To train a linear regression model is to find the value of $\\Theta$ (parameter vector) that minimize the **_Root Mean Squared Error (RMSE)_**.\n",
    "\n",
    "Mean Squared Error (MSE) cost function : MSE(X, **__$h_\\theta$__**), or, MSE($\\Theta$)* **_$\\Theta$_** is the model's **_parameter vector_**, including the bias term $\\theta_0$ and the feature weightes $\\theta_1$ to $\\theta_n$\n",
    "    * **_X_** is the instance's **_feature vector_**, including $x_0$ to $x_n$ with $x_0$=1 \n",
    "    * **_$\\Theta$.x_** is the **_dot product_** of the two vectors (NOT the multiplication of the two vectors!), i.e., $\\theta_0x_0 + \\theta_1x_1 + \\theta_2x_2 + \\theta_nx_n$\n",
    "    * **__$h_\\theta$__** is the **_hypothesis function_**, using the model parameters **_$\\Theta$_**\n",
    "\n",
    "To train a linear regression model is to find the value of $\\Theta$ (parameter vector) that minimize the **_Root Mean Squared Error (RMSE)_**.\n",
    "\n",
    "Mean Squared Error (MSE) cost function : MSE(X, **__$h_\\theta$__**), or, MSE($\\Theta$)"
   ]
  },
  {
   "cell_type": "code",
   "execution_count": null,
   "metadata": {},
   "outputs": [],
   "source": []
  }
 ],
 "metadata": {
  "language_info": {
   "codemirror_mode": {
    "name": "ipython",
    "version": 3
   },
   "file_extension": ".py",
   "mimetype": "text/x-python",
   "name": "python",
   "nbconvert_exporter": "python",
   "pygments_lexer": "ipython3",
   "version": 3
  },
  "orig_nbformat": 2,
  "kernelspec": {
   "name": "python_defaultSpec_1593692990744",
   "display_name": "Python 3.7.5 64-bit"
  }
 },
 "nbformat": 4,
 "nbformat_minor": 2
}