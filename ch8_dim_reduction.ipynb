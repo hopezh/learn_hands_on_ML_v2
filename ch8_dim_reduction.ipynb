{
 "cells": [
  {
   "cell_type": "markdown",
   "metadata": {},
   "source": [
    "# Ch8 Dimensionality Reduction"
   ]
  },
  {
   "cell_type": "code",
   "execution_count": 4,
   "metadata": {},
   "outputs": [],
   "source": [
    "# Python ≥3.5 is required\n",
    "import sys\n",
    "assert sys.version_info >= (3, 5)\n",
    "\n",
    "# Scikit-Learn ≥0.20 is required\n",
    "import sklearn\n",
    "assert sklearn.__version__ >= \"0.20\"\n",
    "\n",
    "# Common imports\n",
    "import numpy as np\n",
    "import os\n",
    "\n",
    "# plotly library\n",
    "import plotly.express as px\n",
    "\n",
    "# to make this notebook's output stable across runs\n",
    "np.random.seed(42)\n",
    "\n",
    "# To plot pretty figures\n",
    "%matplotlib inline\n",
    "import matplotlib as mpl\n",
    "import matplotlib.pyplot as plt\n",
    "mpl.rc('axes', labelsize=14)\n",
    "mpl.rc('xtick', labelsize=12)\n",
    "mpl.rc('ytick', labelsize=12)\n",
    "\n",
    "# Where to save the figures\n",
    "PROJECT_ROOT_DIR = \".\"\n",
    "CHAPTER_ID = \"dim_reduction\"\n",
    "IMAGES_PATH = os.path.join(PROJECT_ROOT_DIR, \"images\", CHAPTER_ID)\n",
    "os.makedirs(IMAGES_PATH, exist_ok=True)\n",
    "\n",
    "def save_fig(fig_id, tight_layout=True, fig_extension=\"png\", resolution=300):\n",
    "    path = os.path.join(IMAGES_PATH, fig_id + \".\" + fig_extension)\n",
    "    print(\"Saving figure\", fig_id)\n",
    "    if tight_layout:\n",
    "        plt.tight_layout()\n",
    "    plt.savefig(path, format=fig_extension, dpi=resolution)\n",
    "\n",
    "# Ignore useless warnings (see SciPy issue #5998)\n",
    "import warnings\n",
    "warnings.filterwarnings(action=\"ignore\", message=\"^internal gelsd\")"
   ]
  },
  {
   "cell_type": "markdown",
   "metadata": {},
   "source": [
    "## projection methods"
   ]
  },
  {
   "cell_type": "code",
   "execution_count": 2,
   "metadata": {},
   "outputs": [],
   "source": [
    "# build 3d dataset\n",
    "np.random.seed(4)\n",
    "m = 60\n",
    "w1, w2 = 0.1, 0.3\n",
    "noise = 0.1\n",
    "\n",
    "angles = np.random.rand(m) * 3 * np.pi / 2 - 0.5\n",
    "X = np.empty((m, 3))\n",
    "X[:, 0] = np.cos(angles) + np.sin(angles)/2 + noise * np.random.randn(m) / 2\n",
    "X[:, 1] = np.sin(angles) * 0.7 + noise * np.random.randn(m) / 2\n",
    "X[:, 2] = X[:, 0] * w1 + X[:, 1] * w2 + noise * np.random.randn(m)"
   ]
  },
  {
   "cell_type": "code",
   "execution_count": 3,
   "metadata": {},
   "outputs": [
    {
     "output_type": "execute_result",
     "data": {
      "text/plain": "(60, 3)"
     },
     "metadata": {},
     "execution_count": 3
    }
   ],
   "source": [
    "X.shape"
   ]
  },
  {
   "cell_type": "code",
   "execution_count": 5,
   "metadata": {},
   "outputs": [
    {
     "output_type": "display_data",
     "data": {
      "application/vnd.plotly.v1+json": {
       "config": {
        "plotlyServerURL": "https://plotly.com"
       },
       "data": [
        {
         "hovertemplate": "x=%{x}<br>y=%{y}<br>z=%{z}<extra></extra>",
         "legendgroup": "",
         "marker": {
          "color": "#636efa",
          "symbol": "circle"
         },
         "mode": "markers",
         "name": "",
         "scene": "scene",
         "showlegend": false,
         "type": "scatter3d",
         "x": [
          -1.0157002685389205,
          -0.007716747721067688,
          -0.9531713508141214,
          -0.9201230391935803,
          -0.7630973850227872,
          1.1181612249938584,
          -1.022588783127453,
          0.6735198438994141,
          1.0161955781436256,
          0.5495772310795018,
          -0.9896044328097039,
          1.1324810647887111,
          -0.9933771212197587,
          -0.947636790714005,
          1.10095709375095,
          -0.34604590505290095,
          0.691026208490147,
          0.6830290161661197,
          0.8774030995452909,
          -1.060901271054891,
          0.5233664402007026,
          -0.94419403183285,
          -0.9716288016727547,
          -1.1056066063766468,
          1.174869401936093,
          0.9133712300472148,
          -0.2868882900384351,
          1.1024726274837826,
          -0.9358159395638295,
          0.6617217020087699,
          0.09896169101166805,
          -1.08103157706557,
          0.03004261068337799,
          0.9784662655396884,
          0.9725745112801022,
          -0.06924260845612194,
          0.016901691940654835,
          -0.4054448319607967,
          0.6416282689573429,
          -0.6401205507499876,
          0.7326401994991385,
          -0.4499973460619927,
          -0.9846106533641293,
          1.1193922214579317,
          0.7844106575391755,
          0.1663649777029507,
          -0.6737174734483715,
          1.1142966256115827,
          -0.113815957998262,
          -0.45471725310649325,
          -1.1579047764414008,
          0.8349410381119751,
          -0.46940298014215226,
          1.1484595071468258,
          0.24039920828119576,
          1.1056769879277946,
          -1.0115200870337149,
          0.5251941141693787,
          -1.095757138266149,
          0.586924431930318
         ],
         "y": [
          -0.5509133088478706,
          0.5995857207904025,
          -0.46453690887331495,
          0.21009593047935254,
          0.15826100259577505,
          0.32508720717645867,
          -0.6438406396091141,
          -0.27342519070637594,
          0.5154660825180084,
          0.6772801586407875,
          0.008866174910051903,
          0.2822996701455528,
          -0.2683282373617626,
          -0.4995848961483341,
          0.17064809874806805,
          0.4533441359093045,
          -0.27337761196016314,
          0.704218457023251,
          -0.16775100738284582,
          -0.48213721243904073,
          0.6658584528618502,
          -0.6150215738644431,
          0.0074246845004880754,
          -0.3190330740515592,
          0.1571821414331414,
          -0.1608149022680011,
          0.5637377759773645,
          0.21024785636868304,
          0.14433426799995488,
          0.7350668958399331,
          0.606194614681758,
          -0.5468611735534156,
          0.6054153811819943,
          -0.04833432850281184,
          0.1556490177216249,
          0.5702916160494838,
          0.6465654546719614,
          0.39226596010330705,
          0.6848422933610117,
          0.4157889902520051,
          0.7560479205813119,
          0.5295289863278946,
          0.023441583988347392,
          0.246298375740339,
          0.6431223614083528,
          0.7195835750761386,
          0.3528853021187735,
          0.4188247195261745,
          0.6373893035964374,
          0.43269162557265617,
          -0.3912100740162945,
          0.6641225167687769,
          0.39639056751843077,
          0.31874645290810794,
          0.5989044168951072,
          0.211660761593238,
          -0.4494839986654262,
          0.6473082128871724,
          -0.1690690796486564,
          0.620267568548596
         ],
         "z": [
          -0.26132626246785107,
          0.03507755376252453,
          -0.2492028814455988,
          0.021823805230831786,
          0.1915249641494755,
          0.31710571767528484,
          -0.1336869491968763,
          -0.007878353484241204,
          0.4678329666469455,
          0.23401590331096714,
          -0.12152034155667828,
          0.0697297246970725,
          -0.15761100867864133,
          -0.13927910752526051,
          0.09790432464917263,
          0.0643384312707718,
          -0.0592651597958607,
          0.24642318321406567,
          -0.021623330895744954,
          -0.38573526323950624,
          0.39019099286224895,
          -0.47610118298284754,
          -0.18764369427633687,
          -0.1718964378286919,
          0.26579775680607165,
          0.022232570953859568,
          0.11210787469680465,
          0.17826927395705006,
          -0.07641251779081992,
          0.3743664871676105,
          0.1434666848980154,
          -0.37070335587763303,
          0.1373625938693647,
          0.09297312239602021,
          0.26687349595586757,
          0.3241509753843437,
          0.15571837796848986,
          -0.06928305131116311,
          0.1312288869222715,
          0.27325685728216437,
          0.25979141801946787,
          0.1596495829529061,
          0.10029989515401425,
          0.11781711081199209,
          0.2519203748535296,
          0.17445205313424794,
          -0.07109775704149746,
          0.3170526320950788,
          0.28640517222515083,
          -0.10303808138562298,
          -0.13498243358824924,
          0.2591341471975659,
          0.09033950411604567,
          0.23025678673610445,
          0.07305737866428333,
          0.14297883571138167,
          -0.33508853038447317,
          0.43823703255985796,
          0.05828837735895401,
          0.25317605302758633
         ]
        }
       ],
       "layout": {
        "legend": {
         "tracegroupgap": 0
        },
        "margin": {
         "t": 60
        },
        "scene": {
         "domain": {
          "x": [
           0,
           1
          ],
          "y": [
           0,
           1
          ]
         },
         "xaxis": {
          "title": {
           "text": "x"
          }
         },
         "yaxis": {
          "title": {
           "text": "y"
          }
         },
         "zaxis": {
          "title": {
           "text": "z"
          }
         }
        },
        "template": {
         "data": {
          "bar": [
           {
            "error_x": {
             "color": "#2a3f5f"
            },
            "error_y": {
             "color": "#2a3f5f"
            },
            "marker": {
             "line": {
              "color": "#E5ECF6",
              "width": 0.5
             }
            },
            "type": "bar"
           }
          ],
          "barpolar": [
           {
            "marker": {
             "line": {
              "color": "#E5ECF6",
              "width": 0.5
             }
            },
            "type": "barpolar"
           }
          ],
          "carpet": [
           {
            "aaxis": {
             "endlinecolor": "#2a3f5f",
             "gridcolor": "white",
             "linecolor": "white",
             "minorgridcolor": "white",
             "startlinecolor": "#2a3f5f"
            },
            "baxis": {
             "endlinecolor": "#2a3f5f",
             "gridcolor": "white",
             "linecolor": "white",
             "minorgridcolor": "white",
             "startlinecolor": "#2a3f5f"
            },
            "type": "carpet"
           }
          ],
          "choropleth": [
           {
            "colorbar": {
             "outlinewidth": 0,
             "ticks": ""
            },
            "type": "choropleth"
           }
          ],
          "contour": [
           {
            "colorbar": {
             "outlinewidth": 0,
             "ticks": ""
            },
            "colorscale": [
             [
              0,
              "#0d0887"
             ],
             [
              0.1111111111111111,
              "#46039f"
             ],
             [
              0.2222222222222222,
              "#7201a8"
             ],
             [
              0.3333333333333333,
              "#9c179e"
             ],
             [
              0.4444444444444444,
              "#bd3786"
             ],
             [
              0.5555555555555556,
              "#d8576b"
             ],
             [
              0.6666666666666666,
              "#ed7953"
             ],
             [
              0.7777777777777778,
              "#fb9f3a"
             ],
             [
              0.8888888888888888,
              "#fdca26"
             ],
             [
              1,
              "#f0f921"
             ]
            ],
            "type": "contour"
           }
          ],
          "contourcarpet": [
           {
            "colorbar": {
             "outlinewidth": 0,
             "ticks": ""
            },
            "type": "contourcarpet"
           }
          ],
          "heatmap": [
           {
            "colorbar": {
             "outlinewidth": 0,
             "ticks": ""
            },
            "colorscale": [
             [
              0,
              "#0d0887"
             ],
             [
              0.1111111111111111,
              "#46039f"
             ],
             [
              0.2222222222222222,
              "#7201a8"
             ],
             [
              0.3333333333333333,
              "#9c179e"
             ],
             [
              0.4444444444444444,
              "#bd3786"
             ],
             [
              0.5555555555555556,
              "#d8576b"
             ],
             [
              0.6666666666666666,
              "#ed7953"
             ],
             [
              0.7777777777777778,
              "#fb9f3a"
             ],
             [
              0.8888888888888888,
              "#fdca26"
             ],
             [
              1,
              "#f0f921"
             ]
            ],
            "type": "heatmap"
           }
          ],
          "heatmapgl": [
           {
            "colorbar": {
             "outlinewidth": 0,
             "ticks": ""
            },
            "colorscale": [
             [
              0,
              "#0d0887"
             ],
             [
              0.1111111111111111,
              "#46039f"
             ],
             [
              0.2222222222222222,
              "#7201a8"
             ],
             [
              0.3333333333333333,
              "#9c179e"
             ],
             [
              0.4444444444444444,
              "#bd3786"
             ],
             [
              0.5555555555555556,
              "#d8576b"
             ],
             [
              0.6666666666666666,
              "#ed7953"
             ],
             [
              0.7777777777777778,
              "#fb9f3a"
             ],
             [
              0.8888888888888888,
              "#fdca26"
             ],
             [
              1,
              "#f0f921"
             ]
            ],
            "type": "heatmapgl"
           }
          ],
          "histogram": [
           {
            "marker": {
             "colorbar": {
              "outlinewidth": 0,
              "ticks": ""
             }
            },
            "type": "histogram"
           }
          ],
          "histogram2d": [
           {
            "colorbar": {
             "outlinewidth": 0,
             "ticks": ""
            },
            "colorscale": [
             [
              0,
              "#0d0887"
             ],
             [
              0.1111111111111111,
              "#46039f"
             ],
             [
              0.2222222222222222,
              "#7201a8"
             ],
             [
              0.3333333333333333,
              "#9c179e"
             ],
             [
              0.4444444444444444,
              "#bd3786"
             ],
             [
              0.5555555555555556,
              "#d8576b"
             ],
             [
              0.6666666666666666,
              "#ed7953"
             ],
             [
              0.7777777777777778,
              "#fb9f3a"
             ],
             [
              0.8888888888888888,
              "#fdca26"
             ],
             [
              1,
              "#f0f921"
             ]
            ],
            "type": "histogram2d"
           }
          ],
          "histogram2dcontour": [
           {
            "colorbar": {
             "outlinewidth": 0,
             "ticks": ""
            },
            "colorscale": [
             [
              0,
              "#0d0887"
             ],
             [
              0.1111111111111111,
              "#46039f"
             ],
             [
              0.2222222222222222,
              "#7201a8"
             ],
             [
              0.3333333333333333,
              "#9c179e"
             ],
             [
              0.4444444444444444,
              "#bd3786"
             ],
             [
              0.5555555555555556,
              "#d8576b"
             ],
             [
              0.6666666666666666,
              "#ed7953"
             ],
             [
              0.7777777777777778,
              "#fb9f3a"
             ],
             [
              0.8888888888888888,
              "#fdca26"
             ],
             [
              1,
              "#f0f921"
             ]
            ],
            "type": "histogram2dcontour"
           }
          ],
          "mesh3d": [
           {
            "colorbar": {
             "outlinewidth": 0,
             "ticks": ""
            },
            "type": "mesh3d"
           }
          ],
          "parcoords": [
           {
            "line": {
             "colorbar": {
              "outlinewidth": 0,
              "ticks": ""
             }
            },
            "type": "parcoords"
           }
          ],
          "pie": [
           {
            "automargin": true,
            "type": "pie"
           }
          ],
          "scatter": [
           {
            "marker": {
             "colorbar": {
              "outlinewidth": 0,
              "ticks": ""
             }
            },
            "type": "scatter"
           }
          ],
          "scatter3d": [
           {
            "line": {
             "colorbar": {
              "outlinewidth": 0,
              "ticks": ""
             }
            },
            "marker": {
             "colorbar": {
              "outlinewidth": 0,
              "ticks": ""
             }
            },
            "type": "scatter3d"
           }
          ],
          "scattercarpet": [
           {
            "marker": {
             "colorbar": {
              "outlinewidth": 0,
              "ticks": ""
             }
            },
            "type": "scattercarpet"
           }
          ],
          "scattergeo": [
           {
            "marker": {
             "colorbar": {
              "outlinewidth": 0,
              "ticks": ""
             }
            },
            "type": "scattergeo"
           }
          ],
          "scattergl": [
           {
            "marker": {
             "colorbar": {
              "outlinewidth": 0,
              "ticks": ""
             }
            },
            "type": "scattergl"
           }
          ],
          "scattermapbox": [
           {
            "marker": {
             "colorbar": {
              "outlinewidth": 0,
              "ticks": ""
             }
            },
            "type": "scattermapbox"
           }
          ],
          "scatterpolar": [
           {
            "marker": {
             "colorbar": {
              "outlinewidth": 0,
              "ticks": ""
             }
            },
            "type": "scatterpolar"
           }
          ],
          "scatterpolargl": [
           {
            "marker": {
             "colorbar": {
              "outlinewidth": 0,
              "ticks": ""
             }
            },
            "type": "scatterpolargl"
           }
          ],
          "scatterternary": [
           {
            "marker": {
             "colorbar": {
              "outlinewidth": 0,
              "ticks": ""
             }
            },
            "type": "scatterternary"
           }
          ],
          "surface": [
           {
            "colorbar": {
             "outlinewidth": 0,
             "ticks": ""
            },
            "colorscale": [
             [
              0,
              "#0d0887"
             ],
             [
              0.1111111111111111,
              "#46039f"
             ],
             [
              0.2222222222222222,
              "#7201a8"
             ],
             [
              0.3333333333333333,
              "#9c179e"
             ],
             [
              0.4444444444444444,
              "#bd3786"
             ],
             [
              0.5555555555555556,
              "#d8576b"
             ],
             [
              0.6666666666666666,
              "#ed7953"
             ],
             [
              0.7777777777777778,
              "#fb9f3a"
             ],
             [
              0.8888888888888888,
              "#fdca26"
             ],
             [
              1,
              "#f0f921"
             ]
            ],
            "type": "surface"
           }
          ],
          "table": [
           {
            "cells": {
             "fill": {
              "color": "#EBF0F8"
             },
             "line": {
              "color": "white"
             }
            },
            "header": {
             "fill": {
              "color": "#C8D4E3"
             },
             "line": {
              "color": "white"
             }
            },
            "type": "table"
           }
          ]
         },
         "layout": {
          "annotationdefaults": {
           "arrowcolor": "#2a3f5f",
           "arrowhead": 0,
           "arrowwidth": 1
          },
          "coloraxis": {
           "colorbar": {
            "outlinewidth": 0,
            "ticks": ""
           }
          },
          "colorscale": {
           "diverging": [
            [
             0,
             "#8e0152"
            ],
            [
             0.1,
             "#c51b7d"
            ],
            [
             0.2,
             "#de77ae"
            ],
            [
             0.3,
             "#f1b6da"
            ],
            [
             0.4,
             "#fde0ef"
            ],
            [
             0.5,
             "#f7f7f7"
            ],
            [
             0.6,
             "#e6f5d0"
            ],
            [
             0.7,
             "#b8e186"
            ],
            [
             0.8,
             "#7fbc41"
            ],
            [
             0.9,
             "#4d9221"
            ],
            [
             1,
             "#276419"
            ]
           ],
           "sequential": [
            [
             0,
             "#0d0887"
            ],
            [
             0.1111111111111111,
             "#46039f"
            ],
            [
             0.2222222222222222,
             "#7201a8"
            ],
            [
             0.3333333333333333,
             "#9c179e"
            ],
            [
             0.4444444444444444,
             "#bd3786"
            ],
            [
             0.5555555555555556,
             "#d8576b"
            ],
            [
             0.6666666666666666,
             "#ed7953"
            ],
            [
             0.7777777777777778,
             "#fb9f3a"
            ],
            [
             0.8888888888888888,
             "#fdca26"
            ],
            [
             1,
             "#f0f921"
            ]
           ],
           "sequentialminus": [
            [
             0,
             "#0d0887"
            ],
            [
             0.1111111111111111,
             "#46039f"
            ],
            [
             0.2222222222222222,
             "#7201a8"
            ],
            [
             0.3333333333333333,
             "#9c179e"
            ],
            [
             0.4444444444444444,
             "#bd3786"
            ],
            [
             0.5555555555555556,
             "#d8576b"
            ],
            [
             0.6666666666666666,
             "#ed7953"
            ],
            [
             0.7777777777777778,
             "#fb9f3a"
            ],
            [
             0.8888888888888888,
             "#fdca26"
            ],
            [
             1,
             "#f0f921"
            ]
           ]
          },
          "colorway": [
           "#636efa",
           "#EF553B",
           "#00cc96",
           "#ab63fa",
           "#FFA15A",
           "#19d3f3",
           "#FF6692",
           "#B6E880",
           "#FF97FF",
           "#FECB52"
          ],
          "font": {
           "color": "#2a3f5f"
          },
          "geo": {
           "bgcolor": "white",
           "lakecolor": "white",
           "landcolor": "#E5ECF6",
           "showlakes": true,
           "showland": true,
           "subunitcolor": "white"
          },
          "hoverlabel": {
           "align": "left"
          },
          "hovermode": "closest",
          "mapbox": {
           "style": "light"
          },
          "paper_bgcolor": "white",
          "plot_bgcolor": "#E5ECF6",
          "polar": {
           "angularaxis": {
            "gridcolor": "white",
            "linecolor": "white",
            "ticks": ""
           },
           "bgcolor": "#E5ECF6",
           "radialaxis": {
            "gridcolor": "white",
            "linecolor": "white",
            "ticks": ""
           }
          },
          "scene": {
           "xaxis": {
            "backgroundcolor": "#E5ECF6",
            "gridcolor": "white",
            "gridwidth": 2,
            "linecolor": "white",
            "showbackground": true,
            "ticks": "",
            "zerolinecolor": "white"
           },
           "yaxis": {
            "backgroundcolor": "#E5ECF6",
            "gridcolor": "white",
            "gridwidth": 2,
            "linecolor": "white",
            "showbackground": true,
            "ticks": "",
            "zerolinecolor": "white"
           },
           "zaxis": {
            "backgroundcolor": "#E5ECF6",
            "gridcolor": "white",
            "gridwidth": 2,
            "linecolor": "white",
            "showbackground": true,
            "ticks": "",
            "zerolinecolor": "white"
           }
          },
          "shapedefaults": {
           "line": {
            "color": "#2a3f5f"
           }
          },
          "ternary": {
           "aaxis": {
            "gridcolor": "white",
            "linecolor": "white",
            "ticks": ""
           },
           "baxis": {
            "gridcolor": "white",
            "linecolor": "white",
            "ticks": ""
           },
           "bgcolor": "#E5ECF6",
           "caxis": {
            "gridcolor": "white",
            "linecolor": "white",
            "ticks": ""
           }
          },
          "title": {
           "x": 0.05
          },
          "xaxis": {
           "automargin": true,
           "gridcolor": "white",
           "linecolor": "white",
           "ticks": "",
           "title": {
            "standoff": 15
           },
           "zerolinecolor": "white",
           "zerolinewidth": 2
          },
          "yaxis": {
           "automargin": true,
           "gridcolor": "white",
           "linecolor": "white",
           "ticks": "",
           "title": {
            "standoff": 15
           },
           "zerolinecolor": "white",
           "zerolinewidth": 2
          }
         }
        }
       }
      }
     },
     "metadata": {}
    }
   ],
   "source": [
    "df_plot = X\n",
    "fig = px.scatter_3d(\n",
    "    df_plot,\n",
    "    x=X[:, 0],\n",
    "    y=X[:, 1],\n",
    "    z=X[:, 2])\n",
    "fig.show()"
   ]
  },
  {
   "cell_type": "markdown",
   "metadata": {},
   "source": [
    "## PCA using SVD decomposition¶"
   ]
  },
  {
   "cell_type": "code",
   "execution_count": 10,
   "metadata": {},
   "outputs": [],
   "source": [
    "X_centered = X - X.mean(axis=0)\n",
    "U, s, Vt = np.linalg.svd(X_centered)\n",
    "c1 = Vt.T[:, 0]\n",
    "c2 = Vt.T[:, 1]"
   ]
  },
  {
   "cell_type": "code",
   "execution_count": 11,
   "metadata": {},
   "outputs": [],
   "source": [
    "m, n = X.shape\n",
    "\n",
    "S = np.zeros(X_centered.shape)\n",
    "S[:n, :n] = np.diag(s)"
   ]
  },
  {
   "cell_type": "code",
   "execution_count": 12,
   "metadata": {},
   "outputs": [
    {
     "output_type": "execute_result",
     "data": {
      "text/plain": "True"
     },
     "metadata": {},
     "execution_count": 12
    }
   ],
   "source": [
    "np.allclose(X_centered, U.dot(S).dot(Vt))"
   ]
  },
  {
   "cell_type": "code",
   "execution_count": 13,
   "metadata": {},
   "outputs": [],
   "source": [
    "W2 = Vt.T[:, :2]\n",
    "X2D = X_centered.dot(W2)"
   ]
  },
  {
   "cell_type": "code",
   "execution_count": 14,
   "metadata": {},
   "outputs": [],
   "source": [
    "X2D_using_svd = X2D"
   ]
  },
  {
   "cell_type": "markdown",
   "metadata": {},
   "source": [
    "## PCA using Scikit-Learn\n"
   ]
  },
  {
   "cell_type": "code",
   "execution_count": 15,
   "metadata": {},
   "outputs": [],
   "source": [
    "from sklearn.decomposition import PCA\n",
    "\n",
    "pca = PCA(n_components = 2)\n",
    "X2D = pca.fit_transform(X)"
   ]
  },
  {
   "cell_type": "code",
   "execution_count": 16,
   "metadata": {},
   "outputs": [
    {
     "output_type": "execute_result",
     "data": {
      "text/plain": "array([[ 1.26203346,  0.42067648],\n       [-0.08001485, -0.35272239],\n       [ 1.17545763,  0.36085729],\n       [ 0.89305601, -0.30862856],\n       [ 0.73016287, -0.25404049]])"
     },
     "metadata": {},
     "execution_count": 16
    }
   ],
   "source": [
    "X2D[:5]"
   ]
  },
  {
   "cell_type": "code",
   "execution_count": 17,
   "metadata": {},
   "outputs": [
    {
     "output_type": "execute_result",
     "data": {
      "text/plain": "array([[-1.26203346, -0.42067648],\n       [ 0.08001485,  0.35272239],\n       [-1.17545763, -0.36085729],\n       [-0.89305601,  0.30862856],\n       [-0.73016287,  0.25404049]])"
     },
     "metadata": {},
     "execution_count": 17
    }
   ],
   "source": [
    "X2D_using_svd[:5]"
   ]
  },
  {
   "cell_type": "code",
   "execution_count": 18,
   "metadata": {},
   "outputs": [
    {
     "output_type": "execute_result",
     "data": {
      "text/plain": "True"
     },
     "metadata": {},
     "execution_count": 18
    }
   ],
   "source": [
    "np.allclose(X2D, -X2D_using_svd)"
   ]
  },
  {
   "cell_type": "code",
   "execution_count": 19,
   "metadata": {},
   "outputs": [],
   "source": [
    "X3D_inv = pca.inverse_transform(X2D)"
   ]
  },
  {
   "cell_type": "code",
   "execution_count": 20,
   "metadata": {},
   "outputs": [
    {
     "output_type": "execute_result",
     "data": {
      "text/plain": "False"
     },
     "metadata": {},
     "execution_count": 20
    }
   ],
   "source": [
    "np.allclose(X3D_inv, X)"
   ]
  },
  {
   "cell_type": "code",
   "execution_count": 21,
   "metadata": {},
   "outputs": [
    {
     "output_type": "execute_result",
     "data": {
      "text/plain": "0.01017033779284855"
     },
     "metadata": {},
     "execution_count": 21
    }
   ],
   "source": [
    "np.mean(np.sum(np.square(X3D_inv - X), axis=1))"
   ]
  },
  {
   "cell_type": "code",
   "execution_count": 22,
   "metadata": {},
   "outputs": [],
   "source": [
    "X3D_inv_using_svd = X2D_using_svd.dot(Vt[:2, :])"
   ]
  },
  {
   "cell_type": "code",
   "execution_count": 23,
   "metadata": {},
   "outputs": [
    {
     "output_type": "execute_result",
     "data": {
      "text/plain": "True"
     },
     "metadata": {},
     "execution_count": 23
    }
   ],
   "source": [
    "np.allclose(X3D_inv_using_svd, X3D_inv - pca.mean_)"
   ]
  },
  {
   "cell_type": "code",
   "execution_count": 24,
   "metadata": {},
   "outputs": [
    {
     "output_type": "execute_result",
     "data": {
      "text/plain": "array([[-0.93636116, -0.29854881, -0.18465208],\n       [ 0.34027485, -0.90119108, -0.2684542 ]])"
     },
     "metadata": {},
     "execution_count": 24
    }
   ],
   "source": [
    "pca.components_"
   ]
  },
  {
   "cell_type": "code",
   "execution_count": 25,
   "metadata": {},
   "outputs": [
    {
     "output_type": "execute_result",
     "data": {
      "text/plain": "array([[ 0.93636116,  0.29854881,  0.18465208],\n       [-0.34027485,  0.90119108,  0.2684542 ]])"
     },
     "metadata": {},
     "execution_count": 25
    }
   ],
   "source": [
    "Vt[:2]"
   ]
  },
  {
   "cell_type": "code",
   "execution_count": 26,
   "metadata": {},
   "outputs": [
    {
     "output_type": "execute_result",
     "data": {
      "text/plain": "array([0.84248607, 0.14631839])"
     },
     "metadata": {},
     "execution_count": 26
    }
   ],
   "source": [
    "pca.explained_variance_ratio_"
   ]
  },
  {
   "cell_type": "code",
   "execution_count": 27,
   "metadata": {},
   "outputs": [
    {
     "output_type": "execute_result",
     "data": {
      "text/plain": "0.011195535570688975"
     },
     "metadata": {},
     "execution_count": 27
    }
   ],
   "source": [
    "1 - pca.explained_variance_ratio_.sum()"
   ]
  },
  {
   "cell_type": "code",
   "execution_count": 28,
   "metadata": {},
   "outputs": [
    {
     "output_type": "execute_result",
     "data": {
      "text/plain": "array([0.84248607, 0.14631839, 0.01119554])"
     },
     "metadata": {},
     "execution_count": 28
    }
   ],
   "source": [
    "np.square(s) / np.square(s).sum()"
   ]
  },
  {
   "cell_type": "code",
   "execution_count": 30,
   "metadata": {},
   "outputs": [],
   "source": [
    "from matplotlib.patches import FancyArrowPatch\n",
    "from mpl_toolkits.mplot3d import proj3d\n",
    "\n",
    "class Arrow3D(FancyArrowPatch):\n",
    "    def __init__(self, xs, ys, zs, *args, **kwargs):\n",
    "        FancyArrowPatch.__init__(self, (0,0), (0,0), *args, **kwargs)\n",
    "        self._verts3d = xs, ys, zs\n",
    "\n",
    "    def draw(self, renderer):\n",
    "        xs3d, ys3d, zs3d = self._verts3d\n",
    "        xs, ys, zs = proj3d.proj_transform(xs3d, ys3d, zs3d, renderer.M)\n",
    "        self.set_positions((xs[0],ys[0]),(xs[1],ys[1]))\n",
    "        FancyArrowPatch.draw(self, renderer)"
   ]
  },
  {
   "cell_type": "code",
   "execution_count": 31,
   "metadata": {},
   "outputs": [],
   "source": [
    "axes = [-1.8, 1.8, -1.3, 1.3, -1.0, 1.0]\n",
    "\n",
    "x1s = np.linspace(axes[0], axes[1], 10)\n",
    "x2s = np.linspace(axes[2], axes[3], 10)\n",
    "x1, x2 = np.meshgrid(x1s, x2s)\n",
    "\n",
    "C = pca.components_\n",
    "R = C.T.dot(C)\n",
    "z = (R[0, 2] * x1 + R[1, 2] * x2) / (1 - R[2, 2])"
   ]
  },
  {
   "cell_type": "code",
   "execution_count": 32,
   "metadata": {},
   "outputs": [
    {
     "output_type": "stream",
     "name": "stdout",
     "text": "Saving figure dataset_3d_plot\n"
    },
    {
     "output_type": "display_data",
     "data": {
      "text/plain": "<Figure size 432x273.6 with 1 Axes>",
      "image/svg+xml": "<?xml version=\"1.0\" encoding=\"utf-8\" standalone=\"no\"?>\n<!DOCTYPE svg PUBLIC \"-//W3C//DTD SVG 1.1//EN\"\n  \"http://www.w3.org/Graphics/SVG/1.1/DTD/svg11.dtd\">\n<!-- Created with matplotlib (https://matplotlib.org/) -->\n<svg height=\"266.4pt\" version=\"1.1\" viewBox=\"0 0 424.8 266.4\" width=\"424.8pt\" xmlns=\"http://www.w3.org/2000/svg\" xmlns:xlink=\"http://www.w3.org/1999/xlink\">\n <defs>\n  <style type=\"text/css\">\n*{stroke-linecap:butt;stroke-linejoin:round;}\n  </style>\n </defs>\n <g id=\"figure_1\">\n  <g id=\"patch_1\">\n   <path d=\"M 0 266.4 \nL 424.8 266.4 \nL 424.8 0 \nL 0 0 \nz\n\" style=\"fill:none;\"/>\n  </g>\n  <g id=\"patch_2\">\n   <path d=\"M 7.2 259.2 \nL 417.6 259.2 \nL 417.6 7.2 \nL 7.2 7.2 \nz\n\" style=\"fill:#ffffff;\"/>\n  </g>\n  <g id=\"pane3d_1\">\n   <g id=\"patch_3\">\n    <path d=\"M 61.604862 203.516881 \nL 179.063489 141.732191 \nL 177.107927 23.671789 \nL 53.100212 79.184062 \n\" style=\"fill:#f2f2f2;opacity:0.5;stroke:#f2f2f2;stroke-linejoin:miter;\"/>\n   </g>\n  </g>\n  <g id=\"pane3d_2\">\n   <g id=\"patch_4\">\n    <path d=\"M 179.063489 141.732191 \nL 369.335422 176.27382 \nL 377.296172 54.653354 \nL 177.107927 23.671789 \n\" style=\"fill:#e6e6e6;opacity:0.5;stroke:#e6e6e6;stroke-linejoin:miter;\"/>\n   </g>\n  </g>\n  <g id=\"pane3d_3\">\n   <g id=\"patch_5\">\n    <path d=\"M 61.604862 203.516881 \nL 261.796645 243.746236 \nL 369.335422 176.27382 \nL 179.063489 141.732191 \n\" style=\"fill:#ececec;opacity:0.5;stroke:#ececec;stroke-linejoin:miter;\"/>\n   </g>\n  </g>\n  <g id=\"axis3d_1\">\n   <g id=\"line2d_1\">\n    <path d=\"M 61.604862 203.516881 \nL 261.796645 243.746236 \n\" style=\"fill:none;stroke:#000000;stroke-linecap:square;stroke-width:0.8;\"/>\n   </g>\n   <g id=\"text_1\">\n    <!-- $x_1$ -->\n    <defs>\n     <path d=\"M 60.015625 54.6875 \nL 34.90625 27.875 \nL 50.296875 0 \nL 39.984375 0 \nL 28.421875 21.6875 \nL 8.296875 0 \nL -2.59375 0 \nL 24.3125 28.8125 \nL 10.015625 54.6875 \nL 20.3125 54.6875 \nL 30.8125 34.90625 \nL 49.125 54.6875 \nz\n\" id=\"DejaVuSans-Oblique-120\"/>\n     <path d=\"M 12.40625 8.296875 \nL 28.515625 8.296875 \nL 28.515625 63.921875 \nL 10.984375 60.40625 \nL 10.984375 69.390625 \nL 28.421875 72.90625 \nL 38.28125 72.90625 \nL 38.28125 8.296875 \nL 54.390625 8.296875 \nL 54.390625 0 \nL 12.40625 0 \nz\n\" id=\"DejaVuSans-49\"/>\n    </defs>\n    <g transform=\"translate(127.576897 260.310683)rotate(-348.637515)scale(0.18 -0.18)\">\n     <use transform=\"translate(0 0.3125)\" xlink:href=\"#DejaVuSans-Oblique-120\"/>\n     <use transform=\"translate(59.179688 -16.09375)scale(0.7)\" xlink:href=\"#DejaVuSans-49\"/>\n    </g>\n   </g>\n   <g id=\"Line3DCollection_1\">\n    <path d=\"M 80.815423 207.377322 \nL 197.377567 145.056896 \nL 196.338572 26.647965 \n\" style=\"fill:none;stroke:#b0b0b0;stroke-width:0.8;\"/>\n    <path d=\"M 106.699351 212.578802 \nL 222.034933 149.533151 \nL 222.242697 30.656943 \n\" style=\"fill:none;stroke:#b0b0b0;stroke-width:0.8;\"/>\n    <path d=\"M 132.896811 217.843289 \nL 246.96919 154.059671 \nL 248.452581 34.713242 \n\" style=\"fill:none;stroke:#b0b0b0;stroke-width:0.8;\"/>\n    <path d=\"M 159.413535 223.171933 \nL 272.185026 158.637309 \nL 274.973668 38.817702 \n\" style=\"fill:none;stroke:#b0b0b0;stroke-width:0.8;\"/>\n    <path d=\"M 186.255394 228.565914 \nL 297.68724 163.266936 \nL 301.811534 42.971189 \n\" style=\"fill:none;stroke:#b0b0b0;stroke-width:0.8;\"/>\n    <path d=\"M 213.428406 234.026441 \nL 323.480738 167.949442 \nL 328.97189 47.174584 \n\" style=\"fill:none;stroke:#b0b0b0;stroke-width:0.8;\"/>\n    <path d=\"M 240.938736 239.554754 \nL 349.570538 172.685738 \nL 356.460583 51.428793 \n\" style=\"fill:none;stroke:#b0b0b0;stroke-width:0.8;\"/>\n   </g>\n   <g id=\"xtick_1\">\n    <g id=\"line2d_2\">\n     <path d=\"M 81.819783 206.840337 \nL 78.802951 208.453298 \n\" style=\"fill:none;stroke:#000000;stroke-linecap:square;stroke-width:0.8;\"/>\n    </g>\n    <g id=\"text_2\">\n     <!-- −1.5 -->\n     <defs>\n      <path d=\"M 10.59375 35.5 \nL 73.1875 35.5 \nL 73.1875 27.203125 \nL 10.59375 27.203125 \nz\n\" id=\"DejaVuSans-8722\"/>\n      <path d=\"M 10.6875 12.40625 \nL 21 12.40625 \nL 21 0 \nL 10.6875 0 \nz\n\" id=\"DejaVuSans-46\"/>\n      <path d=\"M 10.796875 72.90625 \nL 49.515625 72.90625 \nL 49.515625 64.59375 \nL 19.828125 64.59375 \nL 19.828125 46.734375 \nQ 21.96875 47.46875 24.109375 47.828125 \nQ 26.265625 48.1875 28.421875 48.1875 \nQ 40.625 48.1875 47.75 41.5 \nQ 54.890625 34.8125 54.890625 23.390625 \nQ 54.890625 11.625 47.5625 5.09375 \nQ 40.234375 -1.421875 26.90625 -1.421875 \nQ 22.3125 -1.421875 17.546875 -0.640625 \nQ 12.796875 0.140625 7.71875 1.703125 \nL 7.71875 11.625 \nQ 12.109375 9.234375 16.796875 8.0625 \nQ 21.484375 6.890625 26.703125 6.890625 \nQ 35.15625 6.890625 40.078125 11.328125 \nQ 45.015625 15.765625 45.015625 23.390625 \nQ 45.015625 31 40.078125 35.4375 \nQ 35.15625 39.890625 26.703125 39.890625 \nQ 22.75 39.890625 18.8125 39.015625 \nQ 14.890625 38.140625 10.796875 36.28125 \nz\n\" id=\"DejaVuSans-53\"/>\n     </defs>\n     <g transform=\"translate(58.330961 228.877658)scale(0.12 -0.12)\">\n      <use xlink:href=\"#DejaVuSans-8722\"/>\n      <use x=\"83.789062\" xlink:href=\"#DejaVuSans-49\"/>\n      <use x=\"147.412109\" xlink:href=\"#DejaVuSans-46\"/>\n      <use x=\"179.199219\" xlink:href=\"#DejaVuSans-53\"/>\n     </g>\n    </g>\n   </g>\n   <g id=\"xtick_2\">\n    <g id=\"line2d_3\">\n     <path d=\"M 107.69357 212.035335 \nL 104.707176 213.667781 \n\" style=\"fill:none;stroke:#000000;stroke-linecap:square;stroke-width:0.8;\"/>\n    </g>\n    <g id=\"text_3\">\n     <!-- −1.0 -->\n     <defs>\n      <path d=\"M 31.78125 66.40625 \nQ 24.171875 66.40625 20.328125 58.90625 \nQ 16.5 51.421875 16.5 36.375 \nQ 16.5 21.390625 20.328125 13.890625 \nQ 24.171875 6.390625 31.78125 6.390625 \nQ 39.453125 6.390625 43.28125 13.890625 \nQ 47.125 21.390625 47.125 36.375 \nQ 47.125 51.421875 43.28125 58.90625 \nQ 39.453125 66.40625 31.78125 66.40625 \nz\nM 31.78125 74.21875 \nQ 44.046875 74.21875 50.515625 64.515625 \nQ 56.984375 54.828125 56.984375 36.375 \nQ 56.984375 17.96875 50.515625 8.265625 \nQ 44.046875 -1.421875 31.78125 -1.421875 \nQ 19.53125 -1.421875 13.0625 8.265625 \nQ 6.59375 17.96875 6.59375 36.375 \nQ 6.59375 54.828125 13.0625 64.515625 \nQ 19.53125 74.21875 31.78125 74.21875 \nz\n\" id=\"DejaVuSans-48\"/>\n     </defs>\n     <g transform=\"translate(84.212219 234.162866)scale(0.12 -0.12)\">\n      <use xlink:href=\"#DejaVuSans-8722\"/>\n      <use x=\"83.789062\" xlink:href=\"#DejaVuSans-49\"/>\n      <use x=\"147.412109\" xlink:href=\"#DejaVuSans-46\"/>\n      <use x=\"179.199219\" xlink:href=\"#DejaVuSans-48\"/>\n     </g>\n    </g>\n   </g>\n   <g id=\"xtick_3\">\n    <g id=\"line2d_4\">\n     <path d=\"M 133.880569 217.29322 \nL 130.925575 218.945506 \n\" style=\"fill:none;stroke:#000000;stroke-linecap:square;stroke-width:0.8;\"/>\n    </g>\n    <g id=\"text_4\">\n     <!-- −0.5 -->\n     <g transform=\"translate(110.407526 239.512205)scale(0.12 -0.12)\">\n      <use xlink:href=\"#DejaVuSans-8722\"/>\n      <use x=\"83.789062\" xlink:href=\"#DejaVuSans-48\"/>\n      <use x=\"147.412109\" xlink:href=\"#DejaVuSans-46\"/>\n      <use x=\"179.199219\" xlink:href=\"#DejaVuSans-53\"/>\n     </g>\n    </g>\n   </g>\n   <g id=\"xtick_4\">\n    <g id=\"line2d_5\">\n     <path d=\"M 160.386503 222.615142 \nL 157.463898 224.287632 \n\" style=\"fill:none;stroke:#000000;stroke-linecap:square;stroke-width:0.8;\"/>\n    </g>\n    <g id=\"text_5\">\n     <!-- 0.0 -->\n     <g transform=\"translate(141.950446 244.92685)scale(0.12 -0.12)\">\n      <use xlink:href=\"#DejaVuSans-48\"/>\n      <use x=\"63.623047\" xlink:href=\"#DejaVuSans-46\"/>\n      <use x=\"95.410156\" xlink:href=\"#DejaVuSans-48\"/>\n     </g>\n    </g>\n   </g>\n   <g id=\"xtick_5\">\n    <g id=\"line2d_6\">\n     <path d=\"M 187.217232 228.002277 \nL 184.328036 229.695344 \n\" style=\"fill:none;stroke:#000000;stroke-linecap:square;stroke-width:0.8;\"/>\n    </g>\n    <g id=\"text_6\">\n     <!-- 0.5 -->\n     <g transform=\"translate(168.791244 250.408004)scale(0.12 -0.12)\">\n      <use xlink:href=\"#DejaVuSans-48\"/>\n      <use x=\"63.623047\" xlink:href=\"#DejaVuSans-46\"/>\n      <use x=\"95.410156\" xlink:href=\"#DejaVuSans-53\"/>\n     </g>\n    </g>\n   </g>\n   <g id=\"xtick_6\">\n    <g id=\"line2d_7\">\n     <path d=\"M 214.378765 233.455832 \nL 211.524027 235.169857 \n\" style=\"fill:none;stroke:#000000;stroke-linecap:square;stroke-width:0.8;\"/>\n    </g>\n    <g id=\"text_7\">\n     <!-- 1.0 -->\n     <g transform=\"translate(195.963773 255.956902)scale(0.12 -0.12)\">\n      <use xlink:href=\"#DejaVuSans-49\"/>\n      <use x=\"63.623047\" xlink:href=\"#DejaVuSans-46\"/>\n      <use x=\"95.410156\" xlink:href=\"#DejaVuSans-48\"/>\n     </g>\n    </g>\n   </g>\n   <g id=\"xtick_7\">\n    <g id=\"line2d_8\">\n     <path d=\"M 241.877257 238.977042 \nL 239.058058 240.712418 \n\" style=\"fill:none;stroke:#000000;stroke-linecap:square;stroke-width:0.8;\"/>\n    </g>\n    <g id=\"text_8\">\n     <!-- 1.5 -->\n     <g transform=\"translate(223.474221 261.574805)scale(0.12 -0.12)\">\n      <use xlink:href=\"#DejaVuSans-49\"/>\n      <use x=\"63.623047\" xlink:href=\"#DejaVuSans-46\"/>\n      <use x=\"95.410156\" xlink:href=\"#DejaVuSans-53\"/>\n     </g>\n    </g>\n   </g>\n  </g>\n  <g id=\"axis3d_2\">\n   <g id=\"line2d_9\">\n    <path d=\"M 369.335422 176.27382 \nL 261.796645 243.746236 \n\" style=\"fill:none;stroke:#000000;stroke-linecap:square;stroke-width:0.8;\"/>\n   </g>\n   <g id=\"text_9\">\n    <!-- $x_2$ -->\n    <defs>\n     <path d=\"M 19.1875 8.296875 \nL 53.609375 8.296875 \nL 53.609375 0 \nL 7.328125 0 \nL 7.328125 8.296875 \nQ 12.9375 14.109375 22.625 23.890625 \nQ 32.328125 33.6875 34.8125 36.53125 \nQ 39.546875 41.84375 41.421875 45.53125 \nQ 43.3125 49.21875 43.3125 52.78125 \nQ 43.3125 58.59375 39.234375 62.25 \nQ 35.15625 65.921875 28.609375 65.921875 \nQ 23.96875 65.921875 18.8125 64.3125 \nQ 13.671875 62.703125 7.8125 59.421875 \nL 7.8125 69.390625 \nQ 13.765625 71.78125 18.9375 73 \nQ 24.125 74.21875 28.421875 74.21875 \nQ 39.75 74.21875 46.484375 68.546875 \nQ 53.21875 62.890625 53.21875 53.421875 \nQ 53.21875 48.921875 51.53125 44.890625 \nQ 49.859375 40.875 45.40625 35.40625 \nQ 44.1875 33.984375 37.640625 27.21875 \nQ 31.109375 20.453125 19.1875 8.296875 \nz\n\" id=\"DejaVuSans-50\"/>\n    </defs>\n    <g transform=\"translate(347.811294 246.247382)rotate(-32.105149)scale(0.18 -0.18)\">\n     <use transform=\"translate(0 0.3125)\" xlink:href=\"#DejaVuSans-Oblique-120\"/>\n     <use transform=\"translate(59.179688 -16.09375)scale(0.7)\" xlink:href=\"#DejaVuSans-50\"/>\n    </g>\n   </g>\n   <g id=\"Line3DCollection_2\">\n    <path d=\"M 70.454637 71.415323 \nL 77.987711 194.8993 \nL 276.839237 234.308152 \n\" style=\"fill:none;stroke:#b0b0b0;stroke-width:0.8;\"/>\n    <path d=\"M 94.340317 60.722856 \nL 100.565392 183.023161 \nL 297.546796 221.315731 \n\" style=\"fill:none;stroke:#b0b0b0;stroke-width:0.8;\"/>\n    <path d=\"M 117.534575 50.339905 \nL 122.521974 171.473727 \nL 317.659098 208.696789 \n\" style=\"fill:none;stroke:#b0b0b0;stroke-width:0.8;\"/>\n    <path d=\"M 140.067004 40.253224 \nL 143.882741 160.237699 \nL 337.201446 196.435449 \n\" style=\"fill:none;stroke:#b0b0b0;stroke-width:0.8;\"/>\n    <path d=\"M 161.965534 30.450308 \nL 164.671619 149.302492 \nL 356.19773 184.516724 \n\" style=\"fill:none;stroke:#b0b0b0;stroke-width:0.8;\"/>\n   </g>\n   <g id=\"xtick_8\">\n    <g id=\"line2d_10\">\n     <path d=\"M 275.17542 233.978412 \nL 280.170571 234.968363 \n\" style=\"fill:none;stroke:#000000;stroke-linecap:square;stroke-width:0.8;\"/>\n    </g>\n    <g id=\"text_10\">\n     <!-- −1.0 -->\n     <g transform=\"translate(275.923501 254.202907)scale(0.12 -0.12)\">\n      <use xlink:href=\"#DejaVuSans-8722\"/>\n      <use x=\"83.789062\" xlink:href=\"#DejaVuSans-49\"/>\n      <use x=\"147.412109\" xlink:href=\"#DejaVuSans-46\"/>\n      <use x=\"179.199219\" xlink:href=\"#DejaVuSans-48\"/>\n     </g>\n    </g>\n   </g>\n   <g id=\"xtick_9\">\n    <g id=\"line2d_11\">\n     <path d=\"M 295.89968 220.995537 \nL 300.844635 221.956821 \n\" style=\"fill:none;stroke:#000000;stroke-linecap:square;stroke-width:0.8;\"/>\n    </g>\n    <g id=\"text_11\">\n     <!-- −0.5 -->\n     <g transform=\"translate(296.422309 241.059518)scale(0.12 -0.12)\">\n      <use xlink:href=\"#DejaVuSans-8722\"/>\n      <use x=\"83.789062\" xlink:href=\"#DejaVuSans-48\"/>\n      <use x=\"147.412109\" xlink:href=\"#DejaVuSans-46\"/>\n      <use x=\"179.199219\" xlink:href=\"#DejaVuSans-53\"/>\n     </g>\n    </g>\n   </g>\n   <g id=\"xtick_10\">\n    <g id=\"line2d_12\">\n     <path d=\"M 316.028418 208.385731 \nL 320.923978 209.319576 \n\" style=\"fill:none;stroke:#000000;stroke-linecap:square;stroke-width:0.8;\"/>\n    </g>\n    <g id=\"text_12\">\n     <!-- 0.0 -->\n     <g transform=\"translate(321.359947 228.293772)scale(0.12 -0.12)\">\n      <use xlink:href=\"#DejaVuSans-48\"/>\n      <use x=\"63.623047\" xlink:href=\"#DejaVuSans-46\"/>\n      <use x=\"95.410156\" xlink:href=\"#DejaVuSans-48\"/>\n     </g>\n    </g>\n   </g>\n   <g id=\"xtick_11\">\n    <g id=\"line2d_13\">\n     <path d=\"M 335.586939 196.133143 \nL 340.433898 197.040706 \n\" style=\"fill:none;stroke:#000000;stroke-linecap:square;stroke-width:0.8;\"/>\n    </g>\n    <g id=\"text_13\">\n     <!-- 0.5 -->\n     <g transform=\"translate(340.705814 215.889623)scale(0.12 -0.12)\">\n      <use xlink:href=\"#DejaVuSans-48\"/>\n      <use x=\"63.623047\" xlink:href=\"#DejaVuSans-46\"/>\n      <use x=\"95.410156\" xlink:href=\"#DejaVuSans-53\"/>\n     </g>\n    </g>\n   </g>\n   <g id=\"xtick_12\">\n    <g id=\"line2d_14\">\n     <path d=\"M 354.599134 184.222804 \nL 359.398278 185.105181 \n\" style=\"fill:none;stroke:#000000;stroke-linecap:square;stroke-width:0.8;\"/>\n    </g>\n    <g id=\"text_14\">\n     <!-- 1.0 -->\n     <g transform=\"translate(359.51135 203.831923)scale(0.12 -0.12)\">\n      <use xlink:href=\"#DejaVuSans-49\"/>\n      <use x=\"63.623047\" xlink:href=\"#DejaVuSans-46\"/>\n      <use x=\"95.410156\" xlink:href=\"#DejaVuSans-48\"/>\n     </g>\n    </g>\n   </g>\n  </g>\n  <g id=\"axis3d_3\">\n   <g id=\"line2d_15\">\n    <path d=\"M 369.335422 176.27382 \nL 377.296172 54.653354 \n\" style=\"fill:none;stroke:#000000;stroke-linecap:square;stroke-width:0.8;\"/>\n   </g>\n   <g id=\"text_15\">\n    <!-- $x_3$ -->\n    <defs>\n     <path d=\"M 40.578125 39.3125 \nQ 47.65625 37.796875 51.625 33 \nQ 55.609375 28.21875 55.609375 21.1875 \nQ 55.609375 10.40625 48.1875 4.484375 \nQ 40.765625 -1.421875 27.09375 -1.421875 \nQ 22.515625 -1.421875 17.65625 -0.515625 \nQ 12.796875 0.390625 7.625 2.203125 \nL 7.625 11.71875 \nQ 11.71875 9.328125 16.59375 8.109375 \nQ 21.484375 6.890625 26.8125 6.890625 \nQ 36.078125 6.890625 40.9375 10.546875 \nQ 45.796875 14.203125 45.796875 21.1875 \nQ 45.796875 27.640625 41.28125 31.265625 \nQ 36.765625 34.90625 28.71875 34.90625 \nL 20.21875 34.90625 \nL 20.21875 43.015625 \nL 29.109375 43.015625 \nQ 36.375 43.015625 40.234375 45.921875 \nQ 44.09375 48.828125 44.09375 54.296875 \nQ 44.09375 59.90625 40.109375 62.90625 \nQ 36.140625 65.921875 28.71875 65.921875 \nQ 24.65625 65.921875 20.015625 65.03125 \nQ 15.375 64.15625 9.8125 62.3125 \nL 9.8125 71.09375 \nQ 15.4375 72.65625 20.34375 73.4375 \nQ 25.25 74.21875 29.59375 74.21875 \nQ 40.828125 74.21875 47.359375 69.109375 \nQ 53.90625 64.015625 53.90625 55.328125 \nQ 53.90625 49.265625 50.4375 45.09375 \nQ 46.96875 40.921875 40.578125 39.3125 \nz\n\" id=\"DejaVuSans-51\"/>\n    </defs>\n    <g transform=\"translate(432.122519 122.465173)rotate(-86.255008)scale(0.18 -0.18)\">\n     <use transform=\"translate(0 0.3125)\" xlink:href=\"#DejaVuSans-Oblique-120\"/>\n     <use transform=\"translate(59.179688 -16.09375)scale(0.7)\" xlink:href=\"#DejaVuSans-51\"/>\n    </g>\n   </g>\n   <g id=\"Line3DCollection_3\">\n    <path d=\"M 369.486834 173.960616 \nL 179.026215 139.481896 \nL 61.443378 201.156079 \n\" style=\"fill:none;stroke:#b0b0b0;stroke-width:0.8;\"/>\n    <path d=\"M 370.401707 159.983641 \nL 178.801061 125.889 \nL 60.467423 186.888214 \n\" style=\"fill:none;stroke:#b0b0b0;stroke-width:0.8;\"/>\n    <path d=\"M 371.327693 145.836879 \nL 178.573287 112.137917 \nL 59.47922 172.441283 \n\" style=\"fill:none;stroke:#b0b0b0;stroke-width:0.8;\"/>\n    <path d=\"M 372.264996 131.517217 \nL 178.342847 98.22587 \nL 58.478536 157.811892 \n\" style=\"fill:none;stroke:#b0b0b0;stroke-width:0.8;\"/>\n    <path d=\"M 373.213825 117.021467 \nL 178.109693 84.150014 \nL 57.465133 142.996565 \n\" style=\"fill:none;stroke:#b0b0b0;stroke-width:0.8;\"/>\n    <path d=\"M 374.174394 102.34636 \nL 177.873778 69.907441 \nL 56.438769 127.991733 \n\" style=\"fill:none;stroke:#b0b0b0;stroke-width:0.8;\"/>\n    <path d=\"M 375.146922 87.488546 \nL 177.635052 55.495171 \nL 55.399191 112.793737 \n\" style=\"fill:none;stroke:#b0b0b0;stroke-width:0.8;\"/>\n    <path d=\"M 376.131634 72.444593 \nL 177.393465 40.910152 \nL 54.346143 97.398823 \n\" style=\"fill:none;stroke:#b0b0b0;stroke-width:0.8;\"/>\n    <path d=\"M 377.128761 57.210981 \nL 177.148964 26.14926 \nL 53.279363 81.803138 \n\" style=\"fill:none;stroke:#b0b0b0;stroke-width:0.8;\"/>\n   </g>\n   <g id=\"xtick_13\">\n    <g id=\"line2d_16\">\n     <path d=\"M 367.897713 173.672941 \nL 372.668384 174.536566 \n\" style=\"fill:none;stroke:#000000;stroke-linecap:square;stroke-width:0.8;\"/>\n    </g>\n    <g id=\"text_16\">\n     <!-- −1.00 -->\n     <g transform=\"translate(370.942867 181.326893)scale(0.12 -0.12)\">\n      <use xlink:href=\"#DejaVuSans-8722\"/>\n      <use x=\"83.789062\" xlink:href=\"#DejaVuSans-49\"/>\n      <use x=\"147.412109\" xlink:href=\"#DejaVuSans-46\"/>\n      <use x=\"179.199219\" xlink:href=\"#DejaVuSans-48\"/>\n      <use x=\"242.822266\" xlink:href=\"#DejaVuSans-48\"/>\n     </g>\n    </g>\n   </g>\n   <g id=\"xtick_14\">\n    <g id=\"line2d_17\">\n     <path d=\"M 368.802676 159.699099 \nL 373.603115 160.55332 \n\" style=\"fill:none;stroke:#000000;stroke-linecap:square;stroke-width:0.8;\"/>\n    </g>\n    <g id=\"text_17\">\n     <!-- −0.75 -->\n     <defs>\n      <path d=\"M 8.203125 72.90625 \nL 55.078125 72.90625 \nL 55.078125 68.703125 \nL 28.609375 0 \nL 18.3125 0 \nL 43.21875 64.59375 \nL 8.203125 64.59375 \nz\n\" id=\"DejaVuSans-55\"/>\n     </defs>\n     <g transform=\"translate(371.97534 167.36902)scale(0.12 -0.12)\">\n      <use xlink:href=\"#DejaVuSans-8722\"/>\n      <use x=\"83.789062\" xlink:href=\"#DejaVuSans-48\"/>\n      <use x=\"147.412109\" xlink:href=\"#DejaVuSans-46\"/>\n      <use x=\"179.199219\" xlink:href=\"#DejaVuSans-55\"/>\n      <use x=\"242.822266\" xlink:href=\"#DejaVuSans-53\"/>\n     </g>\n    </g>\n   </g>\n   <g id=\"xtick_15\">\n    <g id=\"line2d_18\">\n     <path d=\"M 369.718628 145.555568 \nL 374.549209 146.400091 \n\" style=\"fill:none;stroke:#000000;stroke-linecap:square;stroke-width:0.8;\"/>\n    </g>\n    <g id=\"text_18\">\n     <!-- −0.50 -->\n     <g transform=\"translate(373.020328 153.241954)scale(0.12 -0.12)\">\n      <use xlink:href=\"#DejaVuSans-8722\"/>\n      <use x=\"83.789062\" xlink:href=\"#DejaVuSans-48\"/>\n      <use x=\"147.412109\" xlink:href=\"#DejaVuSans-46\"/>\n      <use x=\"179.199219\" xlink:href=\"#DejaVuSans-53\"/>\n      <use x=\"242.822266\" xlink:href=\"#DejaVuSans-48\"/>\n     </g>\n    </g>\n   </g>\n   <g id=\"xtick_16\">\n    <g id=\"line2d_19\">\n     <path d=\"M 370.645771 131.239238 \nL 375.506875 132.073762 \n\" style=\"fill:none;stroke:#000000;stroke-linecap:square;stroke-width:0.8;\"/>\n    </g>\n    <g id=\"text_19\">\n     <!-- −0.25 -->\n     <g transform=\"translate(374.078061 138.942601)scale(0.12 -0.12)\">\n      <use xlink:href=\"#DejaVuSans-8722\"/>\n      <use x=\"83.789062\" xlink:href=\"#DejaVuSans-48\"/>\n      <use x=\"147.412109\" xlink:href=\"#DejaVuSans-46\"/>\n      <use x=\"179.199219\" xlink:href=\"#DejaVuSans-50\"/>\n      <use x=\"242.822266\" xlink:href=\"#DejaVuSans-53\"/>\n     </g>\n    </g>\n   </g>\n   <g id=\"xtick_17\">\n    <g id=\"line2d_20\">\n     <path d=\"M 371.584312 116.746924 \nL 376.476325 117.571138 \n\" style=\"fill:none;stroke:#000000;stroke-linecap:square;stroke-width:0.8;\"/>\n    </g>\n    <g id=\"text_20\">\n     <!-- 0.00 -->\n     <g transform=\"translate(380.176585 124.467789)scale(0.12 -0.12)\">\n      <use xlink:href=\"#DejaVuSans-48\"/>\n      <use x=\"63.623047\" xlink:href=\"#DejaVuSans-46\"/>\n      <use x=\"95.410156\" xlink:href=\"#DejaVuSans-48\"/>\n      <use x=\"159.033203\" xlink:href=\"#DejaVuSans-48\"/>\n     </g>\n    </g>\n   </g>\n   <g id=\"xtick_18\">\n    <g id=\"line2d_21\">\n     <path d=\"M 372.53446 102.075358 \nL 377.457778 102.888943 \n\" style=\"fill:none;stroke:#000000;stroke-linecap:square;stroke-width:0.8;\"/>\n    </g>\n    <g id=\"text_21\">\n     <!-- 0.25 -->\n     <g transform=\"translate(381.260516 109.814269)scale(0.12 -0.12)\">\n      <use xlink:href=\"#DejaVuSans-48\"/>\n      <use x=\"63.623047\" xlink:href=\"#DejaVuSans-46\"/>\n      <use x=\"95.410156\" xlink:href=\"#DejaVuSans-50\"/>\n      <use x=\"159.033203\" xlink:href=\"#DejaVuSans-53\"/>\n     </g>\n    </g>\n   </g>\n   <g id=\"xtick_19\">\n    <g id=\"line2d_22\">\n     <path d=\"M 373.496434 87.221197 \nL 378.45146 88.023822 \n\" style=\"fill:none;stroke:#000000;stroke-linecap:square;stroke-width:0.8;\"/>\n    </g>\n    <g id=\"text_22\">\n     <!-- 0.50 -->\n     <g transform=\"translate(382.357912 94.97871)scale(0.12 -0.12)\">\n      <use xlink:href=\"#DejaVuSans-48\"/>\n      <use x=\"63.623047\" xlink:href=\"#DejaVuSans-46\"/>\n      <use x=\"95.410156\" xlink:href=\"#DejaVuSans-53\"/>\n      <use x=\"159.033203\" xlink:href=\"#DejaVuSans-48\"/>\n     </g>\n    </g>\n   </g>\n   <g id=\"xtick_20\">\n    <g id=\"line2d_23\">\n     <path d=\"M 374.470455 72.181009 \nL 379.4576 72.972335 \n\" style=\"fill:none;stroke:#000000;stroke-linecap:square;stroke-width:0.8;\"/>\n    </g>\n    <g id=\"text_23\">\n     <!-- 0.75 -->\n     <g transform=\"translate(383.469026 79.957699)scale(0.12 -0.12)\">\n      <use xlink:href=\"#DejaVuSans-48\"/>\n      <use x=\"63.623047\" xlink:href=\"#DejaVuSans-46\"/>\n      <use x=\"95.410156\" xlink:href=\"#DejaVuSans-55\"/>\n      <use x=\"159.033203\" xlink:href=\"#DejaVuSans-53\"/>\n     </g>\n    </g>\n   </g>\n   <g id=\"xtick_21\">\n    <g id=\"line2d_24\">\n     <path d=\"M 375.456751 56.951277 \nL 380.476433 57.730956 \n\" style=\"fill:none;stroke:#000000;stroke-linecap:square;stroke-width:0.8;\"/>\n    </g>\n    <g id=\"text_24\">\n     <!-- 1.00 -->\n     <g transform=\"translate(384.594117 64.747738)scale(0.12 -0.12)\">\n      <use xlink:href=\"#DejaVuSans-49\"/>\n      <use x=\"63.623047\" xlink:href=\"#DejaVuSans-46\"/>\n      <use x=\"95.410156\" xlink:href=\"#DejaVuSans-48\"/>\n      <use x=\"159.033203\" xlink:href=\"#DejaVuSans-48\"/>\n     </g>\n    </g>\n   </g>\n  </g>\n  <g id=\"axes_1\">\n   <g id=\"patch_6\">\n    <path clip-path=\"url(#pd10d209847)\" d=\"M 215.966318 130.072624 \nQ 186.820692 134.165986 158.782234 138.103851 \n\" style=\"fill:none;stroke:#000000;stroke-linecap:round;\"/>\n    <path clip-path=\"url(#pd10d209847)\" d=\"M 165.141161 140.240213 \nL 158.782234 138.103851 \nL 164.30668 134.298527 \nL 165.141161 140.240213 \nz\n\" style=\"stroke:#000000;stroke-linecap:round;\"/>\n   </g>\n   <g id=\"patch_7\">\n    <path clip-path=\"url(#pd10d209847)\" d=\"M 217.03183 131.57434 \nQ 207.559047 150.017463 198.597071 167.466063 \n\" style=\"fill:none;stroke:#000000;stroke-linecap:round;\"/>\n    <path clip-path=\"url(#pd10d209847)\" d=\"M 204.006939 163.499537 \nL 198.597071 167.466063 \nL 198.669771 160.758253 \nL 204.006939 163.499537 \nz\n\" style=\"stroke:#000000;stroke-linecap:round;\"/>\n   </g>\n   <g id=\"line2d_25\">\n    <defs>\n     <path d=\"M 0 3 \nC 0.795609 3 1.55874 2.683901 2.12132 2.12132 \nC 2.683901 1.55874 3 0.795609 3 0 \nC 3 -0.795609 2.683901 -1.55874 2.12132 -2.12132 \nC 1.55874 -2.683901 0.795609 -3 0 -3 \nC -0.795609 -3 -1.55874 -2.683901 -2.12132 -2.12132 \nC -2.683901 -1.55874 -3 -0.795609 -3 0 \nC -3 0.795609 -2.683901 1.55874 -2.12132 2.12132 \nC -1.55874 2.683901 -0.795609 3 0 3 \nz\n\" id=\"m718acbc36f\" style=\"stroke:#0000ff;stroke-opacity:0.5;\"/>\n    </defs>\n    <g clip-path=\"url(#pd10d209847)\">\n     <use style=\"fill:#0000ff;fill-opacity:0.5;stroke:#0000ff;stroke-opacity:0.5;\" x=\"242.704334\" xlink:href=\"#m718acbc36f\" y=\"114.306201\"/>\n     <use style=\"fill:#0000ff;fill-opacity:0.5;stroke:#0000ff;stroke-opacity:0.5;\" x=\"147.563723\" xlink:href=\"#m718acbc36f\" y=\"145.946002\"/>\n     <use style=\"fill:#0000ff;fill-opacity:0.5;stroke:#0000ff;stroke-opacity:0.5;\" x=\"275.759062\" xlink:href=\"#m718acbc36f\" y=\"105.993959\"/>\n     <use style=\"fill:#0000ff;fill-opacity:0.5;stroke:#0000ff;stroke-opacity:0.5;\" x=\"166.297953\" xlink:href=\"#m718acbc36f\" y=\"127.435857\"/>\n     <use style=\"fill:#0000ff;fill-opacity:0.5;stroke:#0000ff;stroke-opacity:0.5;\" x=\"290.95225\" xlink:href=\"#m718acbc36f\" y=\"129.991559\"/>\n     <use style=\"fill:#0000ff;fill-opacity:0.5;stroke:#0000ff;stroke-opacity:0.5;\" x=\"284.698298\" xlink:href=\"#m718acbc36f\" y=\"130.571386\"/>\n     <use style=\"fill:#0000ff;fill-opacity:0.5;stroke:#0000ff;stroke-opacity:0.5;\" x=\"218.80563\" xlink:href=\"#m718acbc36f\" y=\"112.708838\"/>\n     <use style=\"fill:#0000ff;fill-opacity:0.5;stroke:#0000ff;stroke-opacity:0.5;\" x=\"243.53718\" xlink:href=\"#m718acbc36f\" y=\"146.271276\"/>\n     <use style=\"fill:#0000ff;fill-opacity:0.5;stroke:#0000ff;stroke-opacity:0.5;\" x=\"284.046651\" xlink:href=\"#m718acbc36f\" y=\"105.886942\"/>\n     <use style=\"fill:#0000ff;fill-opacity:0.5;stroke:#0000ff;stroke-opacity:0.5;\" x=\"258.210908\" xlink:href=\"#m718acbc36f\" y=\"143.377079\"/>\n     <use style=\"fill:#0000ff;fill-opacity:0.5;stroke:#0000ff;stroke-opacity:0.5;\" x=\"141.411744\" xlink:href=\"#m718acbc36f\" y=\"153.249442\"/>\n     <use style=\"fill:#0000ff;fill-opacity:0.5;stroke:#0000ff;stroke-opacity:0.5;\" x=\"141.74121\" xlink:href=\"#m718acbc36f\" y=\"162.715721\"/>\n     <use style=\"fill:#0000ff;fill-opacity:0.5;stroke:#0000ff;stroke-opacity:0.5;\" x=\"167.251977\" xlink:href=\"#m718acbc36f\" y=\"131.475047\"/>\n     <use style=\"fill:#0000ff;fill-opacity:0.5;stroke:#0000ff;stroke-opacity:0.5;\" x=\"260.517108\" xlink:href=\"#m718acbc36f\" y=\"140.952009\"/>\n     <use style=\"fill:#0000ff;fill-opacity:0.5;stroke:#0000ff;stroke-opacity:0.5;\" x=\"226.540256\" xlink:href=\"#m718acbc36f\" y=\"108.04713\"/>\n     <use style=\"fill:#0000ff;fill-opacity:0.5;stroke:#0000ff;stroke-opacity:0.5;\" x=\"174.908591\" xlink:href=\"#m718acbc36f\" y=\"122.304792\"/>\n     <use style=\"fill:#0000ff;fill-opacity:0.5;stroke:#0000ff;stroke-opacity:0.5;\" x=\"248.697237\" xlink:href=\"#m718acbc36f\" y=\"108.783537\"/>\n     <use style=\"fill:#0000ff;fill-opacity:0.5;stroke:#0000ff;stroke-opacity:0.5;\" x=\"137.448894\" xlink:href=\"#m718acbc36f\" y=\"153.684807\"/>\n     <use style=\"fill:#0000ff;fill-opacity:0.5;stroke:#0000ff;stroke-opacity:0.5;\" x=\"245.007013\" xlink:href=\"#m718acbc36f\" y=\"108.532895\"/>\n     <use style=\"fill:#0000ff;fill-opacity:0.5;stroke:#0000ff;stroke-opacity:0.5;\" x=\"246.022483\" xlink:href=\"#m718acbc36f\" y=\"106.441656\"/>\n     <use style=\"fill:#0000ff;fill-opacity:0.5;stroke:#0000ff;stroke-opacity:0.5;\" x=\"213.129853\" xlink:href=\"#m718acbc36f\" y=\"121.299217\"/>\n     <use style=\"fill:#0000ff;fill-opacity:0.5;stroke:#0000ff;stroke-opacity:0.5;\" x=\"280.852295\" xlink:href=\"#m718acbc36f\" y=\"112.736835\"/>\n     <use style=\"fill:#0000ff;fill-opacity:0.5;stroke:#0000ff;stroke-opacity:0.5;\" x=\"288.836863\" xlink:href=\"#m718acbc36f\" y=\"104.414993\"/>\n     <use style=\"fill:#0000ff;fill-opacity:0.5;stroke:#0000ff;stroke-opacity:0.5;\" x=\"288.85043\" xlink:href=\"#m718acbc36f\" y=\"127.828395\"/>\n     <use style=\"fill:#0000ff;fill-opacity:0.5;stroke:#0000ff;stroke-opacity:0.5;\" x=\"287.048269\" xlink:href=\"#m718acbc36f\" y=\"107.827691\"/>\n     <use style=\"fill:#0000ff;fill-opacity:0.5;stroke:#0000ff;stroke-opacity:0.5;\" x=\"256.960791\" xlink:href=\"#m718acbc36f\" y=\"105.109485\"/>\n     <use style=\"fill:#0000ff;fill-opacity:0.5;stroke:#0000ff;stroke-opacity:0.5;\" x=\"197.457895\" xlink:href=\"#m718acbc36f\" y=\"119.809949\"/>\n     <use style=\"fill:#0000ff;fill-opacity:0.5;stroke:#0000ff;stroke-opacity:0.5;\" x=\"212.255473\" xlink:href=\"#m718acbc36f\" y=\"121.916459\"/>\n     <use style=\"fill:#0000ff;fill-opacity:0.5;stroke:#0000ff;stroke-opacity:0.5;\" x=\"290.64388\" xlink:href=\"#m718acbc36f\" y=\"107.4009\"/>\n     <use style=\"fill:#0000ff;fill-opacity:0.5;stroke:#0000ff;stroke-opacity:0.5;\" x=\"255.849008\" xlink:href=\"#m718acbc36f\" y=\"114.366531\"/>\n     <use style=\"fill:#0000ff;fill-opacity:0.5;stroke:#0000ff;stroke-opacity:0.5;\" x=\"286.721652\" xlink:href=\"#m718acbc36f\" y=\"126.988397\"/>\n     <use style=\"fill:#0000ff;fill-opacity:0.5;stroke:#0000ff;stroke-opacity:0.5;\" x=\"145.339994\" xlink:href=\"#m718acbc36f\" y=\"150.03438\"/>\n     <use style=\"fill:#0000ff;fill-opacity:0.5;stroke:#0000ff;stroke-opacity:0.5;\" x=\"275.469952\" xlink:href=\"#m718acbc36f\" y=\"106.44722\"/>\n    </g>\n   </g>\n   <g id=\"line2d_26\">\n    <defs>\n     <path d=\"M 0 1.5 \nC 0.397805 1.5 0.77937 1.341951 1.06066 1.06066 \nC 1.341951 0.77937 1.5 0.397805 1.5 0 \nC 1.5 -0.397805 1.341951 -0.77937 1.06066 -1.06066 \nC 0.77937 -1.341951 0.397805 -1.5 0 -1.5 \nC -0.397805 -1.5 -0.77937 -1.341951 -1.06066 -1.06066 \nC -1.341951 -0.77937 -1.5 -0.397805 -1.5 0 \nC -1.5 0.397805 -1.341951 0.77937 -1.06066 1.06066 \nC -0.77937 1.341951 -0.397805 1.5 0 1.5 \nz\n\" id=\"mcc93f7f297\" style=\"stroke:#000000;\"/>\n    </defs>\n    <g clip-path=\"url(#pd10d209847)\">\n     <use style=\"stroke:#000000;\" x=\"217.945946\" xlink:href=\"#mcc93f7f297\" y=\"129.794595\"/>\n    </g>\n   </g>\n   <g id=\"line2d_27\">\n    <path clip-path=\"url(#pd10d209847)\" d=\"M 140.4611 148.046314 \nL 140.74344 148.720736 \n\" style=\"fill:none;stroke:#000000;stroke-linecap:square;stroke-width:1.5;\"/>\n   </g>\n   <g id=\"line2d_28\">\n    <path clip-path=\"url(#pd10d209847)\" d=\"M 242.704334 114.306201 \nL 240.076145 106.685329 \n\" style=\"fill:none;stroke:#505050;stroke-linecap:square;stroke-width:1.5;\"/>\n   </g>\n   <g id=\"line2d_29\">\n    <path clip-path=\"url(#pd10d209847)\" d=\"M 147.563723 145.946002 \nL 147.418067 145.59373 \n\" style=\"fill:none;stroke:#505050;stroke-linecap:square;stroke-width:1.5;\"/>\n   </g>\n   <g id=\"line2d_30\">\n    <path clip-path=\"url(#pd10d209847)\" d=\"M 178.460447 115.277988 \nL 179.107388 116.954729 \n\" style=\"fill:none;stroke:#000000;stroke-linecap:square;stroke-width:1.5;\"/>\n   </g>\n   <g id=\"line2d_31\">\n    <path clip-path=\"url(#pd10d209847)\" d=\"M 184.275709 107.885242 \nL 187.983876 117.634339 \n\" style=\"fill:none;stroke:#000000;stroke-linecap:square;stroke-width:1.5;\"/>\n   </g>\n   <g id=\"line2d_32\">\n    <path clip-path=\"url(#pd10d209847)\" d=\"M 292.379365 114.104668 \nL 293.98047 119.214548 \n\" style=\"fill:none;stroke:#000000;stroke-linecap:square;stroke-width:1.5;\"/>\n   </g>\n   <g id=\"line2d_33\">\n    <path clip-path=\"url(#pd10d209847)\" d=\"M 135.666516 142.650541 \nL 139.045722 150.690975 \n\" style=\"fill:none;stroke:#000000;stroke-linecap:square;stroke-width:1.5;\"/>\n   </g>\n   <g id=\"line2d_34\">\n    <path clip-path=\"url(#pd10d209847)\" d=\"M 242.613849 143.042522 \nL 242.973501 144.066225 \n\" style=\"fill:none;stroke:#000000;stroke-linecap:square;stroke-width:1.5;\"/>\n   </g>\n   <g id=\"line2d_35\">\n    <path clip-path=\"url(#pd10d209847)\" d=\"M 294.862549 99.848082 \nL 297.875025 109.59817 \n\" style=\"fill:none;stroke:#000000;stroke-linecap:square;stroke-width:1.5;\"/>\n   </g>\n   <g id=\"line2d_36\">\n    <path clip-path=\"url(#pd10d209847)\" d=\"M 275.759062 105.993959 \nL 275.135567 104.058925 \n\" style=\"fill:none;stroke:#505050;stroke-linecap:square;stroke-width:1.5;\"/>\n   </g>\n   <g id=\"line2d_37\">\n    <path clip-path=\"url(#pd10d209847)\" d=\"M 166.297953 127.435857 \nL 165.67596 125.867572 \n\" style=\"fill:none;stroke:#505050;stroke-linecap:square;stroke-width:1.5;\"/>\n   </g>\n   <g id=\"line2d_38\">\n    <path clip-path=\"url(#pd10d209847)\" d=\"M 290.95225 129.991559 \nL 289.043499 123.978546 \n\" style=\"fill:none;stroke:#505050;stroke-linecap:square;stroke-width:1.5;\"/>\n   </g>\n   <g id=\"line2d_39\">\n    <path clip-path=\"url(#pd10d209847)\" d=\"M 154.007313 135.733088 \nL 154.427987 136.767652 \n\" style=\"fill:none;stroke:#000000;stroke-linecap:square;stroke-width:1.5;\"/>\n   </g>\n   <g id=\"line2d_40\">\n    <path clip-path=\"url(#pd10d209847)\" d=\"M 146.095323 140.374183 \nL 148.261898 145.620923 \n\" style=\"fill:none;stroke:#000000;stroke-linecap:square;stroke-width:1.5;\"/>\n   </g>\n   <g id=\"line2d_41\">\n    <path clip-path=\"url(#pd10d209847)\" d=\"M 284.698298 130.571386 \nL 283.799698 127.776889 \n\" style=\"fill:none;stroke:#505050;stroke-linecap:square;stroke-width:1.5;\"/>\n   </g>\n   <g id=\"line2d_42\">\n    <path clip-path=\"url(#pd10d209847)\" d=\"M 218.80563 112.708838 \nL 217.89123 110.166392 \n\" style=\"fill:none;stroke:#505050;stroke-linecap:square;stroke-width:1.5;\"/>\n   </g>\n   <g id=\"line2d_43\">\n    <path clip-path=\"url(#pd10d209847)\" d=\"M 243.53718 146.271276 \nL 243.02099 144.80258 \n\" style=\"fill:none;stroke:#505050;stroke-linecap:square;stroke-width:1.5;\"/>\n   </g>\n   <g id=\"line2d_44\">\n    <path clip-path=\"url(#pd10d209847)\" d=\"M 284.046651 105.886942 \nL 283.301772 103.536914 \n\" style=\"fill:none;stroke:#505050;stroke-linecap:square;stroke-width:1.5;\"/>\n   </g>\n   <g id=\"line2d_45\">\n    <path clip-path=\"url(#pd10d209847)\" d=\"M 258.210908 143.377079 \nL 257.47574 141.223227 \n\" style=\"fill:none;stroke:#505050;stroke-linecap:square;stroke-width:1.5;\"/>\n   </g>\n   <g id=\"line2d_46\">\n    <path clip-path=\"url(#pd10d209847)\" d=\"M 141.411744 153.249442 \nL 138.941178 147.359254 \n\" style=\"fill:none;stroke:#505050;stroke-linecap:square;stroke-width:1.5;\"/>\n   </g>\n   <g id=\"line2d_47\">\n    <path clip-path=\"url(#pd10d209847)\" d=\"M 274.104806 96.72939 \nL 275.954337 102.484365 \n\" style=\"fill:none;stroke:#000000;stroke-linecap:square;stroke-width:1.5;\"/>\n   </g>\n   <g id=\"line2d_48\">\n    <path clip-path=\"url(#pd10d209847)\" d=\"M 141.74121 162.715721 \nL 138.16274 154.232296 \n\" style=\"fill:none;stroke:#505050;stroke-linecap:square;stroke-width:1.5;\"/>\n   </g>\n   <g id=\"line2d_49\">\n    <path clip-path=\"url(#pd10d209847)\" d=\"M 167.251977 131.475047 \nL 165.399644 126.80948 \n\" style=\"fill:none;stroke:#505050;stroke-linecap:square;stroke-width:1.5;\"/>\n   </g>\n   <g id=\"line2d_50\">\n    <path clip-path=\"url(#pd10d209847)\" d=\"M 145.938311 136.655156 \nL 146.6074 138.27896 \n\" style=\"fill:none;stroke:#000000;stroke-linecap:square;stroke-width:1.5;\"/>\n   </g>\n   <g id=\"line2d_51\">\n    <path clip-path=\"url(#pd10d209847)\" d=\"M 288.49535 121.530535 \nL 290.105722 126.605916 \n\" style=\"fill:none;stroke:#000000;stroke-linecap:square;stroke-width:1.5;\"/>\n   </g>\n   <g id=\"line2d_52\">\n    <path clip-path=\"url(#pd10d209847)\" d=\"M 260.517108 140.952009 \nL 260.397823 140.600454 \n\" style=\"fill:none;stroke:#505050;stroke-linecap:square;stroke-width:1.5;\"/>\n   </g>\n   <g id=\"line2d_53\">\n    <path clip-path=\"url(#pd10d209847)\" d=\"M 226.540256 108.04713 \nL 225.733453 105.766161 \n\" style=\"fill:none;stroke:#505050;stroke-linecap:square;stroke-width:1.5;\"/>\n   </g>\n   <g id=\"line2d_54\">\n    <path clip-path=\"url(#pd10d209847)\" d=\"M 286.549193 124.881558 \nL 286.670583 125.26184 \n\" style=\"fill:none;stroke:#000000;stroke-linecap:square;stroke-width:1.5;\"/>\n   </g>\n   <g id=\"line2d_55\">\n    <path clip-path=\"url(#pd10d209847)\" d=\"M 174.908591 122.304792 \nL 174.209548 120.511561 \n\" style=\"fill:none;stroke:#505050;stroke-linecap:square;stroke-width:1.5;\"/>\n   </g>\n   <g id=\"line2d_56\">\n    <path clip-path=\"url(#pd10d209847)\" d=\"M 284.360046 97.422854 \nL 285.40501 100.739288 \n\" style=\"fill:none;stroke:#000000;stroke-linecap:square;stroke-width:1.5;\"/>\n   </g>\n   <g id=\"line2d_57\">\n    <path clip-path=\"url(#pd10d209847)\" d=\"M 248.697237 108.783537 \nL 247.63261 105.651158 \n\" style=\"fill:none;stroke:#505050;stroke-linecap:square;stroke-width:1.5;\"/>\n   </g>\n   <g id=\"line2d_58\">\n    <path clip-path=\"url(#pd10d209847)\" d=\"M 137.448894 153.684807 \nL 135.704097 149.55152 \n\" style=\"fill:none;stroke:#505050;stroke-linecap:square;stroke-width:1.5;\"/>\n   </g>\n   <g id=\"line2d_59\">\n    <path clip-path=\"url(#pd10d209847)\" d=\"M 245.007013 108.532895 \nL 243.943214 105.423782 \n\" style=\"fill:none;stroke:#505050;stroke-linecap:square;stroke-width:1.5;\"/>\n   </g>\n   <g id=\"line2d_60\">\n    <path clip-path=\"url(#pd10d209847)\" d=\"M 268.889674 134.739585 \nL 269.203895 135.684399 \n\" style=\"fill:none;stroke:#000000;stroke-linecap:square;stroke-width:1.5;\"/>\n   </g>\n   <g id=\"line2d_61\">\n    <path clip-path=\"url(#pd10d209847)\" d=\"M 277.312432 119.580721 \nL 279.262743 125.600004 \n\" style=\"fill:none;stroke:#000000;stroke-linecap:square;stroke-width:1.5;\"/>\n   </g>\n   <g id=\"line2d_62\">\n    <path clip-path=\"url(#pd10d209847)\" d=\"M 238.392339 97.380064 \nL 240.678323 104.027097 \n\" style=\"fill:none;stroke:#000000;stroke-linecap:square;stroke-width:1.5;\"/>\n   </g>\n   <g id=\"line2d_63\">\n    <path clip-path=\"url(#pd10d209847)\" d=\"M 246.022483 106.441656 \nL 245.055743 103.607166 \n\" style=\"fill:none;stroke:#505050;stroke-linecap:square;stroke-width:1.5;\"/>\n   </g>\n   <g id=\"line2d_64\">\n    <path clip-path=\"url(#pd10d209847)\" d=\"M 213.129853 121.299217 \nL 210.376747 113.761321 \n\" style=\"fill:none;stroke:#505050;stroke-linecap:square;stroke-width:1.5;\"/>\n   </g>\n   <g id=\"line2d_65\">\n    <path clip-path=\"url(#pd10d209847)\" d=\"M 280.852295 112.736835 \nL 278.519418 105.454884 \n\" style=\"fill:none;stroke:#505050;stroke-linecap:square;stroke-width:1.5;\"/>\n   </g>\n   <g id=\"line2d_66\">\n    <path clip-path=\"url(#pd10d209847)\" d=\"M 201.731912 98.59059 \nL 205.061287 107.657917 \n\" style=\"fill:none;stroke:#000000;stroke-linecap:square;stroke-width:1.5;\"/>\n   </g>\n   <g id=\"line2d_67\">\n    <path clip-path=\"url(#pd10d209847)\" d=\"M 288.836863 104.414993 \nL 287.974971 101.667091 \n\" style=\"fill:none;stroke:#505050;stroke-linecap:square;stroke-width:1.5;\"/>\n   </g>\n   <g id=\"line2d_68\">\n    <path clip-path=\"url(#pd10d209847)\" d=\"M 216.545127 104.530173 \nL 216.963351 105.694414 \n\" style=\"fill:none;stroke:#000000;stroke-linecap:square;stroke-width:1.5;\"/>\n   </g>\n   <g id=\"line2d_69\">\n    <path clip-path=\"url(#pd10d209847)\" d=\"M 166.912302 114.18913 \nL 170.247502 122.678088 \n\" style=\"fill:none;stroke:#000000;stroke-linecap:square;stroke-width:1.5;\"/>\n   </g>\n   <g id=\"line2d_70\">\n    <path clip-path=\"url(#pd10d209847)\" d=\"M 288.85043 127.828395 \nL 287.856232 124.705343 \n\" style=\"fill:none;stroke:#505050;stroke-linecap:square;stroke-width:1.5;\"/>\n   </g>\n   <g id=\"line2d_71\">\n    <path clip-path=\"url(#pd10d209847)\" d=\"M 287.048269 107.827691 \nL 286.553003 106.257707 \n\" style=\"fill:none;stroke:#505050;stroke-linecap:square;stroke-width:1.5;\"/>\n   </g>\n   <g id=\"line2d_72\">\n    <path clip-path=\"url(#pd10d209847)\" d=\"M 256.960791 105.109485 \nL 255.712551 101.370925 \n\" style=\"fill:none;stroke:#505050;stroke-linecap:square;stroke-width:1.5;\"/>\n   </g>\n   <g id=\"line2d_73\">\n    <path clip-path=\"url(#pd10d209847)\" d=\"M 197.457895 119.809949 \nL 195.258958 113.943919 \n\" style=\"fill:none;stroke:#505050;stroke-linecap:square;stroke-width:1.5;\"/>\n   </g>\n   <g id=\"line2d_74\">\n    <path clip-path=\"url(#pd10d209847)\" d=\"M 296.00074 111.968139 \nL 297.13083 115.606327 \n\" style=\"fill:none;stroke:#000000;stroke-linecap:square;stroke-width:1.5;\"/>\n   </g>\n   <g id=\"line2d_75\">\n    <path clip-path=\"url(#pd10d209847)\" d=\"M 238.801126 97.76844 \nL 240.177113 101.771451 \n\" style=\"fill:none;stroke:#000000;stroke-linecap:square;stroke-width:1.5;\"/>\n   </g>\n   <g id=\"line2d_76\">\n    <path clip-path=\"url(#pd10d209847)\" d=\"M 212.255473 121.916459 \nL 208.778042 112.413617 \n\" style=\"fill:none;stroke:#505050;stroke-linecap:square;stroke-width:1.5;\"/>\n   </g>\n   <g id=\"line2d_77\">\n    <path clip-path=\"url(#pd10d209847)\" d=\"M 139.933275 135.642922 \nL 141.868957 140.300012 \n\" style=\"fill:none;stroke:#000000;stroke-linecap:square;stroke-width:1.5;\"/>\n   </g>\n   <g id=\"line2d_78\">\n    <path clip-path=\"url(#pd10d209847)\" d=\"M 290.64388 107.4009 \nL 290.087148 105.6228 \n\" style=\"fill:none;stroke:#505050;stroke-linecap:square;stroke-width:1.5;\"/>\n   </g>\n   <g id=\"line2d_79\">\n    <path clip-path=\"url(#pd10d209847)\" d=\"M 209.925188 111.307307 \nL 209.953088 111.383756 \n\" style=\"fill:none;stroke:#000000;stroke-linecap:square;stroke-width:1.5;\"/>\n   </g>\n   <g id=\"line2d_80\">\n    <path clip-path=\"url(#pd10d209847)\" d=\"M 293.617733 119.741727 \nL 293.912105 120.680199 \n\" style=\"fill:none;stroke:#000000;stroke-linecap:square;stroke-width:1.5;\"/>\n   </g>\n   <g id=\"line2d_81\">\n    <path clip-path=\"url(#pd10d209847)\" d=\"M 255.849008 114.366531 \nL 253.520842 107.448727 \n\" style=\"fill:none;stroke:#505050;stroke-linecap:square;stroke-width:1.5;\"/>\n   </g>\n   <g id=\"line2d_82\">\n    <path clip-path=\"url(#pd10d209847)\" d=\"M 286.721652 126.988397 \nL 286.297122 125.659795 \n\" style=\"fill:none;stroke:#505050;stroke-linecap:square;stroke-width:1.5;\"/>\n   </g>\n   <g id=\"line2d_83\">\n    <path clip-path=\"url(#pd10d209847)\" d=\"M 145.339994 150.03438 \nL 143.559071 145.753467 \n\" style=\"fill:none;stroke:#505050;stroke-linecap:square;stroke-width:1.5;\"/>\n   </g>\n   <g id=\"line2d_84\">\n    <path clip-path=\"url(#pd10d209847)\" d=\"M 273.510539 94.278884 \nL 276.187196 102.610669 \n\" style=\"fill:none;stroke:#000000;stroke-linecap:square;stroke-width:1.5;\"/>\n   </g>\n   <g id=\"line2d_85\">\n    <path clip-path=\"url(#pd10d209847)\" d=\"M 152.703843 119.894538 \nL 156.724288 129.862108 \n\" style=\"fill:none;stroke:#000000;stroke-linecap:square;stroke-width:1.5;\"/>\n   </g>\n   <g id=\"line2d_86\">\n    <path clip-path=\"url(#pd10d209847)\" d=\"M 275.469952 106.44722 \nL 275.373884 106.149326 \n\" style=\"fill:none;stroke:#505050;stroke-linecap:square;stroke-width:1.5;\"/>\n   </g>\n   <g id=\"line2d_87\">\n    <defs>\n     <path d=\"M -3 0 \nL 3 0 \nM 0 3 \nL 0 -3 \n\" id=\"mc4d2a27e7d\" style=\"stroke:#000000;\"/>\n    </defs>\n    <g clip-path=\"url(#pd10d209847)\">\n     <use style=\"stroke:#000000;\" x=\"140.74344\" xlink:href=\"#mc4d2a27e7d\" y=\"148.720736\"/>\n     <use style=\"stroke:#000000;\" x=\"240.076145\" xlink:href=\"#mc4d2a27e7d\" y=\"106.685329\"/>\n     <use style=\"stroke:#000000;\" x=\"147.418067\" xlink:href=\"#mc4d2a27e7d\" y=\"145.59373\"/>\n     <use style=\"stroke:#000000;\" x=\"179.107388\" xlink:href=\"#mc4d2a27e7d\" y=\"116.954729\"/>\n     <use style=\"stroke:#000000;\" x=\"187.983876\" xlink:href=\"#mc4d2a27e7d\" y=\"117.634339\"/>\n     <use style=\"stroke:#000000;\" x=\"293.98047\" xlink:href=\"#mc4d2a27e7d\" y=\"119.214548\"/>\n     <use style=\"stroke:#000000;\" x=\"139.045722\" xlink:href=\"#mc4d2a27e7d\" y=\"150.690975\"/>\n     <use style=\"stroke:#000000;\" x=\"242.973501\" xlink:href=\"#mc4d2a27e7d\" y=\"144.066225\"/>\n     <use style=\"stroke:#000000;\" x=\"297.875025\" xlink:href=\"#mc4d2a27e7d\" y=\"109.59817\"/>\n     <use style=\"stroke:#000000;\" x=\"275.135567\" xlink:href=\"#mc4d2a27e7d\" y=\"104.058925\"/>\n     <use style=\"stroke:#000000;\" x=\"165.67596\" xlink:href=\"#mc4d2a27e7d\" y=\"125.867572\"/>\n     <use style=\"stroke:#000000;\" x=\"289.043499\" xlink:href=\"#mc4d2a27e7d\" y=\"123.978546\"/>\n     <use style=\"stroke:#000000;\" x=\"154.427987\" xlink:href=\"#mc4d2a27e7d\" y=\"136.767652\"/>\n     <use style=\"stroke:#000000;\" x=\"148.261898\" xlink:href=\"#mc4d2a27e7d\" y=\"145.620923\"/>\n     <use style=\"stroke:#000000;\" x=\"283.799698\" xlink:href=\"#mc4d2a27e7d\" y=\"127.776889\"/>\n     <use style=\"stroke:#000000;\" x=\"217.89123\" xlink:href=\"#mc4d2a27e7d\" y=\"110.166392\"/>\n     <use style=\"stroke:#000000;\" x=\"243.02099\" xlink:href=\"#mc4d2a27e7d\" y=\"144.80258\"/>\n     <use style=\"stroke:#000000;\" x=\"283.301772\" xlink:href=\"#mc4d2a27e7d\" y=\"103.536914\"/>\n     <use style=\"stroke:#000000;\" x=\"257.47574\" xlink:href=\"#mc4d2a27e7d\" y=\"141.223227\"/>\n     <use style=\"stroke:#000000;\" x=\"138.941178\" xlink:href=\"#mc4d2a27e7d\" y=\"147.359254\"/>\n     <use style=\"stroke:#000000;\" x=\"275.954337\" xlink:href=\"#mc4d2a27e7d\" y=\"102.484365\"/>\n     <use style=\"stroke:#000000;\" x=\"138.16274\" xlink:href=\"#mc4d2a27e7d\" y=\"154.232296\"/>\n     <use style=\"stroke:#000000;\" x=\"165.399644\" xlink:href=\"#mc4d2a27e7d\" y=\"126.80948\"/>\n     <use style=\"stroke:#000000;\" x=\"146.6074\" xlink:href=\"#mc4d2a27e7d\" y=\"138.27896\"/>\n     <use style=\"stroke:#000000;\" x=\"290.105722\" xlink:href=\"#mc4d2a27e7d\" y=\"126.605916\"/>\n     <use style=\"stroke:#000000;\" x=\"260.397823\" xlink:href=\"#mc4d2a27e7d\" y=\"140.600454\"/>\n     <use style=\"stroke:#000000;\" x=\"225.733453\" xlink:href=\"#mc4d2a27e7d\" y=\"105.766161\"/>\n     <use style=\"stroke:#000000;\" x=\"286.670583\" xlink:href=\"#mc4d2a27e7d\" y=\"125.26184\"/>\n     <use style=\"stroke:#000000;\" x=\"174.209548\" xlink:href=\"#mc4d2a27e7d\" y=\"120.511561\"/>\n     <use style=\"stroke:#000000;\" x=\"285.40501\" xlink:href=\"#mc4d2a27e7d\" y=\"100.739288\"/>\n     <use style=\"stroke:#000000;\" x=\"247.63261\" xlink:href=\"#mc4d2a27e7d\" y=\"105.651158\"/>\n     <use style=\"stroke:#000000;\" x=\"135.704097\" xlink:href=\"#mc4d2a27e7d\" y=\"149.55152\"/>\n     <use style=\"stroke:#000000;\" x=\"243.943214\" xlink:href=\"#mc4d2a27e7d\" y=\"105.423782\"/>\n     <use style=\"stroke:#000000;\" x=\"269.203895\" xlink:href=\"#mc4d2a27e7d\" y=\"135.684399\"/>\n     <use style=\"stroke:#000000;\" x=\"279.262743\" xlink:href=\"#mc4d2a27e7d\" y=\"125.600004\"/>\n     <use style=\"stroke:#000000;\" x=\"240.678323\" xlink:href=\"#mc4d2a27e7d\" y=\"104.027097\"/>\n     <use style=\"stroke:#000000;\" x=\"245.055743\" xlink:href=\"#mc4d2a27e7d\" y=\"103.607166\"/>\n     <use style=\"stroke:#000000;\" x=\"210.376747\" xlink:href=\"#mc4d2a27e7d\" y=\"113.761321\"/>\n     <use style=\"stroke:#000000;\" x=\"278.519418\" xlink:href=\"#mc4d2a27e7d\" y=\"105.454884\"/>\n     <use style=\"stroke:#000000;\" x=\"205.061287\" xlink:href=\"#mc4d2a27e7d\" y=\"107.657917\"/>\n     <use style=\"stroke:#000000;\" x=\"287.974971\" xlink:href=\"#mc4d2a27e7d\" y=\"101.667091\"/>\n     <use style=\"stroke:#000000;\" x=\"216.963351\" xlink:href=\"#mc4d2a27e7d\" y=\"105.694414\"/>\n     <use style=\"stroke:#000000;\" x=\"170.247502\" xlink:href=\"#mc4d2a27e7d\" y=\"122.678088\"/>\n     <use style=\"stroke:#000000;\" x=\"287.856232\" xlink:href=\"#mc4d2a27e7d\" y=\"124.705343\"/>\n     <use style=\"stroke:#000000;\" x=\"286.553003\" xlink:href=\"#mc4d2a27e7d\" y=\"106.257707\"/>\n     <use style=\"stroke:#000000;\" x=\"255.712551\" xlink:href=\"#mc4d2a27e7d\" y=\"101.370925\"/>\n     <use style=\"stroke:#000000;\" x=\"195.258958\" xlink:href=\"#mc4d2a27e7d\" y=\"113.943919\"/>\n     <use style=\"stroke:#000000;\" x=\"297.13083\" xlink:href=\"#mc4d2a27e7d\" y=\"115.606327\"/>\n     <use style=\"stroke:#000000;\" x=\"240.177113\" xlink:href=\"#mc4d2a27e7d\" y=\"101.771451\"/>\n     <use style=\"stroke:#000000;\" x=\"208.778042\" xlink:href=\"#mc4d2a27e7d\" y=\"112.413617\"/>\n     <use style=\"stroke:#000000;\" x=\"141.868957\" xlink:href=\"#mc4d2a27e7d\" y=\"140.300012\"/>\n     <use style=\"stroke:#000000;\" x=\"290.087148\" xlink:href=\"#mc4d2a27e7d\" y=\"105.6228\"/>\n     <use style=\"stroke:#000000;\" x=\"209.953088\" xlink:href=\"#mc4d2a27e7d\" y=\"111.383756\"/>\n     <use style=\"stroke:#000000;\" x=\"293.912105\" xlink:href=\"#mc4d2a27e7d\" y=\"120.680199\"/>\n     <use style=\"stroke:#000000;\" x=\"253.520842\" xlink:href=\"#mc4d2a27e7d\" y=\"107.448727\"/>\n     <use style=\"stroke:#000000;\" x=\"286.297122\" xlink:href=\"#mc4d2a27e7d\" y=\"125.659795\"/>\n     <use style=\"stroke:#000000;\" x=\"143.559071\" xlink:href=\"#mc4d2a27e7d\" y=\"145.753467\"/>\n     <use style=\"stroke:#000000;\" x=\"276.187196\" xlink:href=\"#mc4d2a27e7d\" y=\"102.610669\"/>\n     <use style=\"stroke:#000000;\" x=\"156.724288\" xlink:href=\"#mc4d2a27e7d\" y=\"129.862108\"/>\n     <use style=\"stroke:#000000;\" x=\"275.373884\" xlink:href=\"#mc4d2a27e7d\" y=\"106.149326\"/>\n    </g>\n   </g>\n   <g id=\"line2d_88\">\n    <g clip-path=\"url(#pd10d209847)\">\n     <use style=\"stroke:#000000;\" x=\"140.74344\" xlink:href=\"#mcc93f7f297\" y=\"148.720736\"/>\n     <use style=\"stroke:#000000;\" x=\"240.076145\" xlink:href=\"#mcc93f7f297\" y=\"106.685329\"/>\n     <use style=\"stroke:#000000;\" x=\"147.418067\" xlink:href=\"#mcc93f7f297\" y=\"145.59373\"/>\n     <use style=\"stroke:#000000;\" x=\"179.107388\" xlink:href=\"#mcc93f7f297\" y=\"116.954729\"/>\n     <use style=\"stroke:#000000;\" x=\"187.983876\" xlink:href=\"#mcc93f7f297\" y=\"117.634339\"/>\n     <use style=\"stroke:#000000;\" x=\"293.98047\" xlink:href=\"#mcc93f7f297\" y=\"119.214548\"/>\n     <use style=\"stroke:#000000;\" x=\"139.045722\" xlink:href=\"#mcc93f7f297\" y=\"150.690975\"/>\n     <use style=\"stroke:#000000;\" x=\"242.973501\" xlink:href=\"#mcc93f7f297\" y=\"144.066225\"/>\n     <use style=\"stroke:#000000;\" x=\"297.875025\" xlink:href=\"#mcc93f7f297\" y=\"109.59817\"/>\n     <use style=\"stroke:#000000;\" x=\"275.135567\" xlink:href=\"#mcc93f7f297\" y=\"104.058925\"/>\n     <use style=\"stroke:#000000;\" x=\"165.67596\" xlink:href=\"#mcc93f7f297\" y=\"125.867572\"/>\n     <use style=\"stroke:#000000;\" x=\"289.043499\" xlink:href=\"#mcc93f7f297\" y=\"123.978546\"/>\n     <use style=\"stroke:#000000;\" x=\"154.427987\" xlink:href=\"#mcc93f7f297\" y=\"136.767652\"/>\n     <use style=\"stroke:#000000;\" x=\"148.261898\" xlink:href=\"#mcc93f7f297\" y=\"145.620923\"/>\n     <use style=\"stroke:#000000;\" x=\"283.799698\" xlink:href=\"#mcc93f7f297\" y=\"127.776889\"/>\n     <use style=\"stroke:#000000;\" x=\"217.89123\" xlink:href=\"#mcc93f7f297\" y=\"110.166392\"/>\n     <use style=\"stroke:#000000;\" x=\"243.02099\" xlink:href=\"#mcc93f7f297\" y=\"144.80258\"/>\n     <use style=\"stroke:#000000;\" x=\"283.301772\" xlink:href=\"#mcc93f7f297\" y=\"103.536914\"/>\n     <use style=\"stroke:#000000;\" x=\"257.47574\" xlink:href=\"#mcc93f7f297\" y=\"141.223227\"/>\n     <use style=\"stroke:#000000;\" x=\"138.941178\" xlink:href=\"#mcc93f7f297\" y=\"147.359254\"/>\n     <use style=\"stroke:#000000;\" x=\"275.954337\" xlink:href=\"#mcc93f7f297\" y=\"102.484365\"/>\n     <use style=\"stroke:#000000;\" x=\"138.16274\" xlink:href=\"#mcc93f7f297\" y=\"154.232296\"/>\n     <use style=\"stroke:#000000;\" x=\"165.399644\" xlink:href=\"#mcc93f7f297\" y=\"126.80948\"/>\n     <use style=\"stroke:#000000;\" x=\"146.6074\" xlink:href=\"#mcc93f7f297\" y=\"138.27896\"/>\n     <use style=\"stroke:#000000;\" x=\"290.105722\" xlink:href=\"#mcc93f7f297\" y=\"126.605916\"/>\n     <use style=\"stroke:#000000;\" x=\"260.397823\" xlink:href=\"#mcc93f7f297\" y=\"140.600454\"/>\n     <use style=\"stroke:#000000;\" x=\"225.733453\" xlink:href=\"#mcc93f7f297\" y=\"105.766161\"/>\n     <use style=\"stroke:#000000;\" x=\"286.670583\" xlink:href=\"#mcc93f7f297\" y=\"125.26184\"/>\n     <use style=\"stroke:#000000;\" x=\"174.209548\" xlink:href=\"#mcc93f7f297\" y=\"120.511561\"/>\n     <use style=\"stroke:#000000;\" x=\"285.40501\" xlink:href=\"#mcc93f7f297\" y=\"100.739288\"/>\n     <use style=\"stroke:#000000;\" x=\"247.63261\" xlink:href=\"#mcc93f7f297\" y=\"105.651158\"/>\n     <use style=\"stroke:#000000;\" x=\"135.704097\" xlink:href=\"#mcc93f7f297\" y=\"149.55152\"/>\n     <use style=\"stroke:#000000;\" x=\"243.943214\" xlink:href=\"#mcc93f7f297\" y=\"105.423782\"/>\n     <use style=\"stroke:#000000;\" x=\"269.203895\" xlink:href=\"#mcc93f7f297\" y=\"135.684399\"/>\n     <use style=\"stroke:#000000;\" x=\"279.262743\" xlink:href=\"#mcc93f7f297\" y=\"125.600004\"/>\n     <use style=\"stroke:#000000;\" x=\"240.678323\" xlink:href=\"#mcc93f7f297\" y=\"104.027097\"/>\n     <use style=\"stroke:#000000;\" x=\"245.055743\" xlink:href=\"#mcc93f7f297\" y=\"103.607166\"/>\n     <use style=\"stroke:#000000;\" x=\"210.376747\" xlink:href=\"#mcc93f7f297\" y=\"113.761321\"/>\n     <use style=\"stroke:#000000;\" x=\"278.519418\" xlink:href=\"#mcc93f7f297\" y=\"105.454884\"/>\n     <use style=\"stroke:#000000;\" x=\"205.061287\" xlink:href=\"#mcc93f7f297\" y=\"107.657917\"/>\n     <use style=\"stroke:#000000;\" x=\"287.974971\" xlink:href=\"#mcc93f7f297\" y=\"101.667091\"/>\n     <use style=\"stroke:#000000;\" x=\"216.963351\" xlink:href=\"#mcc93f7f297\" y=\"105.694414\"/>\n     <use style=\"stroke:#000000;\" x=\"170.247502\" xlink:href=\"#mcc93f7f297\" y=\"122.678088\"/>\n     <use style=\"stroke:#000000;\" x=\"287.856232\" xlink:href=\"#mcc93f7f297\" y=\"124.705343\"/>\n     <use style=\"stroke:#000000;\" x=\"286.553003\" xlink:href=\"#mcc93f7f297\" y=\"106.257707\"/>\n     <use style=\"stroke:#000000;\" x=\"255.712551\" xlink:href=\"#mcc93f7f297\" y=\"101.370925\"/>\n     <use style=\"stroke:#000000;\" x=\"195.258958\" xlink:href=\"#mcc93f7f297\" y=\"113.943919\"/>\n     <use style=\"stroke:#000000;\" x=\"297.13083\" xlink:href=\"#mcc93f7f297\" y=\"115.606327\"/>\n     <use style=\"stroke:#000000;\" x=\"240.177113\" xlink:href=\"#mcc93f7f297\" y=\"101.771451\"/>\n     <use style=\"stroke:#000000;\" x=\"208.778042\" xlink:href=\"#mcc93f7f297\" y=\"112.413617\"/>\n     <use style=\"stroke:#000000;\" x=\"141.868957\" xlink:href=\"#mcc93f7f297\" y=\"140.300012\"/>\n     <use style=\"stroke:#000000;\" x=\"290.087148\" xlink:href=\"#mcc93f7f297\" y=\"105.6228\"/>\n     <use style=\"stroke:#000000;\" x=\"209.953088\" xlink:href=\"#mcc93f7f297\" y=\"111.383756\"/>\n     <use style=\"stroke:#000000;\" x=\"293.912105\" xlink:href=\"#mcc93f7f297\" y=\"120.680199\"/>\n     <use style=\"stroke:#000000;\" x=\"253.520842\" xlink:href=\"#mcc93f7f297\" y=\"107.448727\"/>\n     <use style=\"stroke:#000000;\" x=\"286.297122\" xlink:href=\"#mcc93f7f297\" y=\"125.659795\"/>\n     <use style=\"stroke:#000000;\" x=\"143.559071\" xlink:href=\"#mcc93f7f297\" y=\"145.753467\"/>\n     <use style=\"stroke:#000000;\" x=\"276.187196\" xlink:href=\"#mcc93f7f297\" y=\"102.610669\"/>\n     <use style=\"stroke:#000000;\" x=\"156.724288\" xlink:href=\"#mcc93f7f297\" y=\"129.862108\"/>\n     <use style=\"stroke:#000000;\" x=\"275.373884\" xlink:href=\"#mcc93f7f297\" y=\"106.149326\"/>\n    </g>\n   </g>\n   <g id=\"line2d_89\">\n    <defs>\n     <path d=\"M 0 3 \nC 0.795609 3 1.55874 2.683901 2.12132 2.12132 \nC 2.683901 1.55874 3 0.795609 3 0 \nC 3 -0.795609 2.683901 -1.55874 2.12132 -2.12132 \nC 1.55874 -2.683901 0.795609 -3 0 -3 \nC -0.795609 -3 -1.55874 -2.683901 -2.12132 -2.12132 \nC -2.683901 -1.55874 -3 -0.795609 -3 0 \nC -3 0.795609 -2.683901 1.55874 -2.12132 2.12132 \nC -1.55874 2.683901 -0.795609 3 0 3 \nz\n\" id=\"m651489c5d7\" style=\"stroke:#0000ff;\"/>\n    </defs>\n    <g clip-path=\"url(#pd10d209847)\">\n     <use style=\"fill:#0000ff;stroke:#0000ff;\" x=\"140.4611\" xlink:href=\"#m651489c5d7\" y=\"148.046314\"/>\n     <use style=\"fill:#0000ff;stroke:#0000ff;\" x=\"178.460447\" xlink:href=\"#m651489c5d7\" y=\"115.277988\"/>\n     <use style=\"fill:#0000ff;stroke:#0000ff;\" x=\"184.275709\" xlink:href=\"#m651489c5d7\" y=\"107.885242\"/>\n     <use style=\"fill:#0000ff;stroke:#0000ff;\" x=\"292.379365\" xlink:href=\"#m651489c5d7\" y=\"114.104668\"/>\n     <use style=\"fill:#0000ff;stroke:#0000ff;\" x=\"135.666516\" xlink:href=\"#m651489c5d7\" y=\"142.650541\"/>\n     <use style=\"fill:#0000ff;stroke:#0000ff;\" x=\"242.613849\" xlink:href=\"#m651489c5d7\" y=\"143.042522\"/>\n     <use style=\"fill:#0000ff;stroke:#0000ff;\" x=\"294.862549\" xlink:href=\"#m651489c5d7\" y=\"99.848082\"/>\n     <use style=\"fill:#0000ff;stroke:#0000ff;\" x=\"154.007313\" xlink:href=\"#m651489c5d7\" y=\"135.733088\"/>\n     <use style=\"fill:#0000ff;stroke:#0000ff;\" x=\"146.095323\" xlink:href=\"#m651489c5d7\" y=\"140.374183\"/>\n     <use style=\"fill:#0000ff;stroke:#0000ff;\" x=\"274.104806\" xlink:href=\"#m651489c5d7\" y=\"96.72939\"/>\n     <use style=\"fill:#0000ff;stroke:#0000ff;\" x=\"145.938311\" xlink:href=\"#m651489c5d7\" y=\"136.655156\"/>\n     <use style=\"fill:#0000ff;stroke:#0000ff;\" x=\"288.49535\" xlink:href=\"#m651489c5d7\" y=\"121.530535\"/>\n     <use style=\"fill:#0000ff;stroke:#0000ff;\" x=\"286.549193\" xlink:href=\"#m651489c5d7\" y=\"124.881558\"/>\n     <use style=\"fill:#0000ff;stroke:#0000ff;\" x=\"284.360046\" xlink:href=\"#m651489c5d7\" y=\"97.422854\"/>\n     <use style=\"fill:#0000ff;stroke:#0000ff;\" x=\"268.889674\" xlink:href=\"#m651489c5d7\" y=\"134.739585\"/>\n     <use style=\"fill:#0000ff;stroke:#0000ff;\" x=\"277.312432\" xlink:href=\"#m651489c5d7\" y=\"119.580721\"/>\n     <use style=\"fill:#0000ff;stroke:#0000ff;\" x=\"238.392339\" xlink:href=\"#m651489c5d7\" y=\"97.380064\"/>\n     <use style=\"fill:#0000ff;stroke:#0000ff;\" x=\"201.731912\" xlink:href=\"#m651489c5d7\" y=\"98.59059\"/>\n     <use style=\"fill:#0000ff;stroke:#0000ff;\" x=\"216.545127\" xlink:href=\"#m651489c5d7\" y=\"104.530173\"/>\n     <use style=\"fill:#0000ff;stroke:#0000ff;\" x=\"166.912302\" xlink:href=\"#m651489c5d7\" y=\"114.18913\"/>\n     <use style=\"fill:#0000ff;stroke:#0000ff;\" x=\"296.00074\" xlink:href=\"#m651489c5d7\" y=\"111.968139\"/>\n     <use style=\"fill:#0000ff;stroke:#0000ff;\" x=\"238.801126\" xlink:href=\"#m651489c5d7\" y=\"97.76844\"/>\n     <use style=\"fill:#0000ff;stroke:#0000ff;\" x=\"139.933275\" xlink:href=\"#m651489c5d7\" y=\"135.642922\"/>\n     <use style=\"fill:#0000ff;stroke:#0000ff;\" x=\"209.925188\" xlink:href=\"#m651489c5d7\" y=\"111.307307\"/>\n     <use style=\"fill:#0000ff;stroke:#0000ff;\" x=\"293.617733\" xlink:href=\"#m651489c5d7\" y=\"119.741727\"/>\n     <use style=\"fill:#0000ff;stroke:#0000ff;\" x=\"273.510539\" xlink:href=\"#m651489c5d7\" y=\"94.278884\"/>\n     <use style=\"fill:#0000ff;stroke:#0000ff;\" x=\"152.703843\" xlink:href=\"#m651489c5d7\" y=\"119.894538\"/>\n    </g>\n   </g>\n   <g id=\"Poly3DCollection_1\">\n    <path clip-path=\"url(#pd10d209847)\" d=\"M 167.375148 81.923292 \nL 187.606638 83.227242 \nL 199.552708 71.819978 \nL 179.370304 70.585416 \nz\n\" style=\"fill-opacity:0.2;\"/>\n    <path clip-path=\"url(#pd10d209847)\" d=\"M 187.606638 83.227242 \nL 208.061875 84.545613 \nL 219.957044 73.068116 \nL 199.552708 71.819978 \nz\n\" style=\"fill-opacity:0.2;\"/>\n    <path clip-path=\"url(#pd10d209847)\" d=\"M 155.243207 93.390458 \nL 175.523589 94.765306 \nL 187.606638 83.227242 \nL 167.375148 81.923292 \nz\n\" style=\"fill-opacity:0.2;\"/>\n    <path clip-path=\"url(#pd10d209847)\" d=\"M 208.061875 84.545613 \nL 228.744592 85.878645 \nL 240.586994 74.330055 \nL 219.957044 73.068116 \nz\n\" style=\"fill-opacity:0.2;\"/>\n    <path clip-path=\"url(#pd10d209847)\" d=\"M 175.523589 94.765306 \nL 196.029552 96.155448 \nL 208.061875 84.545613 \nL 187.606638 83.227242 \nz\n\" style=\"fill-opacity:0.2;\"/>\n    <path clip-path=\"url(#pd10d209847)\" d=\"M 142.972128 104.989138 \nL 163.301192 106.436434 \nL 175.523589 94.765306 \nL 155.243207 93.390458 \nz\n\" style=\"fill-opacity:0.2;\"/>\n    <path clip-path=\"url(#pd10d209847)\" d=\"M 228.744592 85.878645 \nL 249.658606 87.226585 \nL 261.446321 75.606025 \nL 240.586994 74.330055 \nz\n\" style=\"fill-opacity:0.2;\"/>\n    <path clip-path=\"url(#pd10d209847)\" d=\"M 196.029552 96.155448 \nL 216.764881 97.561138 \nL 228.744592 85.878645 \nL 208.061875 84.545613 \nz\n\" style=\"fill-opacity:0.2;\"/>\n    <path clip-path=\"url(#pd10d209847)\" d=\"M 163.301192 106.436434 \nL 183.857689 107.899922 \nL 196.029552 96.155448 \nL 175.523589 94.765306 \nz\n\" style=\"fill-opacity:0.2;\"/>\n    <path clip-path=\"url(#pd10d209847)\" d=\"M 130.559503 116.721607 \nL 150.937021 118.24294 \nL 163.301192 106.436434 \nL 142.972128 104.989138 \nz\n\" style=\"fill-opacity:0.2;\"/>\n    <path clip-path=\"url(#pd10d209847)\" d=\"M 249.658606 87.226585 \nL 270.807817 88.589684 \nL 282.538871 76.896261 \nL 261.446321 75.606025 \nz\n\" style=\"fill-opacity:0.2;\"/>\n    <path clip-path=\"url(#pd10d209847)\" d=\"M 216.764881 97.561138 \nL 237.733447 98.98264 \nL 249.658606 87.226585 \nL 228.744592 85.878645 \nz\n\" style=\"fill-opacity:0.2;\"/>\n    <path clip-path=\"url(#pd10d209847)\" d=\"M 183.857689 107.899922 \nL 204.645459 109.379876 \nL 216.764881 97.561138 \nL 196.029552 96.155448 \nz\n\" style=\"fill-opacity:0.2;\"/>\n    <path clip-path=\"url(#pd10d209847)\" d=\"M 150.937021 118.24294 \nL 171.543845 119.781393 \nL 183.857689 107.899922 \nL 163.301192 106.436434 \nz\n\" style=\"fill-opacity:0.2;\"/>\n    <path clip-path=\"url(#pd10d209847)\" d=\"M 118.002869 128.590195 \nL 138.428597 130.187194 \nL 150.937021 118.24294 \nL 130.559503 116.721607 \nz\n\" style=\"fill-opacity:0.2;\"/>\n    <path clip-path=\"url(#pd10d209847)\" d=\"M 270.807817 88.589684 \nL 292.196215 89.968198 \nL 303.868577 78.201004 \nL 282.538871 76.896261 \nz\n\" style=\"fill-opacity:0.2;\"/>\n    <path clip-path=\"url(#pd10d209847)\" d=\"M 237.733447 98.98264 \nL 258.939206 100.420222 \nL 270.807817 88.589684 \nL 249.658606 87.226585 \nz\n\" style=\"fill-opacity:0.2;\"/>\n    <path clip-path=\"url(#pd10d209847)\" d=\"M 204.645459 109.379876 \nL 225.668427 110.876573 \nL 237.733447 98.98264 \nL 216.764881 97.561138 \nz\n\" style=\"fill-opacity:0.2;\"/>\n    <path clip-path=\"url(#pd10d209847)\" d=\"M 171.543845 119.781393 \nL 192.383868 121.337255 \nL 204.645459 109.379876 \nL 183.857689 107.899922 \nz\n\" style=\"fill-opacity:0.2;\"/>\n    <path clip-path=\"url(#pd10d209847)\" d=\"M 138.428597 130.187194 \nL 159.085522 131.80227 \nL 171.543845 119.781393 \nL 150.937021 118.24294 \nz\n\" style=\"fill-opacity:0.2;\"/>\n    <path clip-path=\"url(#pd10d209847)\" d=\"M 105.299705 140.597283 \nL 125.773379 142.271621 \nL 138.428597 130.187194 \nL 118.002869 128.590195 \nz\n\" style=\"fill-opacity:0.2;\"/>\n    <path clip-path=\"url(#pd10d209847)\" d=\"M 292.196215 89.968198 \nL 313.827883 91.362392 \nL 325.439463 79.5205 \nL 303.868577 78.201004 \nz\n\" style=\"fill-opacity:0.2;\"/>\n    <path clip-path=\"url(#pd10d209847)\" d=\"M 258.939206 100.420222 \nL 280.386207 101.874158 \nL 292.196215 89.968198 \nL 270.807817 88.589684 \nz\n\" style=\"fill-opacity:0.2;\"/>\n    <path clip-path=\"url(#pd10d209847)\" d=\"M 225.668427 110.876573 \nL 246.930606 112.390301 \nL 258.939206 100.420222 \nL 237.733447 98.98264 \nz\n\" style=\"fill-opacity:0.2;\"/>\n    <path clip-path=\"url(#pd10d209847)\" d=\"M 192.383868 121.337255 \nL 213.46107 122.910825 \nL 225.668427 110.876573 \nL 204.645459 109.379876 \nz\n\" style=\"fill-opacity:0.2;\"/>\n    <path clip-path=\"url(#pd10d209847)\" d=\"M 159.085522 131.80227 \nL 179.977591 133.435731 \nL 192.383868 121.337255 \nL 171.543845 119.781393 \nz\n\" style=\"fill-opacity:0.2;\"/>\n    <path clip-path=\"url(#pd10d209847)\" d=\"M 125.773379 142.271621 \nL 146.48016 143.965022 \nL 159.085522 131.80227 \nL 138.428597 130.187194 \nz\n\" style=\"fill-opacity:0.2;\"/>\n    <path clip-path=\"url(#pd10d209847)\" d=\"M 92.447432 152.74531 \nL 112.968768 154.498702 \nL 125.773379 142.271621 \nL 105.299705 140.597283 \nz\n\" style=\"fill-opacity:0.2;\"/>\n    <path clip-path=\"url(#pd10d209847)\" d=\"M 313.827883 91.362392 \nL 335.706992 92.772534 \nL 347.255641 80.855001 \nL 325.439463 79.5205 \nz\n\" style=\"fill-opacity:0.2;\"/>\n    <path clip-path=\"url(#pd10d209847)\" d=\"M 280.386207 101.874158 \nL 302.078589 103.344729 \nL 313.827883 91.362392 \nL 292.196215 89.968198 \nz\n\" style=\"fill-opacity:0.2;\"/>\n    <path clip-path=\"url(#pd10d209847)\" d=\"M 246.930606 112.390301 \nL 268.436102 113.921352 \nL 280.386207 101.874158 \nL 258.939206 100.420222 \nz\n\" style=\"fill-opacity:0.2;\"/>\n    <path clip-path=\"url(#pd10d209847)\" d=\"M 213.46107 122.910825 \nL 234.779523 124.502406 \nL 246.930606 112.390301 \nL 225.668427 110.876573 \nz\n\" style=\"fill-opacity:0.2;\"/>\n    <path clip-path=\"url(#pd10d209847)\" d=\"M 179.977591 133.435731 \nL 201.108842 135.087892 \nL 213.46107 122.910825 \nL 192.383868 121.337255 \nz\n\" style=\"fill-opacity:0.2;\"/>\n    <path clip-path=\"url(#pd10d209847)\" d=\"M 146.48016 143.965022 \nL 167.424052 145.677815 \nL 179.977591 133.435731 \nL 159.085522 131.80227 \nz\n\" style=\"fill-opacity:0.2;\"/>\n    <path clip-path=\"url(#pd10d209847)\" d=\"M 112.968768 154.498702 \nL 133.725142 156.272176 \nL 146.48016 143.965022 \nL 125.773379 142.271621 \nz\n\" style=\"fill-opacity:0.2;\"/>\n    <path clip-path=\"url(#pd10d209847)\" d=\"M 79.443408 165.036773 \nL 100.012104 166.870979 \nL 112.968768 154.498702 \nL 92.447432 152.74531 \nz\n\" style=\"fill-opacity:0.2;\"/>\n    <path clip-path=\"url(#pd10d209847)\" d=\"M 335.706992 92.772534 \nL 357.837815 94.198899 \nL 369.321321 82.204763 \nL 347.255641 80.855001 \nz\n\" style=\"fill-opacity:0.2;\"/>\n    <path clip-path=\"url(#pd10d209847)\" d=\"M 302.078589 103.344729 \nL 324.020588 104.832222 \nL 335.706992 92.772534 \nL 313.827883 91.362392 \nz\n\" style=\"fill-opacity:0.2;\"/>\n    <path clip-path=\"url(#pd10d209847)\" d=\"M 268.436102 113.921352 \nL 290.189118 115.470025 \nL 302.078589 103.344729 \nL 280.386207 101.874158 \nz\n\" style=\"fill-opacity:0.2;\"/>\n    <path clip-path=\"url(#pd10d209847)\" d=\"M 234.779523 124.502406 \nL 256.343394 126.112309 \nL 268.436102 113.921352 \nL 246.930606 112.390301 \nz\n\" style=\"fill-opacity:0.2;\"/>\n    <path clip-path=\"url(#pd10d209847)\" d=\"M 201.108842 135.087892 \nL 222.483408 136.759077 \nL 234.779523 124.502406 \nL 213.46107 122.910825 \nz\n\" style=\"fill-opacity:0.2;\"/>\n    <path clip-path=\"url(#pd10d209847)\" d=\"M 167.424052 145.677815 \nL 188.609151 147.410333 \nL 201.108842 135.087892 \nL 179.977591 133.435731 \nz\n\" style=\"fill-opacity:0.2;\"/>\n    <path clip-path=\"url(#pd10d209847)\" d=\"M 133.725142 156.272176 \nL 154.720613 158.066079 \nL 167.424052 145.677815 \nL 146.48016 143.965022 \nz\n\" style=\"fill-opacity:0.2;\"/>\n    <path clip-path=\"url(#pd10d209847)\" d=\"M 100.012104 166.870979 \nL 120.817786 168.726319 \nL 133.725142 156.272176 \nL 112.968768 154.498702 \nz\n\" style=\"fill-opacity:0.2;\"/>\n    <path clip-path=\"url(#pd10d209847)\" d=\"M 66.284929 177.474227 \nL 86.900661 179.391054 \nL 100.012104 166.870979 \nL 79.443408 165.036773 \nz\n\" style=\"fill-opacity:0.2;\"/>\n    <path clip-path=\"url(#pd10d209847)\" d=\"M 324.020588 104.832222 \nL 346.216538 106.336931 \nL 357.837815 94.198899 \nL 335.706992 92.772534 \nz\n\" style=\"fill-opacity:0.2;\"/>\n    <path clip-path=\"url(#pd10d209847)\" d=\"M 290.189118 115.470025 \nL 312.193949 117.036625 \nL 324.020588 104.832222 \nL 302.078589 103.344729 \nz\n\" style=\"fill-opacity:0.2;\"/>\n    <path clip-path=\"url(#pd10d209847)\" d=\"M 256.343394 126.112309 \nL 278.156944 127.740852 \nL 290.189118 115.470025 \nL 268.436102 113.921352 \nz\n\" style=\"fill-opacity:0.2;\"/>\n    <path clip-path=\"url(#pd10d209847)\" d=\"M 222.483408 136.759077 \nL 244.105513 138.449616 \nL 256.343394 126.112309 \nL 234.779523 124.502406 \nz\n\" style=\"fill-opacity:0.2;\"/>\n    <path clip-path=\"url(#pd10d209847)\" d=\"M 188.609151 147.410333 \nL 210.039648 149.16292 \nL 222.483408 136.759077 \nL 201.108842 135.087892 \nz\n\" style=\"fill-opacity:0.2;\"/>\n    <path clip-path=\"url(#pd10d209847)\" d=\"M 154.720613 158.066079 \nL 175.959337 159.880767 \nL 188.609151 147.410333 \nL 167.424052 145.677815 \nz\n\" style=\"fill-opacity:0.2;\"/>\n    <path clip-path=\"url(#pd10d209847)\" d=\"M 120.817786 168.726319 \nL 141.864574 170.603158 \nL 154.720613 158.066079 \nL 133.725142 156.272176 \nz\n\" style=\"fill-opacity:0.2;\"/>\n    <path clip-path=\"url(#pd10d209847)\" d=\"M 86.900661 179.391054 \nL 107.755348 181.330098 \nL 120.817786 168.726319 \nL 100.012104 166.870979 \nz\n\" style=\"fill-opacity:0.2;\"/>\n    <path clip-path=\"url(#pd10d209847)\" d=\"M 312.193949 117.036625 \nL 334.454996 118.621466 \nL 346.216538 106.336931 \nL 324.020588 104.832222 \nz\n\" style=\"fill-opacity:0.2;\"/>\n    <path clip-path=\"url(#pd10d209847)\" d=\"M 278.156944 127.740852 \nL 300.224536 129.388362 \nL 312.193949 117.036625 \nL 290.189118 115.470025 \nz\n\" style=\"fill-opacity:0.2;\"/>\n    <path clip-path=\"url(#pd10d209847)\" d=\"M 244.105513 138.449616 \nL 265.979485 140.159848 \nL 278.156944 127.740852 \nL 256.343394 126.112309 \nz\n\" style=\"fill-opacity:0.2;\"/>\n    <path clip-path=\"url(#pd10d209847)\" d=\"M 210.039648 149.16292 \nL 231.719831 150.935927 \nL 244.105513 138.449616 \nL 222.483408 136.759077 \nz\n\" style=\"fill-opacity:0.2;\"/>\n    <path clip-path=\"url(#pd10d209847)\" d=\"M 175.959337 159.880767 \nL 197.445567 161.716601 \nL 210.039648 149.16292 \nL 188.609151 147.410333 \nz\n\" style=\"fill-opacity:0.2;\"/>\n    <path clip-path=\"url(#pd10d209847)\" d=\"M 141.864574 170.603158 \nL 163.156682 172.501875 \nL 175.959337 159.880767 \nL 154.720613 158.066079 \nz\n\" style=\"fill-opacity:0.2;\"/>\n    <path clip-path=\"url(#pd10d209847)\" d=\"M 107.755348 181.330098 \nL 128.853168 183.29175 \nL 141.864574 170.603158 \nL 120.817786 168.726319 \nz\n\" style=\"fill-opacity:0.2;\"/>\n    <path clip-path=\"url(#pd10d209847)\" d=\"M 300.224536 129.388362 \nL 322.550634 131.055171 \nL 334.454996 118.621466 \nL 312.193949 117.036625 \nz\n\" style=\"fill-opacity:0.2;\"/>\n    <path clip-path=\"url(#pd10d209847)\" d=\"M 265.979485 140.159848 \nL 288.109748 141.890118 \nL 300.224536 129.388362 \nL 278.156944 127.740852 \nz\n\" style=\"fill-opacity:0.2;\"/>\n    <path clip-path=\"url(#pd10d209847)\" d=\"M 231.719831 150.935927 \nL 253.654091 152.729711 \nL 265.979485 140.159848 \nL 244.105513 138.449616 \nz\n\" style=\"fill-opacity:0.2;\"/>\n    <path clip-path=\"url(#pd10d209847)\" d=\"M 197.445567 161.716601 \nL 219.183654 163.573955 \nL 231.719831 150.935927 \nL 210.039648 149.16292 \nz\n\" style=\"fill-opacity:0.2;\"/>\n    <path clip-path=\"url(#pd10d209847)\" d=\"M 163.156682 172.501875 \nL 184.698426 174.422852 \nL 197.445567 161.716601 \nL 175.959337 159.880767 \nz\n\" style=\"fill-opacity:0.2;\"/>\n    <path clip-path=\"url(#pd10d209847)\" d=\"M 128.853168 183.29175 \nL 150.198398 185.276405 \nL 163.156682 172.501875 \nL 141.864574 170.603158 \nz\n\" style=\"fill-opacity:0.2;\"/>\n    <path clip-path=\"url(#pd10d209847)\" d=\"M 288.109748 141.890118 \nL 310.500835 143.64078 \nL 322.550634 131.055171 \nL 300.224536 129.388362 \nz\n\" style=\"fill-opacity:0.2;\"/>\n    <path clip-path=\"url(#pd10d209847)\" d=\"M 253.654091 152.729711 \nL 275.84692 154.544642 \nL 288.109748 141.890118 \nL 265.979485 140.159848 \nz\n\" style=\"fill-opacity:0.2;\"/>\n    <path clip-path=\"url(#pd10d209847)\" d=\"M 219.183654 163.573955 \nL 241.178052 165.453209 \nL 253.654091 152.729711 \nL 231.719831 150.935927 \nz\n\" style=\"fill-opacity:0.2;\"/>\n    <path clip-path=\"url(#pd10d209847)\" d=\"M 184.698426 174.422852 \nL 206.494221 176.366484 \nL 219.183654 163.573955 \nL 197.445567 161.716601 \nz\n\" style=\"fill-opacity:0.2;\"/>\n    <path clip-path=\"url(#pd10d209847)\" d=\"M 150.198398 185.276405 \nL 171.795417 187.28447 \nL 184.698426 174.422852 \nL 163.156682 172.501875 \nz\n\" style=\"fill-opacity:0.2;\"/>\n    <path clip-path=\"url(#pd10d209847)\" d=\"M 275.84692 154.544642 \nL 298.302917 156.381094 \nL 310.500835 143.64078 \nL 288.109748 141.890118 \nz\n\" style=\"fill-opacity:0.2;\"/>\n    <path clip-path=\"url(#pd10d209847)\" d=\"M 241.178052 165.453209 \nL 263.433322 167.354752 \nL 275.84692 154.544642 \nL 253.654091 152.729711 \nz\n\" style=\"fill-opacity:0.2;\"/>\n    <path clip-path=\"url(#pd10d209847)\" d=\"M 206.494221 176.366484 \nL 228.548588 178.333174 \nL 241.178052 165.453209 \nL 219.183654 163.573955 \nz\n\" style=\"fill-opacity:0.2;\"/>\n    <path clip-path=\"url(#pd10d209847)\" d=\"M 171.795417 187.28447 \nL 193.648705 189.316364 \nL 206.494221 176.366484 \nL 184.698426 174.422852 \nz\n\" style=\"fill-opacity:0.2;\"/>\n    <path clip-path=\"url(#pd10d209847)\" d=\"M 263.433322 167.354752 \nL 285.954133 169.278984 \nL 298.302917 156.381094 \nL 275.84692 154.544642 \nz\n\" style=\"fill-opacity:0.2;\"/>\n    <path clip-path=\"url(#pd10d209847)\" d=\"M 228.548588 178.333174 \nL 250.866156 180.323336 \nL 263.433322 167.354752 \nL 241.178052 165.453209 \nz\n\" style=\"fill-opacity:0.2;\"/>\n    <path clip-path=\"url(#pd10d209847)\" d=\"M 193.648705 189.316364 \nL 215.762852 191.372512 \nL 228.548588 178.333174 \nL 206.494221 176.366484 \nz\n\" style=\"fill-opacity:0.2;\"/>\n    <path clip-path=\"url(#pd10d209847)\" d=\"M 250.866156 180.323336 \nL 273.451665 182.33739 \nL 285.954133 169.278984 \nL 263.433322 167.354752 \nz\n\" style=\"fill-opacity:0.2;\"/>\n    <path clip-path=\"url(#pd10d209847)\" d=\"M 215.762852 191.372512 \nL 238.142555 193.453351 \nL 250.866156 180.323336 \nL 228.548588 178.333174 \nz\n\" style=\"fill-opacity:0.2;\"/>\n    <path clip-path=\"url(#pd10d209847)\" d=\"M 238.142555 193.453351 \nL 260.792627 195.559329 \nL 273.451665 182.33739 \nL 250.866156 180.323336 \nz\n\" style=\"fill-opacity:0.2;\"/>\n   </g>\n  </g>\n </g>\n <defs>\n  <clipPath id=\"pd10d209847\">\n   <rect height=\"252\" width=\"410.4\" x=\"7.2\" y=\"7.2\"/>\n  </clipPath>\n </defs>\n</svg>\n",
      "image/png": "[encoded data removed]"
     },
     "metadata": {
      "needs_background": "light"
     }
    }
   ],
   "source": [
    "from mpl_toolkits.mplot3d import Axes3D\n",
    "\n",
    "fig = plt.figure(figsize=(6, 3.8))\n",
    "ax = fig.add_subplot(111, projection='3d')\n",
    "\n",
    "X3D_above = X[X[:, 2] > X3D_inv[:, 2]]\n",
    "X3D_below = X[X[:, 2] <= X3D_inv[:, 2]]\n",
    "\n",
    "ax.plot(X3D_below[:, 0], X3D_below[:, 1], X3D_below[:, 2], \"bo\", alpha=0.5)\n",
    "\n",
    "ax.plot_surface(x1, x2, z, alpha=0.2, color=\"k\")\n",
    "np.linalg.norm(C, axis=0)\n",
    "ax.add_artist(Arrow3D([0, C[0, 0]],[0, C[0, 1]],[0, C[0, 2]], mutation_scale=15, lw=1, arrowstyle=\"-|>\", color=\"k\"))\n",
    "ax.add_artist(Arrow3D([0, C[1, 0]],[0, C[1, 1]],[0, C[1, 2]], mutation_scale=15, lw=1, arrowstyle=\"-|>\", color=\"k\"))\n",
    "ax.plot([0], [0], [0], \"k.\")\n",
    "\n",
    "for i in range(m):\n",
    "    if X[i, 2] > X3D_inv[i, 2]:\n",
    "        ax.plot([X[i][0], X3D_inv[i][0]], [X[i][1], X3D_inv[i][1]], [X[i][2], X3D_inv[i][2]], \"k-\")\n",
    "    else:\n",
    "        ax.plot([X[i][0], X3D_inv[i][0]], [X[i][1], X3D_inv[i][1]], [X[i][2], X3D_inv[i][2]], \"k-\", color=\"#505050\")\n",
    "    \n",
    "ax.plot(X3D_inv[:, 0], X3D_inv[:, 1], X3D_inv[:, 2], \"k+\")\n",
    "ax.plot(X3D_inv[:, 0], X3D_inv[:, 1], X3D_inv[:, 2], \"k.\")\n",
    "ax.plot(X3D_above[:, 0], X3D_above[:, 1], X3D_above[:, 2], \"bo\")\n",
    "ax.set_xlabel(\"$x_1$\", fontsize=18, labelpad=10)\n",
    "ax.set_ylabel(\"$x_2$\", fontsize=18, labelpad=10)\n",
    "ax.set_zlabel(\"$x_3$\", fontsize=18, labelpad=10)\n",
    "ax.set_xlim(axes[0:2])\n",
    "ax.set_ylim(axes[2:4])\n",
    "ax.set_zlim(axes[4:6])\n",
    "\n",
    "# Note: If you are using Matplotlib 3.0.0, it has a bug and does not\n",
    "# display 3D graphs properly.\n",
    "# See https://github.com/matplotlib/matplotlib/issues/12239\n",
    "# You should upgrade to a later version. If you cannot, then you can\n",
    "# use the following workaround before displaying each 3D graph:\n",
    "# for spine in ax.spines.values():\n",
    "#     spine.set_visible(False)\n",
    "\n",
    "save_fig(\"dataset_3d_plot\")\n",
    "plt.show()"
   ]
  },
  {
   "cell_type": "code",
   "execution_count": 33,
   "metadata": {},
   "outputs": [
    {
     "output_type": "stream",
     "name": "stdout",
     "text": "Saving figure dataset_2d_plot\n"
    },
    {
     "output_type": "display_data",
     "data": {
      "text/plain": "<Figure size 432x288 with 1 Axes>",
      "image/svg+xml": "<?xml version=\"1.0\" encoding=\"utf-8\" standalone=\"no\"?>\n<!DOCTYPE svg PUBLIC \"-//W3C//DTD SVG 1.1//EN\"\n  \"http://www.w3.org/Graphics/SVG/1.1/DTD/svg11.dtd\">\n<!-- Created with matplotlib (https://matplotlib.org/) -->\n<svg height=\"278.834375pt\" version=\"1.1\" viewBox=\"0 0 325.339375 278.834375\" width=\"325.339375pt\" xmlns=\"http://www.w3.org/2000/svg\" xmlns:xlink=\"http://www.w3.org/1999/xlink\">\n <defs>\n  <style type=\"text/css\">\n*{stroke-linecap:butt;stroke-linejoin:round;}\n  </style>\n </defs>\n <g id=\"figure_1\">\n  <g id=\"patch_1\">\n   <path d=\"M 0 278.834375 \nL 325.339375 278.834375 \nL 325.339375 0 \nL 0 0 \nz\n\" style=\"fill:none;\"/>\n  </g>\n  <g id=\"axes_1\">\n   <g id=\"patch_2\">\n    <path d=\"M 56.339375 231.6 \nL 318.139375 231.6 \nL 318.139375 7.2 \nL 56.339375 7.2 \nz\n\" style=\"fill:#ffffff;\"/>\n   </g>\n   <g id=\"patch_3\">\n    <path clip-path=\"url(#pc750d13c6e)\" d=\"M 196.589375 25.9 \nL 198.926875 35.25 \nL 196.636125 35.25 \nL 196.636125 119.4 \nL 196.542625 119.4 \nL 196.542625 35.25 \nL 194.251875 35.25 \nz\n\" style=\"stroke:#000000;stroke-linejoin:miter;\"/>\n   </g>\n   <g id=\"patch_4\">\n    <path clip-path=\"url(#pc750d13c6e)\" d=\"M 290.089375 119.4 \nL 280.739375 121.7375 \nL 280.739375 119.44675 \nL 196.589375 119.44675 \nL 196.589375 119.35325 \nL 280.739375 119.35325 \nL 280.739375 117.0625 \nz\n\" style=\"stroke:#000000;stroke-linejoin:miter;\"/>\n   </g>\n   <g id=\"matplotlib.axis_1\">\n    <g id=\"xtick_1\">\n     <g id=\"line2d_1\">\n      <path clip-path=\"url(#pc750d13c6e)\" d=\"M 56.339375 231.6 \nL 56.339375 7.2 \n\" style=\"fill:none;stroke:#b0b0b0;stroke-linecap:square;stroke-width:0.8;\"/>\n     </g>\n     <g id=\"line2d_2\">\n      <defs>\n       <path d=\"M 0 0 \nL 0 3.5 \n\" id=\"m29784582cf\" style=\"stroke:#000000;stroke-width:0.8;\"/>\n      </defs>\n      <g>\n       <use style=\"stroke:#000000;stroke-width:0.8;\" x=\"56.339375\" xlink:href=\"#m29784582cf\" y=\"231.6\"/>\n      </g>\n     </g>\n     <g id=\"text_1\">\n      <!-- −1.5 -->\n      <defs>\n       <path d=\"M 10.59375 35.5 \nL 73.1875 35.5 \nL 73.1875 27.203125 \nL 10.59375 27.203125 \nz\n\" id=\"DejaVuSans-8722\"/>\n       <path d=\"M 12.40625 8.296875 \nL 28.515625 8.296875 \nL 28.515625 63.921875 \nL 10.984375 60.40625 \nL 10.984375 69.390625 \nL 28.421875 72.90625 \nL 38.28125 72.90625 \nL 38.28125 8.296875 \nL 54.390625 8.296875 \nL 54.390625 0 \nL 12.40625 0 \nz\n\" id=\"DejaVuSans-49\"/>\n       <path d=\"M 10.6875 12.40625 \nL 21 12.40625 \nL 21 0 \nL 10.6875 0 \nz\n\" id=\"DejaVuSans-46\"/>\n       <path d=\"M 10.796875 72.90625 \nL 49.515625 72.90625 \nL 49.515625 64.59375 \nL 19.828125 64.59375 \nL 19.828125 46.734375 \nQ 21.96875 47.46875 24.109375 47.828125 \nQ 26.265625 48.1875 28.421875 48.1875 \nQ 40.625 48.1875 47.75 41.5 \nQ 54.890625 34.8125 54.890625 23.390625 \nQ 54.890625 11.625 47.5625 5.09375 \nQ 40.234375 -1.421875 26.90625 -1.421875 \nQ 22.3125 -1.421875 17.546875 -0.640625 \nQ 12.796875 0.140625 7.71875 1.703125 \nL 7.71875 11.625 \nQ 12.109375 9.234375 16.796875 8.0625 \nQ 21.484375 6.890625 26.703125 6.890625 \nQ 35.15625 6.890625 40.078125 11.328125 \nQ 45.015625 15.765625 45.015625 23.390625 \nQ 45.015625 31 40.078125 35.4375 \nQ 35.15625 39.890625 26.703125 39.890625 \nQ 22.75 39.890625 18.8125 39.015625 \nQ 14.890625 38.140625 10.796875 36.28125 \nz\n\" id=\"DejaVuSans-53\"/>\n      </defs>\n      <g transform=\"translate(41.769687 247.718125)scale(0.12 -0.12)\">\n       <use xlink:href=\"#DejaVuSans-8722\"/>\n       <use x=\"83.789062\" xlink:href=\"#DejaVuSans-49\"/>\n       <use x=\"147.412109\" xlink:href=\"#DejaVuSans-46\"/>\n       <use x=\"179.199219\" xlink:href=\"#DejaVuSans-53\"/>\n      </g>\n     </g>\n    </g>\n    <g id=\"xtick_2\">\n     <g id=\"line2d_3\">\n      <path clip-path=\"url(#pc750d13c6e)\" d=\"M 103.089375 231.6 \nL 103.089375 7.2 \n\" style=\"fill:none;stroke:#b0b0b0;stroke-linecap:square;stroke-width:0.8;\"/>\n     </g>\n     <g id=\"line2d_4\">\n      <g>\n       <use style=\"stroke:#000000;stroke-width:0.8;\" x=\"103.089375\" xlink:href=\"#m29784582cf\" y=\"231.6\"/>\n      </g>\n     </g>\n     <g id=\"text_2\">\n      <!-- −1.0 -->\n      <defs>\n       <path d=\"M 31.78125 66.40625 \nQ 24.171875 66.40625 20.328125 58.90625 \nQ 16.5 51.421875 16.5 36.375 \nQ 16.5 21.390625 20.328125 13.890625 \nQ 24.171875 6.390625 31.78125 6.390625 \nQ 39.453125 6.390625 43.28125 13.890625 \nQ 47.125 21.390625 47.125 36.375 \nQ 47.125 51.421875 43.28125 58.90625 \nQ 39.453125 66.40625 31.78125 66.40625 \nz\nM 31.78125 74.21875 \nQ 44.046875 74.21875 50.515625 64.515625 \nQ 56.984375 54.828125 56.984375 36.375 \nQ 56.984375 17.96875 50.515625 8.265625 \nQ 44.046875 -1.421875 31.78125 -1.421875 \nQ 19.53125 -1.421875 13.0625 8.265625 \nQ 6.59375 17.96875 6.59375 36.375 \nQ 6.59375 54.828125 13.0625 64.515625 \nQ 19.53125 74.21875 31.78125 74.21875 \nz\n\" id=\"DejaVuSans-48\"/>\n      </defs>\n      <g transform=\"translate(88.519687 247.718125)scale(0.12 -0.12)\">\n       <use xlink:href=\"#DejaVuSans-8722\"/>\n       <use x=\"83.789062\" xlink:href=\"#DejaVuSans-49\"/>\n       <use x=\"147.412109\" xlink:href=\"#DejaVuSans-46\"/>\n       <use x=\"179.199219\" xlink:href=\"#DejaVuSans-48\"/>\n      </g>\n     </g>\n    </g>\n    <g id=\"xtick_3\">\n     <g id=\"line2d_5\">\n      <path clip-path=\"url(#pc750d13c6e)\" d=\"M 149.839375 231.6 \nL 149.839375 7.2 \n\" style=\"fill:none;stroke:#b0b0b0;stroke-linecap:square;stroke-width:0.8;\"/>\n     </g>\n     <g id=\"line2d_6\">\n      <g>\n       <use style=\"stroke:#000000;stroke-width:0.8;\" x=\"149.839375\" xlink:href=\"#m29784582cf\" y=\"231.6\"/>\n      </g>\n     </g>\n     <g id=\"text_3\">\n      <!-- −0.5 -->\n      <g transform=\"translate(135.269687 247.718125)scale(0.12 -0.12)\">\n       <use xlink:href=\"#DejaVuSans-8722\"/>\n       <use x=\"83.789062\" xlink:href=\"#DejaVuSans-48\"/>\n       <use x=\"147.412109\" xlink:href=\"#DejaVuSans-46\"/>\n       <use x=\"179.199219\" xlink:href=\"#DejaVuSans-53\"/>\n      </g>\n     </g>\n    </g>\n    <g id=\"xtick_4\">\n     <g id=\"line2d_7\">\n      <path clip-path=\"url(#pc750d13c6e)\" d=\"M 196.589375 231.6 \nL 196.589375 7.2 \n\" style=\"fill:none;stroke:#b0b0b0;stroke-linecap:square;stroke-width:0.8;\"/>\n     </g>\n     <g id=\"line2d_8\">\n      <g>\n       <use style=\"stroke:#000000;stroke-width:0.8;\" x=\"196.589375\" xlink:href=\"#m29784582cf\" y=\"231.6\"/>\n      </g>\n     </g>\n     <g id=\"text_4\">\n      <!-- 0.0 -->\n      <g transform=\"translate(187.0475 247.718125)scale(0.12 -0.12)\">\n       <use xlink:href=\"#DejaVuSans-48\"/>\n       <use x=\"63.623047\" xlink:href=\"#DejaVuSans-46\"/>\n       <use x=\"95.410156\" xlink:href=\"#DejaVuSans-48\"/>\n      </g>\n     </g>\n    </g>\n    <g id=\"xtick_5\">\n     <g id=\"line2d_9\">\n      <path clip-path=\"url(#pc750d13c6e)\" d=\"M 243.339375 231.6 \nL 243.339375 7.2 \n\" style=\"fill:none;stroke:#b0b0b0;stroke-linecap:square;stroke-width:0.8;\"/>\n     </g>\n     <g id=\"line2d_10\">\n      <g>\n       <use style=\"stroke:#000000;stroke-width:0.8;\" x=\"243.339375\" xlink:href=\"#m29784582cf\" y=\"231.6\"/>\n      </g>\n     </g>\n     <g id=\"text_5\">\n      <!-- 0.5 -->\n      <g transform=\"translate(233.7975 247.718125)scale(0.12 -0.12)\">\n       <use xlink:href=\"#DejaVuSans-48\"/>\n       <use x=\"63.623047\" xlink:href=\"#DejaVuSans-46\"/>\n       <use x=\"95.410156\" xlink:href=\"#DejaVuSans-53\"/>\n      </g>\n     </g>\n    </g>\n    <g id=\"xtick_6\">\n     <g id=\"line2d_11\">\n      <path clip-path=\"url(#pc750d13c6e)\" d=\"M 290.089375 231.6 \nL 290.089375 7.2 \n\" style=\"fill:none;stroke:#b0b0b0;stroke-linecap:square;stroke-width:0.8;\"/>\n     </g>\n     <g id=\"line2d_12\">\n      <g>\n       <use style=\"stroke:#000000;stroke-width:0.8;\" x=\"290.089375\" xlink:href=\"#m29784582cf\" y=\"231.6\"/>\n      </g>\n     </g>\n     <g id=\"text_6\">\n      <!-- 1.0 -->\n      <g transform=\"translate(280.5475 247.718125)scale(0.12 -0.12)\">\n       <use xlink:href=\"#DejaVuSans-49\"/>\n       <use x=\"63.623047\" xlink:href=\"#DejaVuSans-46\"/>\n       <use x=\"95.410156\" xlink:href=\"#DejaVuSans-48\"/>\n      </g>\n     </g>\n    </g>\n    <g id=\"text_7\">\n     <!-- $z_1$ -->\n     <defs>\n      <path d=\"M 11.625 54.6875 \nL 54.296875 54.6875 \nL 52.6875 46.484375 \nL 11.53125 7.171875 \nL 45.515625 7.171875 \nL 44.09375 0 \nL -0.296875 0 \nL 1.3125 8.203125 \nL 42.484375 47.515625 \nL 10.203125 47.515625 \nz\n\" id=\"DejaVuSans-Oblique-122\"/>\n     </defs>\n     <g transform=\"translate(178.239375 267.890937)scale(0.18 -0.18)\">\n      <use transform=\"translate(0 0.3125)\" xlink:href=\"#DejaVuSans-Oblique-122\"/>\n      <use transform=\"translate(52.490234 -16.09375)scale(0.7)\" xlink:href=\"#DejaVuSans-49\"/>\n     </g>\n    </g>\n   </g>\n   <g id=\"matplotlib.axis_2\">\n    <g id=\"ytick_1\">\n     <g id=\"line2d_13\">\n      <path clip-path=\"url(#pc750d13c6e)\" d=\"M 56.339375 212.9 \nL 318.139375 212.9 \n\" style=\"fill:none;stroke:#b0b0b0;stroke-linecap:square;stroke-width:0.8;\"/>\n     </g>\n     <g id=\"line2d_14\">\n      <defs>\n       <path d=\"M 0 0 \nL -3.5 0 \n\" id=\"mf07cf4216a\" style=\"stroke:#000000;stroke-width:0.8;\"/>\n      </defs>\n      <g>\n       <use style=\"stroke:#000000;stroke-width:0.8;\" x=\"56.339375\" xlink:href=\"#mf07cf4216a\" y=\"212.9\"/>\n      </g>\n     </g>\n     <g id=\"text_8\">\n      <!-- −1.0 -->\n      <g transform=\"translate(20.2 217.459062)scale(0.12 -0.12)\">\n       <use xlink:href=\"#DejaVuSans-8722\"/>\n       <use x=\"83.789062\" xlink:href=\"#DejaVuSans-49\"/>\n       <use x=\"147.412109\" xlink:href=\"#DejaVuSans-46\"/>\n       <use x=\"179.199219\" xlink:href=\"#DejaVuSans-48\"/>\n      </g>\n     </g>\n    </g>\n    <g id=\"ytick_2\">\n     <g id=\"line2d_15\">\n      <path clip-path=\"url(#pc750d13c6e)\" d=\"M 56.339375 166.15 \nL 318.139375 166.15 \n\" style=\"fill:none;stroke:#b0b0b0;stroke-linecap:square;stroke-width:0.8;\"/>\n     </g>\n     <g id=\"line2d_16\">\n      <g>\n       <use style=\"stroke:#000000;stroke-width:0.8;\" x=\"56.339375\" xlink:href=\"#mf07cf4216a\" y=\"166.15\"/>\n      </g>\n     </g>\n     <g id=\"text_9\">\n      <!-- −0.5 -->\n      <g transform=\"translate(20.2 170.709062)scale(0.12 -0.12)\">\n       <use xlink:href=\"#DejaVuSans-8722\"/>\n       <use x=\"83.789062\" xlink:href=\"#DejaVuSans-48\"/>\n       <use x=\"147.412109\" xlink:href=\"#DejaVuSans-46\"/>\n       <use x=\"179.199219\" xlink:href=\"#DejaVuSans-53\"/>\n      </g>\n     </g>\n    </g>\n    <g id=\"ytick_3\">\n     <g id=\"line2d_17\">\n      <path clip-path=\"url(#pc750d13c6e)\" d=\"M 56.339375 119.4 \nL 318.139375 119.4 \n\" style=\"fill:none;stroke:#b0b0b0;stroke-linecap:square;stroke-width:0.8;\"/>\n     </g>\n     <g id=\"line2d_18\">\n      <g>\n       <use style=\"stroke:#000000;stroke-width:0.8;\" x=\"56.339375\" xlink:href=\"#mf07cf4216a\" y=\"119.4\"/>\n      </g>\n     </g>\n     <g id=\"text_10\">\n      <!-- 0.0 -->\n      <g transform=\"translate(30.255625 123.959062)scale(0.12 -0.12)\">\n       <use xlink:href=\"#DejaVuSans-48\"/>\n       <use x=\"63.623047\" xlink:href=\"#DejaVuSans-46\"/>\n       <use x=\"95.410156\" xlink:href=\"#DejaVuSans-48\"/>\n      </g>\n     </g>\n    </g>\n    <g id=\"ytick_4\">\n     <g id=\"line2d_19\">\n      <path clip-path=\"url(#pc750d13c6e)\" d=\"M 56.339375 72.65 \nL 318.139375 72.65 \n\" style=\"fill:none;stroke:#b0b0b0;stroke-linecap:square;stroke-width:0.8;\"/>\n     </g>\n     <g id=\"line2d_20\">\n      <g>\n       <use style=\"stroke:#000000;stroke-width:0.8;\" x=\"56.339375\" xlink:href=\"#mf07cf4216a\" y=\"72.65\"/>\n      </g>\n     </g>\n     <g id=\"text_11\">\n      <!-- 0.5 -->\n      <g transform=\"translate(30.255625 77.209062)scale(0.12 -0.12)\">\n       <use xlink:href=\"#DejaVuSans-48\"/>\n       <use x=\"63.623047\" xlink:href=\"#DejaVuSans-46\"/>\n       <use x=\"95.410156\" xlink:href=\"#DejaVuSans-53\"/>\n      </g>\n     </g>\n    </g>\n    <g id=\"ytick_5\">\n     <g id=\"line2d_21\">\n      <path clip-path=\"url(#pc750d13c6e)\" d=\"M 56.339375 25.9 \nL 318.139375 25.9 \n\" style=\"fill:none;stroke:#b0b0b0;stroke-linecap:square;stroke-width:0.8;\"/>\n     </g>\n     <g id=\"line2d_22\">\n      <g>\n       <use style=\"stroke:#000000;stroke-width:0.8;\" x=\"56.339375\" xlink:href=\"#mf07cf4216a\" y=\"25.9\"/>\n      </g>\n     </g>\n     <g id=\"text_12\">\n      <!-- 1.0 -->\n      <g transform=\"translate(30.255625 30.459062)scale(0.12 -0.12)\">\n       <use xlink:href=\"#DejaVuSans-49\"/>\n       <use x=\"63.623047\" xlink:href=\"#DejaVuSans-46\"/>\n       <use x=\"95.410156\" xlink:href=\"#DejaVuSans-48\"/>\n      </g>\n     </g>\n    </g>\n    <g id=\"text_13\">\n     <!-- $z_2$ -->\n     <defs>\n      <path d=\"M 19.1875 8.296875 \nL 53.609375 8.296875 \nL 53.609375 0 \nL 7.328125 0 \nL 7.328125 8.296875 \nQ 12.9375 14.109375 22.625 23.890625 \nQ 32.328125 33.6875 34.8125 36.53125 \nQ 39.546875 41.84375 41.421875 45.53125 \nQ 43.3125 49.21875 43.3125 52.78125 \nQ 43.3125 58.59375 39.234375 62.25 \nQ 35.15625 65.921875 28.609375 65.921875 \nQ 23.96875 65.921875 18.8125 64.3125 \nQ 13.671875 62.703125 7.8125 59.421875 \nL 7.8125 69.390625 \nQ 13.765625 71.78125 18.9375 73 \nQ 24.125 74.21875 28.421875 74.21875 \nQ 39.75 74.21875 46.484375 68.546875 \nQ 53.21875 62.890625 53.21875 53.421875 \nQ 53.21875 48.921875 51.53125 44.890625 \nQ 49.859375 40.875 45.40625 35.40625 \nQ 44.1875 33.984375 37.640625 27.21875 \nQ 31.109375 20.453125 19.1875 8.296875 \nz\n\" id=\"DejaVuSans-50\"/>\n     </defs>\n     <g transform=\"translate(7.2 115.656562)scale(0.18 -0.18)\">\n      <use transform=\"translate(0 0.3125)\" xlink:href=\"#DejaVuSans-Oblique-122\"/>\n      <use transform=\"translate(52.490234 -16.09375)scale(0.7)\" xlink:href=\"#DejaVuSans-50\"/>\n     </g>\n    </g>\n   </g>\n   <g id=\"line2d_23\">\n    <defs>\n     <path d=\"M -3 0 \nL 3 0 \nM 0 3 \nL 0 -3 \n\" id=\"m61fc61bf3a\" style=\"stroke:#000000;\"/>\n    </defs>\n    <g clip-path=\"url(#pc750d13c6e)\">\n     <use style=\"stroke:#000000;\" x=\"314.589504\" xlink:href=\"#m61fc61bf3a\" y=\"80.066749\"/>\n     <use style=\"stroke:#000000;\" x=\"189.107986\" xlink:href=\"#m61fc61bf3a\" y=\"152.379544\"/>\n     <use style=\"stroke:#000000;\" x=\"306.494664\" xlink:href=\"#m61fc61bf3a\" y=\"85.659844\"/>\n     <use style=\"stroke:#000000;\" x=\"280.090111\" xlink:href=\"#m61fc61bf3a\" y=\"148.25677\"/>\n     <use style=\"stroke:#000000;\" x=\"264.859603\" xlink:href=\"#m61fc61bf3a\" y=\"143.152786\"/>\n     <use style=\"stroke:#000000;\" x=\"93.330861\" xlink:href=\"#m61fc61bf3a\" y=\"100.508369\"/>\n     <use style=\"stroke:#000000;\" x=\"315.582905\" xlink:href=\"#m61fc61bf3a\" y=\"75.659535\"/>\n     <use style=\"stroke:#000000;\" x=\"154.577014\" xlink:href=\"#m61fc61bf3a\" y=\"56.06622\"/>\n     <use style=\"stroke:#000000;\" x=\"94.341333\" xlink:href=\"#m61fc61bf3a\" y=\"123.577386\"/>\n     <use style=\"stroke:#000000;\" x=\"134.713576\" xlink:href=\"#m61fc61bf3a\" y=\"146.188932\"/>\n     <use style=\"stroke:#000000;\" x=\"294.265214\" xlink:href=\"#m61fc61bf3a\" y=\"129.91347\"/>\n     <use style=\"stroke:#000000;\" x=\"97.542486\" xlink:href=\"#m61fc61bf3a\" y=\"90.238183\"/>\n     <use style=\"stroke:#000000;\" x=\"302.956308\" xlink:href=\"#m61fc61bf3a\" y=\"105.770828\"/>\n     <use style=\"stroke:#000000;\" x=\"305.090624\" xlink:href=\"#m61fc61bf3a\" y=\"85.289705\"/>\n     <use style=\"stroke:#000000;\" x=\"102.932646\" xlink:href=\"#m61fc61bf3a\" y=\"82.540422\"/>\n     <use style=\"stroke:#000000;\" x=\"222.305671\" xlink:href=\"#m61fc61bf3a\" y=\"151.555668\"/>\n     <use style=\"stroke:#000000;\" x=\"153.930199\" xlink:href=\"#m61fc61bf3a\" y=\"54.223419\"/>\n     <use style=\"stroke:#000000;\" x=\"122.063728\" xlink:href=\"#m61fc61bf3a\" y=\"144.524356\"/>\n     <use style=\"stroke:#000000;\" x=\"134.014566\" xlink:href=\"#m61fc61bf3a\" y=\"58.138778\"/>\n     <use style=\"stroke:#000000;\" x=\"318.774921\" xlink:href=\"#m61fc61bf3a\" y=\"84.177294\"/>\n     <use style=\"stroke:#000000;\" x=\"134.630796\" xlink:href=\"#m61fc61bf3a\" y=\"149.980506\"/>\n     <use style=\"stroke:#000000;\" x=\"313.82677\" xlink:href=\"#m61fc61bf3a\" y=\"66.998927\"/>\n     <use style=\"stroke:#000000;\" x=\"293.873308\" xlink:href=\"#m61fc61bf3a\" y=\"127.560374\"/>\n     <use style=\"stroke:#000000;\" x=\"314.444002\" xlink:href=\"#m61fc61bf3a\" y=\"104.710458\"/>\n     <use style=\"stroke:#000000;\" x=\"93.938858\" xlink:href=\"#m61fc61bf3a\" y=\"83.268394\"/>\n     <use style=\"stroke:#000000;\" x=\"129.914777\" xlink:href=\"#m61fc61bf3a\" y=\"58.679676\"/>\n     <use style=\"stroke:#000000;\" x=\"213.220135\" xlink:href=\"#m61fc61bf3a\" y=\"160.174482\"/>\n     <use style=\"stroke:#000000;\" x=\"100.307063\" xlink:href=\"#m61fc61bf3a\" y=\"87.846132\"/>\n     <use style=\"stroke:#000000;\" x=\"284.99576\" xlink:href=\"#m61fc61bf3a\" y=\"140.749105\"/>\n     <use style=\"stroke:#000000;\" x=\"120.859128\" xlink:href=\"#m61fc61bf3a\" y=\"151.013032\"/>\n     <use style=\"stroke:#000000;\" x=\"177.712496\" xlink:href=\"#m61fc61bf3a\" y=\"152.262987\"/>\n     <use style=\"stroke:#000000;\" x=\"322.084524\" xlink:href=\"#m61fc61bf3a\" y=\"79.741332\"/>\n     <use style=\"stroke:#000000;\" x=\"183.873484\" xlink:href=\"#m61fc61bf3a\" y=\"154.236821\"/>\n     <use style=\"stroke:#000000;\" x=\"119.85457\" xlink:href=\"#m61fc61bf3a\" y=\"67.86202\"/>\n     <use style=\"stroke:#000000;\" x=\"111.673952\" xlink:href=\"#m61fc61bf3a\" y=\"89.602366\"/>\n     <use style=\"stroke:#000000;\" x=\"190.321442\" xlink:href=\"#m61fc61bf3a\" y=\"159.124549\"/>\n     <use style=\"stroke:#000000;\" x=\"183.55838\" xlink:href=\"#m61fc61bf3a\" y=\"158.583009\"/>\n     <use style=\"stroke:#000000;\" x=\"231.517959\" xlink:href=\"#m61fc61bf3a\" y=\"144.944994\"/>\n     <use style=\"stroke:#000000;\" x=\"128.218052\" xlink:href=\"#m61fc61bf3a\" y=\"141.317457\"/>\n     <use style=\"stroke:#000000;\" x=\"245.493194\" xlink:href=\"#m61fc61bf3a\" y=\"162.991361\"/>\n     <use style=\"stroke:#000000;\" x=\"116.042694\" xlink:href=\"#m61fc61bf3a\" y=\"147.648712\"/>\n     <use style=\"stroke:#000000;\" x=\"227.634404\" xlink:href=\"#m61fc61bf3a\" y=\"163.67475\"/>\n     <use style=\"stroke:#000000;\" x=\"289.591428\" xlink:href=\"#m61fc61bf3a\" y=\"136.550525\"/>\n     <use style=\"stroke:#000000;\" x=\"98.863135\" xlink:href=\"#m61fc61bf3a\" y=\"88.828112\"/>\n     <use style=\"stroke:#000000;\" x=\"114.798335\" xlink:href=\"#m61fc61bf3a\" y=\"136.28877\"/>\n     <use style=\"stroke:#000000;\" x=\"168.111217\" xlink:href=\"#m61fc61bf3a\" y=\"160.45056\"/>\n     <use style=\"stroke:#000000;\" x=\"256.135782\" xlink:href=\"#m61fc61bf3a\" y=\"150.116458\"/>\n     <use style=\"stroke:#000000;\" x=\"91.053504\" xlink:href=\"#m61fc61bf3a\" y=\"108.528442\"/>\n     <use style=\"stroke:#000000;\" x=\"193.002523\" xlink:href=\"#m61fc61bf3a\" y=\"165.248987\"/>\n     <use style=\"stroke:#000000;\" x=\"235.286073\" xlink:href=\"#m61fc61bf3a\" y=\"149.071685\"/>\n     <use style=\"stroke:#000000;\" x=\"320.400147\" xlink:href=\"#m61fc61bf3a\" y=\"101.219187\"/>\n     <use style=\"stroke:#000000;\" x=\"109.663662\" xlink:href=\"#m61fc61bf3a\" y=\"136.631682\"/>\n     <use style=\"stroke:#000000;\" x=\"234.246466\" xlink:href=\"#m61fc61bf3a\" y=\"151.334013\"/>\n     <use style=\"stroke:#000000;\" x=\"92.354695\" xlink:href=\"#m61fc61bf3a\" y=\"96.830178\"/>\n     <use style=\"stroke:#000000;\" x=\"166.748789\" xlink:href=\"#m61fc61bf3a\" y=\"145.381465\"/>\n     <use style=\"stroke:#000000;\" x=\"100.59637\" xlink:href=\"#m61fc61bf3a\" y=\"86.97743\"/>\n     <use style=\"stroke:#000000;\" x=\"312.665703\" xlink:href=\"#m61fc61bf3a\" y=\"86.628858\"/>\n     <use style=\"stroke:#000000;\" x=\"134.159087\" xlink:href=\"#m61fc61bf3a\" y=\"149.565266\"/>\n     <use style=\"stroke:#000000;\" x=\"305.421408\" xlink:href=\"#m61fc61bf3a\" y=\"122.811008\"/>\n     <use style=\"stroke:#000000;\" x=\"132.704505\" xlink:href=\"#m61fc61bf3a\" y=\"140.677674\"/>\n    </g>\n   </g>\n   <g id=\"line2d_24\">\n    <defs>\n     <path d=\"M 0 1.5 \nC 0.397805 1.5 0.77937 1.341951 1.06066 1.06066 \nC 1.341951 0.77937 1.5 0.397805 1.5 0 \nC 1.5 -0.397805 1.341951 -0.77937 1.06066 -1.06066 \nC 0.77937 -1.341951 0.397805 -1.5 0 -1.5 \nC -0.397805 -1.5 -0.77937 -1.341951 -1.06066 -1.06066 \nC -1.341951 -0.77937 -1.5 -0.397805 -1.5 0 \nC -1.5 0.397805 -1.341951 0.77937 -1.06066 1.06066 \nC -0.77937 1.341951 -0.397805 1.5 0 1.5 \nz\n\" id=\"md58fc5c5d5\" style=\"stroke:#000000;\"/>\n    </defs>\n    <g clip-path=\"url(#pc750d13c6e)\">\n     <use style=\"stroke:#000000;\" x=\"314.589504\" xlink:href=\"#md58fc5c5d5\" y=\"80.066749\"/>\n     <use style=\"stroke:#000000;\" x=\"189.107986\" xlink:href=\"#md58fc5c5d5\" y=\"152.379544\"/>\n     <use style=\"stroke:#000000;\" x=\"306.494664\" xlink:href=\"#md58fc5c5d5\" y=\"85.659844\"/>\n     <use style=\"stroke:#000000;\" x=\"280.090111\" xlink:href=\"#md58fc5c5d5\" y=\"148.25677\"/>\n     <use style=\"stroke:#000000;\" x=\"264.859603\" xlink:href=\"#md58fc5c5d5\" y=\"143.152786\"/>\n     <use style=\"stroke:#000000;\" x=\"93.330861\" xlink:href=\"#md58fc5c5d5\" y=\"100.508369\"/>\n     <use style=\"stroke:#000000;\" x=\"315.582905\" xlink:href=\"#md58fc5c5d5\" y=\"75.659535\"/>\n     <use style=\"stroke:#000000;\" x=\"154.577014\" xlink:href=\"#md58fc5c5d5\" y=\"56.06622\"/>\n     <use style=\"stroke:#000000;\" x=\"94.341333\" xlink:href=\"#md58fc5c5d5\" y=\"123.577386\"/>\n     <use style=\"stroke:#000000;\" x=\"134.713576\" xlink:href=\"#md58fc5c5d5\" y=\"146.188932\"/>\n     <use style=\"stroke:#000000;\" x=\"294.265214\" xlink:href=\"#md58fc5c5d5\" y=\"129.91347\"/>\n     <use style=\"stroke:#000000;\" x=\"97.542486\" xlink:href=\"#md58fc5c5d5\" y=\"90.238183\"/>\n     <use style=\"stroke:#000000;\" x=\"302.956308\" xlink:href=\"#md58fc5c5d5\" y=\"105.770828\"/>\n     <use style=\"stroke:#000000;\" x=\"305.090624\" xlink:href=\"#md58fc5c5d5\" y=\"85.289705\"/>\n     <use style=\"stroke:#000000;\" x=\"102.932646\" xlink:href=\"#md58fc5c5d5\" y=\"82.540422\"/>\n     <use style=\"stroke:#000000;\" x=\"222.305671\" xlink:href=\"#md58fc5c5d5\" y=\"151.555668\"/>\n     <use style=\"stroke:#000000;\" x=\"153.930199\" xlink:href=\"#md58fc5c5d5\" y=\"54.223419\"/>\n     <use style=\"stroke:#000000;\" x=\"122.063728\" xlink:href=\"#md58fc5c5d5\" y=\"144.524356\"/>\n     <use style=\"stroke:#000000;\" x=\"134.014566\" xlink:href=\"#md58fc5c5d5\" y=\"58.138778\"/>\n     <use style=\"stroke:#000000;\" x=\"318.774921\" xlink:href=\"#md58fc5c5d5\" y=\"84.177294\"/>\n     <use style=\"stroke:#000000;\" x=\"134.630796\" xlink:href=\"#md58fc5c5d5\" y=\"149.980506\"/>\n     <use style=\"stroke:#000000;\" x=\"313.82677\" xlink:href=\"#md58fc5c5d5\" y=\"66.998927\"/>\n     <use style=\"stroke:#000000;\" x=\"293.873308\" xlink:href=\"#md58fc5c5d5\" y=\"127.560374\"/>\n     <use style=\"stroke:#000000;\" x=\"314.444002\" xlink:href=\"#md58fc5c5d5\" y=\"104.710458\"/>\n     <use style=\"stroke:#000000;\" x=\"93.938858\" xlink:href=\"#md58fc5c5d5\" y=\"83.268394\"/>\n     <use style=\"stroke:#000000;\" x=\"129.914777\" xlink:href=\"#md58fc5c5d5\" y=\"58.679676\"/>\n     <use style=\"stroke:#000000;\" x=\"213.220135\" xlink:href=\"#md58fc5c5d5\" y=\"160.174482\"/>\n     <use style=\"stroke:#000000;\" x=\"100.307063\" xlink:href=\"#md58fc5c5d5\" y=\"87.846132\"/>\n     <use style=\"stroke:#000000;\" x=\"284.99576\" xlink:href=\"#md58fc5c5d5\" y=\"140.749105\"/>\n     <use style=\"stroke:#000000;\" x=\"120.859128\" xlink:href=\"#md58fc5c5d5\" y=\"151.013032\"/>\n     <use style=\"stroke:#000000;\" x=\"177.712496\" xlink:href=\"#md58fc5c5d5\" y=\"152.262987\"/>\n     <use style=\"stroke:#000000;\" x=\"322.084524\" xlink:href=\"#md58fc5c5d5\" y=\"79.741332\"/>\n     <use style=\"stroke:#000000;\" x=\"183.873484\" xlink:href=\"#md58fc5c5d5\" y=\"154.236821\"/>\n     <use style=\"stroke:#000000;\" x=\"119.85457\" xlink:href=\"#md58fc5c5d5\" y=\"67.86202\"/>\n     <use style=\"stroke:#000000;\" x=\"111.673952\" xlink:href=\"#md58fc5c5d5\" y=\"89.602366\"/>\n     <use style=\"stroke:#000000;\" x=\"190.321442\" xlink:href=\"#md58fc5c5d5\" y=\"159.124549\"/>\n     <use style=\"stroke:#000000;\" x=\"183.55838\" xlink:href=\"#md58fc5c5d5\" y=\"158.583009\"/>\n     <use style=\"stroke:#000000;\" x=\"231.517959\" xlink:href=\"#md58fc5c5d5\" y=\"144.944994\"/>\n     <use style=\"stroke:#000000;\" x=\"128.218052\" xlink:href=\"#md58fc5c5d5\" y=\"141.317457\"/>\n     <use style=\"stroke:#000000;\" x=\"245.493194\" xlink:href=\"#md58fc5c5d5\" y=\"162.991361\"/>\n     <use style=\"stroke:#000000;\" x=\"116.042694\" xlink:href=\"#md58fc5c5d5\" y=\"147.648712\"/>\n     <use style=\"stroke:#000000;\" x=\"227.634404\" xlink:href=\"#md58fc5c5d5\" y=\"163.67475\"/>\n     <use style=\"stroke:#000000;\" x=\"289.591428\" xlink:href=\"#md58fc5c5d5\" y=\"136.550525\"/>\n     <use style=\"stroke:#000000;\" x=\"98.863135\" xlink:href=\"#md58fc5c5d5\" y=\"88.828112\"/>\n     <use style=\"stroke:#000000;\" x=\"114.798335\" xlink:href=\"#md58fc5c5d5\" y=\"136.28877\"/>\n     <use style=\"stroke:#000000;\" x=\"168.111217\" xlink:href=\"#md58fc5c5d5\" y=\"160.45056\"/>\n     <use style=\"stroke:#000000;\" x=\"256.135782\" xlink:href=\"#md58fc5c5d5\" y=\"150.116458\"/>\n     <use style=\"stroke:#000000;\" x=\"91.053504\" xlink:href=\"#md58fc5c5d5\" y=\"108.528442\"/>\n     <use style=\"stroke:#000000;\" x=\"193.002523\" xlink:href=\"#md58fc5c5d5\" y=\"165.248987\"/>\n     <use style=\"stroke:#000000;\" x=\"235.286073\" xlink:href=\"#md58fc5c5d5\" y=\"149.071685\"/>\n     <use style=\"stroke:#000000;\" x=\"320.400147\" xlink:href=\"#md58fc5c5d5\" y=\"101.219187\"/>\n     <use style=\"stroke:#000000;\" x=\"109.663662\" xlink:href=\"#md58fc5c5d5\" y=\"136.631682\"/>\n     <use style=\"stroke:#000000;\" x=\"234.246466\" xlink:href=\"#md58fc5c5d5\" y=\"151.334013\"/>\n     <use style=\"stroke:#000000;\" x=\"92.354695\" xlink:href=\"#md58fc5c5d5\" y=\"96.830178\"/>\n     <use style=\"stroke:#000000;\" x=\"166.748789\" xlink:href=\"#md58fc5c5d5\" y=\"145.381465\"/>\n     <use style=\"stroke:#000000;\" x=\"100.59637\" xlink:href=\"#md58fc5c5d5\" y=\"86.97743\"/>\n     <use style=\"stroke:#000000;\" x=\"312.665703\" xlink:href=\"#md58fc5c5d5\" y=\"86.628858\"/>\n     <use style=\"stroke:#000000;\" x=\"134.159087\" xlink:href=\"#md58fc5c5d5\" y=\"149.565266\"/>\n     <use style=\"stroke:#000000;\" x=\"305.421408\" xlink:href=\"#md58fc5c5d5\" y=\"122.811008\"/>\n     <use style=\"stroke:#000000;\" x=\"132.704505\" xlink:href=\"#md58fc5c5d5\" y=\"140.677674\"/>\n    </g>\n   </g>\n   <g id=\"line2d_25\">\n    <defs>\n     <path d=\"M 0 3 \nC 0.795609 3 1.55874 2.683901 2.12132 2.12132 \nC 2.683901 1.55874 3 0.795609 3 0 \nC 3 -0.795609 2.683901 -1.55874 2.12132 -2.12132 \nC 1.55874 -2.683901 0.795609 -3 0 -3 \nC -0.795609 -3 -1.55874 -2.683901 -2.12132 -2.12132 \nC -2.683901 -1.55874 -3 -0.795609 -3 0 \nC -3 0.795609 -2.683901 1.55874 -2.12132 2.12132 \nC -1.55874 2.683901 -0.795609 3 0 3 \nz\n\" id=\"m9a78e014f9\" style=\"stroke:#000000;\"/>\n    </defs>\n    <g clip-path=\"url(#pc750d13c6e)\">\n     <use style=\"stroke:#000000;\" x=\"196.589375\" xlink:href=\"#m9a78e014f9\" y=\"119.4\"/>\n    </g>\n   </g>\n   <g id=\"patch_5\">\n    <path d=\"M 56.339375 231.6 \nL 56.339375 7.2 \n\" style=\"fill:none;stroke:#000000;stroke-linecap:square;stroke-linejoin:miter;stroke-width:0.8;\"/>\n   </g>\n   <g id=\"patch_6\">\n    <path d=\"M 318.139375 231.6 \nL 318.139375 7.2 \n\" style=\"fill:none;stroke:#000000;stroke-linecap:square;stroke-linejoin:miter;stroke-width:0.8;\"/>\n   </g>\n   <g id=\"patch_7\">\n    <path d=\"M 56.339375 231.6 \nL 318.139375 231.6 \n\" style=\"fill:none;stroke:#000000;stroke-linecap:square;stroke-linejoin:miter;stroke-width:0.8;\"/>\n   </g>\n   <g id=\"patch_8\">\n    <path d=\"M 56.339375 7.2 \nL 318.139375 7.2 \n\" style=\"fill:none;stroke:#000000;stroke-linecap:square;stroke-linejoin:miter;stroke-width:0.8;\"/>\n   </g>\n  </g>\n </g>\n <defs>\n  <clipPath id=\"pc750d13c6e\">\n   <rect height=\"224.4\" width=\"261.8\" x=\"56.339375\" y=\"7.2\"/>\n  </clipPath>\n </defs>\n</svg>\n",
      "image/png": "[encoded data removed]"
     },
     "metadata": {
      "needs_background": "light"
     }
    }
   ],
   "source": [
    "fig = plt.figure()\n",
    "ax = fig.add_subplot(111, aspect='equal')\n",
    "\n",
    "ax.plot(X2D[:, 0], X2D[:, 1], \"k+\")\n",
    "ax.plot(X2D[:, 0], X2D[:, 1], \"k.\")\n",
    "ax.plot([0], [0], \"ko\")\n",
    "ax.arrow(0, 0, 0, 1, head_width=0.05, length_includes_head=True, head_length=0.1, fc='k', ec='k')\n",
    "ax.arrow(0, 0, 1, 0, head_width=0.05, length_includes_head=True, head_length=0.1, fc='k', ec='k')\n",
    "ax.set_xlabel(\"$z_1$\", fontsize=18)\n",
    "ax.set_ylabel(\"$z_2$\", fontsize=18, rotation=0)\n",
    "ax.axis([-1.5, 1.3, -1.2, 1.2])\n",
    "ax.grid(True)\n",
    "save_fig(\"dataset_2d_plot\")"
   ]
  },
  {
   "cell_type": "markdown",
   "metadata": {},
   "source": [
    "## Manifold learning"
   ]
  },
  {
   "cell_type": "code",
   "execution_count": null,
   "metadata": {},
   "outputs": [],
   "source": []
  }
 ],
 "metadata": {
  "language_info": {
   "codemirror_mode": {
    "name": "ipython",
    "version": 3
   },
   "file_extension": ".py",
   "mimetype": "text/x-python",
   "name": "python",
   "nbconvert_exporter": "python",
   "pygments_lexer": "ipython3",
   "version": "3.7.5-final"
  },
  "orig_nbformat": 2,
  "kernelspec": {
   "name": "python37564bit42731fe29a1c4072b88558cb14c14b00",
   "display_name": "Python 3.7.5 64-bit"
  }
 },
 "nbformat": 4,
 "nbformat_minor": 2
}