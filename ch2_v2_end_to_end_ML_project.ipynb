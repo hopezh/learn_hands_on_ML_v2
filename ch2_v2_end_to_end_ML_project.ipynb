{
 "nbformat": 4,
 "nbformat_minor": 2,
 "metadata": {
  "language_info": {
   "name": "python",
   "codemirror_mode": {
    "name": "ipython",
    "version": 3
   }
  },
  "orig_nbformat": 2,
  "file_extension": ".py",
  "mimetype": "text/x-python",
  "name": "python",
  "npconvert_exporter": "python",
  "pygments_lexer": "ipython3",
  "version": 3
 },
 "cells": [
  {
   "cell_type": "markdown",
   "metadata": {},
   "source": [
    "# Chapter 2. End-to-End Machine Learning Project\n",
    "\n",
    "- the big picture\n",
    "\n",
    "- get data\n",
    "\n",
    "- discover and viz data\n",
    "\n",
    "- prep data for ML algorithm\n",
    "\n",
    "- select a model and train it\n",
    "\n",
    "- fine-turn model\n",
    "\n",
    "- present the solution\n",
    "\n",
    "- lauch, monitor, and maintain the system"
   ]
  },
  {
   "cell_type": "code",
   "execution_count": null,
   "metadata": {},
   "outputs": [],
   "source": []
  }
 ]
}