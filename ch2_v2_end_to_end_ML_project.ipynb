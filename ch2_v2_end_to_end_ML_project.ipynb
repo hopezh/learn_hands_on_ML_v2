{
 "nbformat": 4,
 "nbformat_minor": 2,
 "metadata": {
  "language_info": {
   "name": "python",
   "codemirror_mode": {
    "name": "ipython",
    "version": 3
   },
   "version": "3.7.5-final"
  },
  "orig_nbformat": 2,
  "file_extension": ".py",
  "mimetype": "text/x-python",
  "name": "python",
  "npconvert_exporter": "python",
  "pygments_lexer": "ipython3",
  "version": 3,
  "kernelspec": {
   "name": "python37564bit42731fe29a1c4072b88558cb14c14b00",
   "display_name": "Python 3.7.5 64-bit"
  }
 },
 "cells": [
  {
   "cell_type": "markdown",
   "metadata": {},
   "source": [
    "# Chapter 2. End-to-End Machine Learning Project\n",
    "\n",
    "- the big picture\n",
    "\n",
    "- get data\n",
    "\n",
    "- discover and viz data\n",
    "\n",
    "- prep data for ML algorithm\n",
    "\n",
    "- select a model and train it\n",
    "\n",
    "- fine-turn model\n",
    "\n",
    "- present the solution\n",
    "\n",
    "- lauch, monitor, and maintain the system"
   ]
  },
  {
   "cell_type": "markdown",
   "metadata": {},
   "source": [
    "## Setup"
   ]
  },
  {
   "cell_type": "code",
   "execution_count": 16,
   "metadata": {},
   "outputs": [
    {
     "name": "stdout",
     "output_type": "stream",
     "text": "---------------\nsys ver info: \t sys.version_info(major=3, minor=7, micro=5, releaselevel='final', serial=0)\nsklearn ver: \t 0.22\n---------------\n"
    }
   ],
   "source": [
    "# require python 3.5\n",
    "import sys\n",
    "print('---------------')\n",
    "print('sys ver info:', '\\t', sys.version_info)\n",
    "assert sys.version_info >= (3, 5)\n",
    "\n",
    "# require scikit-learn 0.20\n",
    "import sklearn\n",
    "print('sklearn ver:', '\\t', sklearn.__version__)\n",
    "assert sklearn.__version__ >= '0.20'\n",
    "print('---------------')\n",
    "\n",
    "import numpy as np\n",
    "import os\n",
    "\n",
    "# plot pretty figs\n",
    "%matplotlib inline\n",
    "import matplotlib as mpl\n",
    "import matplotlib.pyplot as plt\n",
    "mpl.rc('axes', labelsize=14)\n",
    "mpl.rc('xtick', labelsize=12)\n",
    "mpl.rc('ytick', labelsize=12)\n",
    "\n",
    "# Where to save the figures\n",
    "PROJECT_ROOT_DIR = \".\"\n",
    "CHAPTER_ID = \"end_to_end_project\"\n",
    "IMAGES_PATH = os.path.join(PROJECT_ROOT_DIR, \"images\", CHAPTER_ID)\n",
    "os.makedirs(IMAGES_PATH, exist_ok=True)\n",
    "\n",
    "def save_fig(fig_id, tight_layout=True, fig_extension=\"png\", resolution=300):\n",
    "    path = os.path.join(IMAGES_PATH, fig_id + \".\" + fig_extension)\n",
    "    print(\"Saving figure\", fig_id)\n",
    "    if tight_layout:\n",
    "        plt.tight_layout()\n",
    "    plt.savefig(path, format=fig_extension, dpi=resolution)\n",
    "\n",
    "# Ignore useless warnings (see SciPy issue #5998)\n",
    "import warnings\n",
    "warnings.filterwarnings(action=\"ignore\", message=\"^internal gelsd\")"
   ]
  },
  {
   "cell_type": "code",
   "execution_count": null,
   "metadata": {},
   "outputs": [],
   "source": []
  },
  {
   "cell_type": "code",
   "execution_count": null,
   "metadata": {},
   "outputs": [],
   "source": []
  },
  {
   "cell_type": "code",
   "execution_count": null,
   "metadata": {},
   "outputs": [],
   "source": []
  }
 ]
}