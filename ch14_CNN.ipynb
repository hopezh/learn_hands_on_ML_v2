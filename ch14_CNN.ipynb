{
 "metadata": {
  "language_info": {
   "codemirror_mode": {
    "name": "ipython",
    "version": 3
   },
   "file_extension": ".py",
   "mimetype": "text/x-python",
   "name": "python",
   "nbconvert_exporter": "python",
   "pygments_lexer": "ipython3",
   "version": "3.7.5-final"
  },
  "orig_nbformat": 2,
  "kernelspec": {
   "name": "python37564bit42731fe29a1c4072b88558cb14c14b00",
   "display_name": "Python 3.7.5 64-bit"
  }
 },
 "nbformat": 4,
 "nbformat_minor": 2,
 "cells": [
  {
   "source": [
    "# Chapter 14. CNN\n",
    "\n",
    "- The architecture of the visual cortex\n",
    "    - local receptive field\n",
    "    - some neurons responding to specific pattern\n",
    "    - some neurons react with larger receptive fields react to more complex patterns\n",
    "\n",
    "- Yann LeCun and LeNet-5 (1998)\n",
    "    - innovations: **convolutional layers** and **pooling layers**\n",
    "\n",
    "- Why not deep neural network? \n",
    "    - only work for small input data\n",
    "    - num of parameters are too huge\n",
    "\n",
    "- advantages of CNNs \n",
    "    - **partially connected layers**\n",
    "    - **weight sharing** (??? check Andrew Ng's lecture)"
   ],
   "cell_type": "markdown",
   "metadata": {}
  },
  {
   "source": [
    "## setup"
   ],
   "cell_type": "markdown",
   "metadata": {}
  },
  {
   "cell_type": "code",
   "execution_count": 1,
   "metadata": {},
   "outputs": [
    {
     "output_type": "stream",
     "name": "stdout",
     "text": [
      "No GPU was detected. CNNs can be very slow without a GPU.\n",
      "setup complete.\n"
     ]
    }
   ],
   "source": [
    "# Python ≥3.5 is required\n",
    "import sys\n",
    "assert sys.version_info >= (3, 5)\n",
    "\n",
    "# Scikit-Learn ≥0.20 is required\n",
    "import sklearn\n",
    "assert sklearn.__version__ >= \"0.20\"\n",
    "\n",
    "try:\n",
    "    # %tensorflow_version only exists in Colab.\n",
    "    %tensorflow_version 2.x\n",
    "    IS_COLAB = True\n",
    "except Exception:\n",
    "    IS_COLAB = False\n",
    "\n",
    "# TensorFlow ≥2.0 is required\n",
    "import tensorflow as tf\n",
    "from tensorflow import keras\n",
    "assert tf.__version__ >= \"2.0\"\n",
    "\n",
    "if not tf.config.list_physical_devices('GPU'):\n",
    "    print(\"No GPU was detected. CNNs can be very slow without a GPU.\")\n",
    "    if IS_COLAB:\n",
    "        print(\"Go to Runtime > Change runtime and select a GPU hardware accelerator.\")\n",
    "\n",
    "# Common imports\n",
    "import numpy as np\n",
    "import os\n",
    "\n",
    "# to make this notebook's output stable across runs\n",
    "np.random.seed(42)\n",
    "tf.random.set_seed(42)\n",
    "\n",
    "# To plot pretty figures\n",
    "%matplotlib inline\n",
    "import matplotlib as mpl\n",
    "import matplotlib.pyplot as plt\n",
    "mpl.rc('axes', labelsize=14)\n",
    "mpl.rc('xtick', labelsize=12)\n",
    "mpl.rc('ytick', labelsize=12)\n",
    "\n",
    "# Where to save the figures\n",
    "PROJECT_ROOT_DIR = \".\"\n",
    "CHAPTER_ID = \"cnn\"\n",
    "IMAGES_PATH = os.path.join(PROJECT_ROOT_DIR, \"images\", CHAPTER_ID)\n",
    "os.makedirs(IMAGES_PATH, exist_ok=True)\n",
    "\n",
    "def save_fig(fig_id, tight_layout=True, fig_extension=\"png\", resolution=300):\n",
    "    path = os.path.join(IMAGES_PATH, fig_id + \".\" + fig_extension)\n",
    "    print(\"Saving figure\", fig_id)\n",
    "    if tight_layout:\n",
    "        plt.tight_layout()\n",
    "    plt.savefig(path, format=fig_extension, dpi=resolution)\n",
    "\n",
    "print('setup complete.')"
   ]
  },
  {
   "source": [
    "## Convolutional Layers\n",
    "\n",
    "- neurons in the previous layer are not fully connected to every neuron in the next layer\n",
    "\n",
    "- each neuron in a later layer is only connected to a **limited field** of neurons in the previous layer\n",
    "\n",
    "- this architecture allows the **identification** of **lower-level features** via the **earlier layers** and the **assembly** of **higher-level features** in **later layers**\n",
    "\n",
    "- **zero padding** : one ring of **zero values** added around the **boundary** of input data so that the output of convolution is in the **same shape**. \n",
    "\n",
    "- **stride** : spacing between each receptive field, which could reduce the size of the output. "
   ],
   "cell_type": "markdown",
   "metadata": {}
  },
  {
   "source": [
    "## Filters\n",
    "\n",
    "- A **filter**, or **convolution kernel**, represents the **weights** applied to the receptive field cropped out from input data during each step of scan\n",
    "\n",
    "- the **weights** in the filter indicate **the extent to which each piece of info in the receptive field will be retained, or ignored**. \n",
    "\n",
    "- each **filter** produces one **feature map**, which highlights the info in input data that **activates**, or **match**, the pattern of the filter the most. \n",
    "\n",
    "- each **pixel** in a feature map is one **neuron**. \n",
    "\n",
    "- all neurons, or \"pixels\", in a feature map **share the _same_ set of weights**, as opposed to common DNN, in which all neurons in one layer have totally different **sets of weights**.  \n",
    "\n",
    "- each feature map is associated with one unique set of weights (filter) \n",
    "\n",
    "- a **convolution process** applies simultaniously multiple **filters**, or multiple **sets of weights**, to inputs, making it capable of detecting multiple **features**. \n",
    "\n",
    "- the training of a CNN is the process of **learning** automatically these **filters, or sets of weights** for the task as defined\n",
    "\n",
    "- higher layers will learn the **combined features** for more **complex patterns**. \n"
   ],
   "cell_type": "markdown",
   "metadata": {}
  },
  {
   "cell_type": "code",
   "execution_count": null,
   "metadata": {},
   "outputs": [],
   "source": []
  }
 ]
}